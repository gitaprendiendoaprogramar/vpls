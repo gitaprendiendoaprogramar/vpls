{
 "cells": [
  {
   "cell_type": "code",
   "execution_count": 1,
   "metadata": {},
   "outputs": [
    {
     "name": "stdout",
     "output_type": "stream",
     "text": [
      "Requirement already satisfied: tutormagic in c:\\users\\usuario\\anaconda3\\lib\\site-packages (0.3.0)\n",
      "Requirement already satisfied: notebook>=3.0 in c:\\users\\usuario\\anaconda3\\lib\\site-packages (from tutormagic) (6.0.3)\n",
      "Requirement already satisfied: prometheus-client in c:\\users\\usuario\\anaconda3\\lib\\site-packages (from notebook>=3.0->tutormagic) (0.8.0)\n",
      "Requirement already satisfied: jupyter-client>=5.3.4 in c:\\users\\usuario\\anaconda3\\lib\\site-packages (from notebook>=3.0->tutormagic) (6.1.6)\n",
      "Requirement already satisfied: ipython-genutils in c:\\users\\usuario\\anaconda3\\lib\\site-packages (from notebook>=3.0->tutormagic) (0.2.0)\n",
      "Requirement already satisfied: traitlets>=4.2.1 in c:\\users\\usuario\\anaconda3\\lib\\site-packages (from notebook>=3.0->tutormagic) (4.3.3)\n",
      "Requirement already satisfied: jinja2 in c:\\users\\usuario\\anaconda3\\lib\\site-packages (from notebook>=3.0->tutormagic) (2.11.2)\n",
      "Requirement already satisfied: pyzmq>=17 in c:\\users\\usuario\\anaconda3\\lib\\site-packages (from notebook>=3.0->tutormagic) (19.0.1)\n",
      "Requirement already satisfied: nbformat in c:\\users\\usuario\\anaconda3\\lib\\site-packages (from notebook>=3.0->tutormagic) (5.0.7)\n",
      "Requirement already satisfied: tornado>=5.0 in c:\\users\\usuario\\anaconda3\\lib\\site-packages (from notebook>=3.0->tutormagic) (6.0.4)\n",
      "Requirement already satisfied: ipykernel in c:\\users\\usuario\\anaconda3\\lib\\site-packages (from notebook>=3.0->tutormagic) (5.3.2)\n",
      "Requirement already satisfied: terminado>=0.8.1 in c:\\users\\usuario\\anaconda3\\lib\\site-packages (from notebook>=3.0->tutormagic) (0.8.3)\n",
      "Requirement already satisfied: nbconvert in c:\\users\\usuario\\anaconda3\\lib\\site-packages (from notebook>=3.0->tutormagic) (5.6.1)\n",
      "Requirement already satisfied: jupyter-core>=4.6.1 in c:\\users\\usuario\\anaconda3\\lib\\site-packages (from notebook>=3.0->tutormagic) (4.6.3)\n",
      "Requirement already satisfied: Send2Trash in c:\\users\\usuario\\anaconda3\\lib\\site-packages (from notebook>=3.0->tutormagic) (1.5.0)\n",
      "Requirement already satisfied: python-dateutil>=2.1 in c:\\users\\usuario\\anaconda3\\lib\\site-packages (from jupyter-client>=5.3.4->notebook>=3.0->tutormagic) (2.8.1)\n",
      "Requirement already satisfied: decorator in c:\\users\\usuario\\anaconda3\\lib\\site-packages (from traitlets>=4.2.1->notebook>=3.0->tutormagic) (4.4.2)\n",
      "Requirement already satisfied: six in c:\\users\\usuario\\anaconda3\\lib\\site-packages (from traitlets>=4.2.1->notebook>=3.0->tutormagic) (1.15.0)\n",
      "Requirement already satisfied: MarkupSafe>=0.23 in c:\\users\\usuario\\anaconda3\\lib\\site-packages (from jinja2->notebook>=3.0->tutormagic) (1.1.1)\n",
      "Requirement already satisfied: jsonschema!=2.5.0,>=2.4 in c:\\users\\usuario\\anaconda3\\lib\\site-packages (from nbformat->notebook>=3.0->tutormagic) (3.2.0)\n",
      "Requirement already satisfied: ipython>=5.0.0 in c:\\users\\usuario\\anaconda3\\lib\\site-packages (from ipykernel->notebook>=3.0->tutormagic) (7.16.1)\n",
      "Requirement already satisfied: mistune<2,>=0.8.1 in c:\\users\\usuario\\anaconda3\\lib\\site-packages (from nbconvert->notebook>=3.0->tutormagic) (0.8.4)\n",
      "Requirement already satisfied: pygments in c:\\users\\usuario\\anaconda3\\lib\\site-packages (from nbconvert->notebook>=3.0->tutormagic) (2.6.1)\n",
      "Requirement already satisfied: pandocfilters>=1.4.1 in c:\\users\\usuario\\anaconda3\\lib\\site-packages (from nbconvert->notebook>=3.0->tutormagic) (1.4.2)\n",
      "Requirement already satisfied: bleach in c:\\users\\usuario\\anaconda3\\lib\\site-packages (from nbconvert->notebook>=3.0->tutormagic) (3.1.5)\n",
      "Requirement already satisfied: defusedxml in c:\\users\\usuario\\anaconda3\\lib\\site-packages (from nbconvert->notebook>=3.0->tutormagic) (0.6.0)\n",
      "Requirement already satisfied: entrypoints>=0.2.2 in c:\\users\\usuario\\anaconda3\\lib\\site-packages (from nbconvert->notebook>=3.0->tutormagic) (0.3)\n",
      "Requirement already satisfied: testpath in c:\\users\\usuario\\anaconda3\\lib\\site-packages (from nbconvert->notebook>=3.0->tutormagic) (0.4.4)\n",
      "Requirement already satisfied: pywin32>=1.0; sys_platform == \"win32\" in c:\\users\\usuario\\anaconda3\\lib\\site-packages (from jupyter-core>=4.6.1->notebook>=3.0->tutormagic) (227)\n",
      "Requirement already satisfied: pyrsistent>=0.14.0 in c:\\users\\usuario\\anaconda3\\lib\\site-packages (from jsonschema!=2.5.0,>=2.4->nbformat->notebook>=3.0->tutormagic) (0.16.0)\n",
      "Requirement already satisfied: attrs>=17.4.0 in c:\\users\\usuario\\anaconda3\\lib\\site-packages (from jsonschema!=2.5.0,>=2.4->nbformat->notebook>=3.0->tutormagic) (19.3.0)\n",
      "Requirement already satisfied: setuptools in c:\\users\\usuario\\anaconda3\\lib\\site-packages (from jsonschema!=2.5.0,>=2.4->nbformat->notebook>=3.0->tutormagic) (49.2.0.post20200714)\n",
      "Requirement already satisfied: backcall in c:\\users\\usuario\\anaconda3\\lib\\site-packages (from ipython>=5.0.0->ipykernel->notebook>=3.0->tutormagic) (0.2.0)\n",
      "Requirement already satisfied: prompt-toolkit!=3.0.0,!=3.0.1,<3.1.0,>=2.0.0 in c:\\users\\usuario\\anaconda3\\lib\\site-packages (from ipython>=5.0.0->ipykernel->notebook>=3.0->tutormagic) (3.0.5)\n",
      "Requirement already satisfied: colorama; sys_platform == \"win32\" in c:\\users\\usuario\\anaconda3\\lib\\site-packages (from ipython>=5.0.0->ipykernel->notebook>=3.0->tutormagic) (0.4.3)\n",
      "Requirement already satisfied: jedi>=0.10 in c:\\users\\usuario\\anaconda3\\lib\\site-packages (from ipython>=5.0.0->ipykernel->notebook>=3.0->tutormagic) (0.17.1)\n",
      "Requirement already satisfied: pickleshare in c:\\users\\usuario\\anaconda3\\lib\\site-packages (from ipython>=5.0.0->ipykernel->notebook>=3.0->tutormagic) (0.7.5)\n",
      "Requirement already satisfied: webencodings in c:\\users\\usuario\\anaconda3\\lib\\site-packages (from bleach->nbconvert->notebook>=3.0->tutormagic) (0.5.1)\n",
      "Requirement already satisfied: packaging in c:\\users\\usuario\\anaconda3\\lib\\site-packages (from bleach->nbconvert->notebook>=3.0->tutormagic) (20.4)\n",
      "Requirement already satisfied: wcwidth in c:\\users\\usuario\\anaconda3\\lib\\site-packages (from prompt-toolkit!=3.0.0,!=3.0.1,<3.1.0,>=2.0.0->ipython>=5.0.0->ipykernel->notebook>=3.0->tutormagic) (0.2.5)\n",
      "Requirement already satisfied: parso<0.8.0,>=0.7.0 in c:\\users\\usuario\\anaconda3\\lib\\site-packages (from jedi>=0.10->ipython>=5.0.0->ipykernel->notebook>=3.0->tutormagic) (0.7.0)\n",
      "Requirement already satisfied: pyparsing>=2.0.2 in c:\\users\\usuario\\anaconda3\\lib\\site-packages (from packaging->bleach->nbconvert->notebook>=3.0->tutormagic) (2.4.7)\n"
     ]
    }
   ],
   "source": [
    "## instalacion del tutormagic, es una herramienta que ayudas enter lo que hace la maquina detras de cada función\n",
    "!pip install tutormagic\n",
    "\n",
    "# cargar la extensión\n",
    "%load_ext tutormagic"
   ]
  },
  {
   "cell_type": "markdown",
   "metadata": {},
   "source": [
    "# Ejemplo1\n",
    "Cree un programa en Python 3 que le solicite al usuario ingresar tres números enteros. Debe realizar una función que sume los dos primeros números ingresados y reste el tercer número. Muestre únicamente el resultado de estas operaciones.\n",
    "\n",
    "Por ejemplo si el usuario ingresa los números 5, 4 y 3 el programa debe mostrar:\n",
    "\n",
    "6"
   ]
  },
  {
   "cell_type": "code",
   "execution_count": 12,
   "metadata": {},
   "outputs": [
    {
     "name": "stdout",
     "output_type": "stream",
     "text": [
      "Ingrese un numero entero\n",
      "2\n",
      "Ingrese un numero entero\n",
      "45\n",
      "Ingrese un numero entero\n",
      "32\n",
      "15\n"
     ]
    }
   ],
   "source": [
    "numero1 = int(input(\"Ingrese un numero entero\\n\"))\n",
    "numero2 = int(input(\"Ingrese un numero entero\\n\"))\n",
    "numero3 = int(input(\"Ingrese un numero entero\\n\"))\n",
    "\n",
    "def suma_numeros(x, y, z):\n",
    "    operacion = (x + y) - z\n",
    "    return operacion\n",
    "h = suma_numeros(numero1, numero2, numero3)\n",
    "print(h)\n",
    "\n",
    "        "
   ]
  },
  {
   "cell_type": "markdown",
   "metadata": {},
   "source": [
    "# Ejemplo 2\n",
    "Cree un programa en Python 3 que le solicite al usuario ingresar un número entero positivo y diga si es primo o no, en caso afirmativo mostrar por pantalla 'primo' en caso contrario mostrar 'no primo' .Muestre exclusivamente 'primo' o 'no primo' segun sea el caso sin enunciados adicionales que lo acompañen.\n",
    "\n",
    "Nota: un número es primo si es divisible únicamente por uno y el por el mismo.\n",
    "\n",
    "por ejemplo si el usuario ingresa  5 el programa debe mostrar\n",
    "\n",
    "primo"
   ]
  },
  {
   "cell_type": "code",
   "execution_count": 15,
   "metadata": {},
   "outputs": [
    {
     "name": "stdout",
     "output_type": "stream",
     "text": [
      "The tutormagic extension is already loaded. To reload it, use:\n",
      "  %reload_ext tutormagic\n",
      "Ingrese un numero entero\n",
      "567\n",
      "primo\n"
     ]
    }
   ],
   "source": [
    "%load_ext tutormagic\n",
    "def isprimo(x):\n",
    "    if numero <1:\n",
    "        return False\n",
    "    elif numero ==2:\n",
    "        return True\n",
    "    else:\n",
    "        for i in range(2,numero,2):\n",
    "            if numero%i ==0:\n",
    "                return False\n",
    "        return True        \n",
    "\n",
    "numero = int(input(\"Ingrese un numero entero\\n\"))\n",
    "\n",
    "resultado = isprimo(numero)\n",
    "if resultado is True:\n",
    "    print(\"primo\")\n",
    "else:\n",
    "    print(\"no primo\")\n",
    "    \n",
    "       "
   ]
  },
  {
   "cell_type": "markdown",
   "metadata": {},
   "source": [
    "# Ejemplo 3\n",
    "Cree un programa en Python 3 que le solicite al usuario ingresar el lado (L) de un cubo. Realice una función que calcule el área superficial de dicho cubo. Muestre únicamente el resultado.\n",
    "\n",
    "Por ejemplo, si el usuario ingresa lado = 3, el programa debe mostrar:\n",
    "\n",
    "54"
   ]
  },
  {
   "cell_type": "code",
   "execution_count": null,
   "metadata": {},
   "outputs": [],
   "source": [
    "lado = float(input(\"Ingrese un número\\n\"))\n",
    "def area(x):\n",
    "    area = round(6*x**2)\n",
    "    return area\n",
    "area = area(lado)\n",
    "print(area)"
   ]
  },
  {
   "cell_type": "markdown",
   "metadata": {},
   "source": [
    "# Ejemplo 4\n",
    "Una urbanización tiene un tanque cilíndrico de almacenaje de agua y desean saber cuánta agua le cabe antes de derramarse. Cree un programa en Python 3 que le solicite al usuario ingresar el diámetro y la altura del tanque. Realice una función que calcule el volumen (aproximado a dos cifras decimales). Muestre únicamente el resultado.\n",
    "\n",
    "Nota: utilizar pi = 3.14\n",
    "\n",
    "Por ejemplo, si el usuario ingresa un diámetro de 2 y una altura de 5 el programa debe mostrar:\n",
    "\n",
    "15,7"
   ]
  },
  {
   "cell_type": "code",
   "execution_count": null,
   "metadata": {},
   "outputs": [],
   "source": [
    "diametro = float(input(\"Ingrese un numero que corresponde al diametro del tanque\"))\n",
    "altura = float(input(\"Ingrese un numero que corresponde a la altura\"))\n",
    "pi = 3.14\n",
    "def volumen(x,y):\n",
    "    vol = round((pi*(x/2)**2*y),2)\n",
    "    return vol\n",
    "volum = volumen(diametro, altura)    \n",
    "print(volum)"
   ]
  },
  {
   "cell_type": "markdown",
   "metadata": {},
   "source": [
    "# Ejemplo 5\n",
    "Un médico desea tener un programa que le ayude a calcular el índice de masa corporal (peso/estatura^2). Cree un programa en Python 3 que le solicite ingresar el peso (kg) y la estatura (m) del paciente. Realice la función que calcule el IMC y muestre exclusivamente el resultado en porcentaje (sin el signo%), aproximado a dos cifras decimales.\n",
    "\n",
    "Por ejemplo, si el usuario ingresa un peso de 112 kilogramos y una estatura de 1.48 metros, el programa debe mostrar:\n",
    "\n",
    "51,13"
   ]
  },
  {
   "cell_type": "code",
   "execution_count": 1,
   "metadata": {},
   "outputs": [
    {
     "name": "stdout",
     "output_type": "stream",
     "text": [
      "Ingrese su peso34\n",
      "ingrese su estatura12.4\n",
      "0.22\n"
     ]
    }
   ],
   "source": [
    "peso = int(input(\"Ingrese su peso\"))\n",
    "estatu = float(input(\"ingrese su estatura\"))\n",
    "\n",
    "def imc(x,y):\n",
    "    imc = round((x/y**2),2)\n",
    "    return imc\n",
    "indice = imc(peso, estatu)\n",
    "print(indice)"
   ]
  },
  {
   "cell_type": "markdown",
   "metadata": {},
   "source": [
    "# Ejemplo 6\n",
    "Una aerolínea desea tener un programa que le calcule el costo de un viaje. Cree un programa en Python 3 que le solicite al usuario ingresar el costo del vuelo por persona, los impuestos por persona y la cantidad de viajeros. Calcule con una función el costo total del vuelo así: (Costo del vuelo por persona + impuestos por persona) * cantidad de personas.\n",
    "\n",
    "Por ejemplo, si el usuario ingresa un costo de vuelo de 2500000, unos impuestos de 300000, y una cantidad de viajeros de 10; el programa debe mostrar:\n",
    "\n",
    "28000000"
   ]
  },
  {
   "cell_type": "code",
   "execution_count": 4,
   "metadata": {},
   "outputs": [
    {
     "name": "stdout",
     "output_type": "stream",
     "text": [
      "Ingrese el costo de vuelo2345\n",
      "Ingrese el impuesto2345\n",
      "Ingrese la cantida de viajeros6\n",
      "28140\n"
     ]
    }
   ],
   "source": [
    "costo = float(input(\"Ingrese el costo de vuelo\"))\n",
    "impuestos = float(input(\"Ingrese el impuesto\"))\n",
    "canti = int(input(\"Ingrese la cantida de viajeros\"))\n",
    "\n",
    "def costo_viaje(x,y,z):\n",
    "    costo_t = round((x+y)*z)\n",
    "    return costo_t\n",
    "costo_tot = costo_viaje(costo, impuestos, canti)\n",
    "print(costo_tot)"
   ]
  },
  {
   "cell_type": "markdown",
   "metadata": {},
   "source": [
    "# ejemplo 7\n",
    "Cree un programa en Python 3 que le solicite al usuario ingresar una lista de números enteros. Su programa debe generar como resultado la suma de los números pares de la lista y la multiplicación de los impares. Debe funcionar para listas de cualquier tamaño. Muestre exclusivamente el resultado final de la suma y del producto sin enunciados adicionales que lo acompañen.\n",
    "\n",
    "Nota: Utilizar el comando eval() para convertir un string en  lista.\n",
    "\n",
    "Por ejemplo, si el usuario ingresa la lista  [1,2,3,4,5], el programa debe mostrar:\n",
    "\n",
    "6\n",
    "15"
   ]
  },
  {
   "cell_type": "code",
   "execution_count": 5,
   "metadata": {},
   "outputs": [
    {
     "name": "stdout",
     "output_type": "stream",
     "text": [
      "impar\n",
      "impar\n",
      "impar\n",
      "impar\n",
      "impar\n"
     ]
    },
    {
     "ename": "IndexError",
     "evalue": "list index out of range",
     "output_type": "error",
     "traceback": [
      "\u001b[1;31m---------------------------------------------------------------------------\u001b[0m",
      "\u001b[1;31mIndexError\u001b[0m                                Traceback (most recent call last)",
      "\u001b[1;32m<ipython-input-5-9cf31175fa95>\u001b[0m in \u001b[0;36m<module>\u001b[1;34m\u001b[0m\n\u001b[0;32m      4\u001b[0m \u001b[1;32mfor\u001b[0m \u001b[0mi\u001b[0m \u001b[1;32min\u001b[0m \u001b[0mlista\u001b[0m\u001b[1;33m:\u001b[0m\u001b[1;33m\u001b[0m\u001b[1;33m\u001b[0m\u001b[0m\n\u001b[0;32m      5\u001b[0m     \u001b[1;32mif\u001b[0m \u001b[0mi\u001b[0m\u001b[1;33m%\u001b[0m\u001b[1;36m2\u001b[0m \u001b[1;33m==\u001b[0m\u001b[1;36m0\u001b[0m\u001b[1;33m:\u001b[0m\u001b[1;33m\u001b[0m\u001b[1;33m\u001b[0m\u001b[0m\n\u001b[1;32m----> 6\u001b[1;33m         \u001b[0msuma\u001b[0m \u001b[1;33m+=\u001b[0m \u001b[0mlista\u001b[0m\u001b[1;33m[\u001b[0m\u001b[0mi\u001b[0m\u001b[1;33m]\u001b[0m\u001b[1;33m\u001b[0m\u001b[1;33m\u001b[0m\u001b[0m\n\u001b[0m\u001b[0;32m      7\u001b[0m     \u001b[1;32melse\u001b[0m\u001b[1;33m:\u001b[0m\u001b[1;33m\u001b[0m\u001b[1;33m\u001b[0m\u001b[0m\n\u001b[0;32m      8\u001b[0m         \u001b[0mprint\u001b[0m\u001b[1;33m(\u001b[0m\u001b[1;34m\"impar\"\u001b[0m\u001b[1;33m)\u001b[0m\u001b[1;33m\u001b[0m\u001b[1;33m\u001b[0m\u001b[0m\n",
      "\u001b[1;31mIndexError\u001b[0m: list index out of range"
     ]
    }
   ],
   "source": [
    "lista = [1,3,45,667,23,56,2,4,6,8]\n",
    "suma =0\n",
    "i =0\n",
    "for i in lista:\n",
    "    if i%2 ==0:\n",
    "        suma += lista[i]\n",
    "    else:\n",
    "        print(\"impar\")\n",
    "        \n",
    "for i in list        "
   ]
  },
  {
   "cell_type": "code",
   "execution_count": 1,
   "metadata": {},
   "outputs": [
    {
     "name": "stdout",
     "output_type": "stream",
     "text": [
      "[1,3,45,667,23,56,2,4,6,8]\n",
      "76\n",
      "2071035\n"
     ]
    }
   ],
   "source": [
    "lista = eval(input( ))\n",
    "suma = 0\n",
    "i = 0\n",
    "multi = 1\n",
    "while i <len(lista):\n",
    "    if lista[i]%2 ==0:\n",
    "        suma += lista[i]\n",
    "    else:\n",
    "        multi *=lista[i]\n",
    "    i = i+1 \n",
    "print(suma)\n",
    "print(multi)\n",
    "            "
   ]
  },
  {
   "cell_type": "markdown",
   "metadata": {},
   "source": [
    "# Ejemplo 9\n",
    "Cree un programa en Python 3 que le solicite al usuario ingresar dos  números enteros  positivos, en el que el primer número es menor que el segundo, y entregue como resultado los múltiplos de cinco que hay entre los dos números (incluyéndolos) y la cantidad de múltiplos de cinco entre los dos números. Muestre exclusivamente cada múltiplo de cinco y la cantidad de múltiiplos en lineas diferentes, sin enunciados adicionales que lo acompañen.\n",
    "\n",
    "Por ejemplo, si el usuario ingresa los números 6 y 21, el programa debe mostrar:\n",
    "\n",
    "10\n",
    "15\n",
    "20\n",
    "3"
   ]
  },
  {
   "cell_type": "code",
   "execution_count": 4,
   "metadata": {},
   "outputs": [
    {
     "name": "stdout",
     "output_type": "stream",
     "text": [
      "Ingrese un número: 34\n",
      "Ingrese otro número: 60\n",
      "35\n",
      "40\n",
      "45\n",
      "50\n",
      "55\n",
      "60\n",
      "6\n"
     ]
    }
   ],
   "source": [
    "numero = int(input(\"Ingrese un número: \"))\n",
    "numero2 = int(input(\"Ingrese otro número: \"))\n",
    "lista = []\n",
    "for i in range(numero, numero2+1):\n",
    "    if i%5 ==0:\n",
    "        lista.append(i)\n",
    "        \n",
    "lista.append(len(lista))        \n",
    "for i in lista:\n",
    "    print(i)\n",
    "    "
   ]
  },
  {
   "cell_type": "markdown",
   "metadata": {},
   "source": [
    "# Ejemplo 9\n",
    "Cree un programa en Python 3 que le solicite al usuario ingresar un número entero y entregue como resultado el factorial del número. Muestre exclusivamente el factorial del número sin enunciados adicionales que lo acompañen.\n",
    "\n",
    "Nota: El factorial de un número n es = 1*2*3*4*...*(n-1)*n\n",
    "\n",
    "por ejemplo si el usuario ingresa  5 el programa debe mostrar\n",
    "\n",
    "120"
   ]
  },
  {
   "cell_type": "code",
   "execution_count": 81,
   "metadata": {},
   "outputs": [
    {
     "name": "stdout",
     "output_type": "stream",
     "text": [
      "Ingrese al usuario un número entero: 8\n",
      "40320\n"
     ]
    }
   ],
   "source": [
    "numero= int(input(\"Ingrese al usuario un número entero: \"))\n",
    "\n",
    "def funt(x):\n",
    "    lista=[]\n",
    "    j = 1\n",
    "    for i in range(0,x-1):\n",
    "        j *=(x-i)\n",
    "        lista.append(j)\n",
    "    print(lista[-1])\n",
    "    \n",
    "h = funt(numero)    "
   ]
  },
  {
   "cell_type": "markdown",
   "metadata": {},
   "source": [
    "# Ejemplo 10\n",
    "Un gimnasio requiere un programa que según el estrato y la cantidad de días por semana que asistirá una persona al gimnasio devuelva el valor de la mensualidad. Cree un programa en Python 3 que le solicite al usuario ingresar dos números enteros que corresponden al estrato(1-5) y a la cantidad de días respectivamente(1-7), los criterios para asignar el valor de la mesualidad son : si es de estrato 1 tiene un costo de 100000 3 días o menos, 60000 6 o 7 días y 80000 en caso contrario. si es de estrato 2 tiene un costo de 120000 3 días o menos, 80000 6 o 7 días y 100000 en caso contrario, si es de estrato 3 tiene un costo de 160000 3 días o menos, 120000 6 o 7 días y 140000 en caso contrario, para cualquier otro estrato tiene un costo de 200000. Muestre exclusivamente el costo de la mensualidad sin enunciados adicionales que lo acompañen.\n",
    "\n",
    "por ejemplo si el usuario ingresa  4 7 el programa debe mostrar\n",
    "\n",
    "200000\n"
   ]
  },
  {
   "cell_type": "code",
   "execution_count": 10,
   "metadata": {},
   "outputs": [
    {
     "name": "stdout",
     "output_type": "stream",
     "text": [
      "Ingrese su estrato: 3\n",
      "Ingrese la acntida de dias que va al gimnacio en la semana: 4\n",
      "140000\n"
     ]
    }
   ],
   "source": [
    "numero2 = int(input(\"Ingrese su estrato: \"))\n",
    "numero = int(input(\"Ingrese la cantida de dias que va al gimnacio en la semana: \"))\n",
    "# lista1 = [1,2,3,4,5,6,7]\n",
    "# lista2 = [1,2,3,4,5]\n",
    "dic = {\"3 dias o menos estrato1\": 100000, \"3 dias o menos estrato2\": 120000,\"3 dias o menos estrato3\": 160000}\n",
    "dicc1 = {\"6 o 7 dias estrato1\": 60000, \"6 o 7 dias estrato2\": 80000, \"6 o 7 dias estrato3\": 120000}\n",
    "dicc2 = {\"en otro caso estrato1\": 80000, \"en otro caso estrato2\": 100000, \"en otro caso estrato3\": 140000}\n",
    "# dic1 = {\"3 dias o menos\": 100000, \"6 o 7 dias\": 60000, \"en otro caso\": 800000, \"dias\":lista1, \"estrato\":lista2}\n",
    "# dic12 = {\"3 dias o menos\": 120000, \"6 o 7 dias\": 80000, \"en otro caso\": 100000, \"dias\":lista1, \"estrato\":lista2}\n",
    "# dic1 = {\"3 dias o menos\": 160000, \"6 o 7 dias\": 120000, \"en otro caso\": 140000, \"dias\":lista1, \"estrato\":lista2}\n",
    "j = 200000       \n",
    "if numero<=3:\n",
    "    if numero2 ==1:\n",
    "        print(dic[\"3 dias o menos estrato1\"])\n",
    "    elif numero2==2:\n",
    "        print(dic[\"3 dias o menos estrato2\"])\n",
    "    \n",
    "    elif numero2 ==3:\n",
    "        print(dic[\"3 dias o menos estrato3\"])\n",
    "    else:\n",
    "        print(j)\n",
    "            \n",
    "elif 6<=numero<=7:\n",
    "    if numero2 ==1:\n",
    "        print(dicc1[\"6 o 7 dias estrato1\"])\n",
    "    elif numero2==2:\n",
    "        print(dicc1[\"6 o 7 dias estrato2\"])\n",
    "    \n",
    "    elif numero2 ==3:\n",
    "        print(dicc1[\"6 o 7 dias estrato3\"])\n",
    "    else:\n",
    "        print(j)\n",
    "        \n",
    "else:\n",
    "    if numero2 ==1:\n",
    "        print(dicc2[\"en otro caso estrato1\"])\n",
    "    elif numero2==2:\n",
    "        print(dicc2[\"en otro caso estrato2\"])\n",
    "    elif numero2 ==3:\n",
    "        print(dicc2[\"en otro caso estrato3\"])\n",
    "    else:\n",
    "        print(j)"
   ]
  },
  {
   "cell_type": "code",
   "execution_count": 5,
   "metadata": {},
   "outputs": [
    {
     "name": "stdout",
     "output_type": "stream",
     "text": [
      "12\n",
      "1\n",
      "34\n",
      "-1\n",
      "['12', '1', '34', '-1']\n"
     ]
    }
   ],
   "source": [
    "lista = []\n",
    "for i in range(0,500):\n",
    "    j = input()\n",
    "    lista.append(j\n",
    "                \n",
    "                      "
   ]
  },
  {
   "cell_type": "code",
   "execution_count": null,
   "metadata": {},
   "outputs": [],
   "source": [
    "\n",
    "s=input(\"Ingrese un número entero de 4 dígitos: \")\n",
    "f=False;\n",
    "for k in range(0,len(s)):\n",
    "    if int(s[k])%2==0:\n",
    "        f=True;\n",
    "        break;\n",
    "if f:\n",
    "    print(\"Todos los dígitos son pares\")\n",
    "else:\n",
    "    print(\"No todos los dígitos son pares\")"
   ]
  },
  {
   "cell_type": "code",
   "execution_count": null,
   "metadata": {},
   "outputs": [
    {
     "name": "stdout",
     "output_type": "stream",
     "text": [
      "Ingrese un número entero de 4 dígitos: 468\n",
      "Todos los dígitos son pares\n",
      "Ingrese un número entero de 4 dígitos: 135\n",
      "No todos los dígitos son pares\n",
      "Ingrese un número entero de 4 dígitos: 678\n",
      "Todos los dígitos son pares\n",
      "Ingrese un número entero de 4 dígitos: 12345\n",
      "Todos los dígitos son pares\n",
      "Ingrese un número entero de 4 dígitos: 1357\n",
      "No todos los dígitos son pares\n"
     ]
    }
   ],
   "source": [
    "for i in range(0,500):\n",
    "    s=input(\"Ingrese un número entero de 4 dígitos: \")\n",
    "    f=False;\n",
    "    for k in range(0,len(s)):\n",
    "        if int(s[k])%2==0:\n",
    "            f=True;\n",
    "            break;\n",
    "    if f:\n",
    "        print(\"Todos los dígitos son pares\")\n",
    "    else:\n",
    "        print(\"No todos los dígitos son pares\")"
   ]
  }
 ],
 "metadata": {
  "kernelspec": {
   "display_name": "Python 3",
   "language": "python",
   "name": "python3"
  },
  "language_info": {
   "codemirror_mode": {
    "name": "ipython",
    "version": 3
   },
   "file_extension": ".py",
   "mimetype": "text/x-python",
   "name": "python",
   "nbconvert_exporter": "python",
   "pygments_lexer": "ipython3",
   "version": "3.8.3"
  }
 },
 "nbformat": 4,
 "nbformat_minor": 4
}
