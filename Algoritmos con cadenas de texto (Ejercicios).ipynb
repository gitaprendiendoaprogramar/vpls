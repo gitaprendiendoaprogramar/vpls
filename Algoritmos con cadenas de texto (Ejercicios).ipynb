{
 "cells": [
  {
   "cell_type": "markdown",
   "metadata": {},
   "source": [
    "# Ejemplo 1\n",
    "Cree un programa en Python 3 que le solicite al usuario dos datos de entrada (números o letras). En el caso de que alguno de los dos datos sea un número mostrar por pantalla el mensaje \"Error\".  En caso contrario debe mostrar el primer dato en mayúscula concatenado con el segundo dato en minúscula  hasta la penúltima letra. El programa debe mostrar como resultado exclusivamente lo solicitado, no debe contener letras ni enunciados adicionales que lo acompañen.\n",
    "\n",
    "Nota: \n",
    "\n",
    "La función \".isalpha()\" (*.isalpha() ) devuelve True si el dato es alfabético o False en caso contrario. \n",
    "\n",
    "La función \".upper()\" transforma un string en mayúsculas \n",
    "\n",
    "La función \".lower()\" transforma un string en minúsculas.\n",
    "\n",
    "Por ejemplo si el usuario ingresa carro casa el programa debería mostrar\n",
    "\n",
    "CARROcas"
   ]
  },
  {
   "cell_type": "code",
   "execution_count": null,
   "metadata": {},
   "outputs": [],
   "source": [
    "# Teniendolos pegados\n",
    "datos = input()\n",
    "if datos.isnumeric() == True:\n",
    "    print(\"Error\")\n",
    "else:\n",
    "    x = datos.split()\n",
    "    y = x[0].upper()\n",
    "    z = x[1]\n",
    "    t = y+z\n",
    "    temp = len(t)\n",
    "    t = t[:temp -1]\n",
    "    print(t)\n",
    "    \n",
    "### teneindo las entradas por separado\n",
    "\n",
    "dato1 = input()\n",
    "dato2 = input()\n",
    "\n",
    "if (dato1.isnumeric()  or dato2.isnumeric()) == True:\n",
    "    print(\"Error\")\n",
    "else:\n",
    "    y = dato1.upper()\n",
    "    t = y + dato2\n",
    "    temp = len(t)\n",
    "    t = t[:temp -1]\n",
    "    print(t)    "
   ]
  },
  {
   "cell_type": "markdown",
   "metadata": {},
   "source": [
    "# Ejemplo 2\n",
    "Inicialmente se solicita al usuario un string correspondiente a la figura a la cual se calculará el área (triángulo, círculo, cuadrado, rectángulo), luego según sea la figura se deben pedir los datos adicionales como números enteros (triángulo: base y altura; círculo: radio; cuadrado: lado; rectángulo: base y altura). Se solicita que cree un programa en Python 3 que calcule el área correspondiente, en el caso de que no sea una de las figuras antes mencionadas mostrar el mensaje 'error' . Muestre exclusivamente el área de la figura solicitada aproximado a dos cifras decimales o el mensaje 'error', según corresponda sin enunciados extra que lo acompañen.\n",
    "\n",
    "Nota: utilizar pi=3.1416\n",
    "\n",
    "Por ejemplo, si el usuario ingresa círculo como figura y 7 como radio, el programa debe mostrar\n",
    "\n",
    "153.94"
   ]
  },
  {
   "cell_type": "code",
   "execution_count": 1,
   "metadata": {},
   "outputs": [
    {
     "name": "stdout",
     "output_type": "stream",
     "text": [
      "rombo\n",
      "error\n",
      "error\n",
      "error\n",
      "error\n"
     ]
    }
   ],
   "source": [
    "figura = input()\n",
    "\n",
    "lista = [\"triangulo\", \"circulo\", \"cuadrado\", \"rectangulo\"]\n",
    "\n",
    "if figura ==\"triangulo\":\n",
    "    base = int(input(\"Ingrese un número correspondiente a la base del triangulo: \"))\n",
    "    altura = int(input(\"Ingrese un número correspodiente a la altura del triangulo: \"))\n",
    "    area = round((base*altura))\n",
    "    print(area)\n",
    "else:\n",
    "    if figura not in lista:\n",
    "        print(\"error\")\n",
    "\n",
    "        \n",
    "if figura == \"circulo\":\n",
    "    radio = int(input(\"Ingrese un número que correspondera al radio de un circulo: \"))\n",
    "    area = round((3.1416*radio**2),2)\n",
    "    print(area)\n",
    "else:\n",
    "    if figura not in lista:\n",
    "        print(\"error\")\n",
    "    \n",
    "    \n",
    "if figura == \"cuadrado\":\n",
    "    lado = int(input(\"Ingrese un número correspondiente al lado de un cuadrado: \"))\n",
    "    area = round((lado*lado),2)\n",
    "    print(area)\n",
    "else:\n",
    "    if figura not in lista:\n",
    "        print(\"error\")\n",
    "if figura == \"rectangulo\":\n",
    "    base = int(input(\"Ingrese un número correspondiente a la base del rectangulo: \"))\n",
    "    altura = int(input(\"Ingrese un número correspodiente a la altura del rectangulo: \"))\n",
    "    area = round(((base*altura)/2),2)\n",
    "    print(area)\n",
    "else:\n",
    "    if figura not in lista:\n",
    "        print(\"error\")\n"
   ]
  },
  {
   "cell_type": "markdown",
   "metadata": {},
   "source": [
    "# Ejemplo 3\n",
    "Cree un programa en Python 3 que le solicite al usuario una letra en minúscula, y luego verifique si la letra ingresada es una vocal o no , en el caso de ser una vocal mostrar 'es vocal', de lo contrario mostrar 'no es vocal'. Muestre exclusivamente 'es vocal' o 'no es vocal' según corresponda sin enunciados extra que lo acompañen.\n",
    "\n",
    "Por ejemplo, si el usuario ingresa la letra  b, el programa debe mostrar\n",
    "\n",
    "no es vocal"
   ]
  },
  {
   "cell_type": "code",
   "execution_count": 3,
   "metadata": {},
   "outputs": [
    {
     "name": "stdout",
     "output_type": "stream",
     "text": [
      "Ingrese una letra: e\n",
      "es vocal\n"
     ]
    }
   ],
   "source": [
    "letra = input(\"Ingrese una letra: \")\n",
    "lista = [\"a\",\"e\",\"i\",\"o\", \"u\"]\n",
    "if letra in lista:\n",
    "    print(\"es vocal\")\n",
    "else:\n",
    "    print(\"no es vocal\")"
   ]
  },
  {
   "cell_type": "markdown",
   "metadata": {},
   "source": [
    "# Ejemplo 4\n",
    "Cree un programa en Python 3 que le solicite al usuario ingresar un número entero equivalente a una hora en punto del día (formato 24 horas) y un string que indica el clima del día (lluvioso,soleado). Si se ingresa una hora de la mañana (entre las 7 y las 11)  en el caso de ser lluviosa debe mostrar por pantalla 'leer', si es soleada debe mostrar por pantalla 'piscina', de lo contrario si se ingresa una hora de la tarde (entre las 12 y las 19) en el caso de ser lluviosa debe mostrar por pantalla 'video juegos' y en el caso de ser soleada debe mostrar 'deporte', en cualquier otro horario debe mostrar 'dormir. Muestre exclusivamente 'piscina', 'dormir', 'leer', 'video juegos' o 'deporte' segun sea el caso sin enunciados adicionales que lo acompañen.\n",
    "\n",
    "por ejemplo si el usuario ingresa 18 lluvioso el programa debe mostrar\n",
    "\n",
    "video juegos"
   ]
  },
  {
   "cell_type": "code",
   "execution_count": 7,
   "metadata": {},
   "outputs": [
    {
     "name": "stdout",
     "output_type": "stream",
     "text": [
      "Ingrese un número entero: 12\n",
      "Ingrese como esta el clima: lloviendo\n"
     ]
    }
   ],
   "source": [
    "numero = int(input(\"Ingrese un número entero: \"))\n",
    "clima = input(\"Ingrese como esta el clima: \")\n",
    "\n",
    "if 7<= numero <=11:\n",
    "    if clima == \"lluvioso\":\n",
    "        print(\"leer\")\n",
    "    else:\n",
    "        if clima == \"soleado\":\n",
    "            print(\"picina\")\n",
    "elif 12<= numero <= 19:\n",
    "    if clima == \"lluvioso\":\n",
    "        print(\"video juegos\")\n",
    "    else:\n",
    "        if clima == \"soleado\":\n",
    "            print(\"deporte\")\n",
    "else:\n",
    "    print(\"dormir\")"
   ]
  },
  {
   "cell_type": "markdown",
   "metadata": {},
   "source": [
    "# Ejemplo 5\n",
    "Una inmobiliaria quiere saber cuál sería su ganancia con determinada propiedad al alquilarla o la venderla. Debe crear un programa en Python 3 que le solicite al usuario ingresar el área de la casa o apartamento (número entero), y el tipo de operación, si es para alquiler o venta, (string). Si es para alquiler la inmobiliaria gana mil pesos por metro cuadrado, si es para venta se deben considerar dos casos: en el caso de que el área sea mayor a 100 metros cuadrados la inmobiliaria gana cien mil pesos por metro cuadrado; en caso contrario la inmobiliaria gana cincuenta mil pesos por metro cuadrado. Muestre exclusivamente el valor de la ganancia sin enunciados adicionales que lo acompañen.\n",
    "\n",
    "Por ejemplo, si el usuario ingresa como área 100  y como tipo de operación venta, el programa debe mostrar\n",
    "\n",
    "5000000"
   ]
  },
  {
   "cell_type": "code",
   "execution_count": 8,
   "metadata": {},
   "outputs": [
    {
     "name": "stdout",
     "output_type": "stream",
     "text": [
      "12\n",
      "venta\n",
      "12\n"
     ]
    }
   ],
   "source": [
    "area = int(input())\n",
    "opera = input()\n",
    "\n",
    "if opera == \"alquiler\":\n",
    "    gana = 1000*area\n",
    "    print(gana)\n",
    "\n",
    "if opera == \"venta\":\n",
    "    if area >100:\n",
    "        gana = 100000*area\n",
    "        print(gana)\n",
    "    else:\n",
    "        gana = 50000*area\n",
    "        print(area)"
   ]
  },
  {
   "cell_type": "markdown",
   "metadata": {},
   "source": [
    "# Ejemplo 6\n",
    "\n",
    "Una persona desea saber cuanto le cuesta determinado medio de transporte según la cantidad de metros que debe recorrer. Crear un programa en Python 3 que le solicite al usuario ingresar  la distancia a recorrer en metros (número entero) y el medio de transporte que desea utilizar (bus,taxi,bicicleta) -string. Si es bus el costo del pasaje es dos mil pesos , de lo contrario si es bicicleta el costo es cero pesos,de lo contrario si es taxi se deben considerar dos casos: en el caso de que la distancia a recorrer sea inferior a 3500 metros el costo es de 4600 pesos (carrera mínima) , en el caso contrario el costo equivale al costo de la carrera mínima más un peso por cada metro adicional a los 3500 metros. Muestre exclusivamente el costo sin enunciados adicionales que lo acompañen.\n",
    "\n",
    "Por ejemplo, si el usuario ingresa una distancia de 4500 y el medio de transporte es taxi, el programa debe mostrar\n",
    "\n",
    "5600"
   ]
  },
  {
   "cell_type": "code",
   "execution_count": 10,
   "metadata": {},
   "outputs": [
    {
     "name": "stdout",
     "output_type": "stream",
     "text": [
      "12345\n",
      "bus\n",
      "2000\n"
     ]
    }
   ],
   "source": [
    "dis = int(input())\n",
    "medt = input()\n",
    "\n",
    "if medt == \"bus\":\n",
    "    print(2000)\n",
    "\n",
    "if medt == \"bicicleta\":\n",
    "    print(0)\n",
    "\n",
    "\n",
    "if medt == \"taxi\":\n",
    "    if dis <3500:\n",
    "        print(4600)\n",
    "    else:\n",
    "        paga = 4600 + (dis - 3500)*1\n",
    "        print(paga)"
   ]
  },
  {
   "cell_type": "markdown",
   "metadata": {},
   "source": [
    "# Ejemplo 7\n",
    "Cree un programa en Python 3 que le solicite al usuario ingresar su tipo de vehículo('camioneta','automovil','cuatrimoto','moto','bicicleta') y la cantidad de llantas que desea comprar, si se compran más de dos llantas se da un 30% de descuento en el valor total de la compra, el costo por llanta es de $ 200.000 para camioneta, $ 150.000 para automóvil, $ 120.000 para cuatrimoto, $ 100.000 para moto y $50.000 para bicicleta. Muestre exclusivamente el valor total a pagar aproximado a dos cifras decimales sin enunciados adicionales que lo acompañen.\n",
    "\n",
    "por ejemplo si el usuario ingresa  camioneta 4 el programa debe mostrar\n",
    "\n",
    "560000"
   ]
  },
  {
   "cell_type": "code",
   "execution_count": 20,
   "metadata": {},
   "outputs": [
    {
     "name": "stdout",
     "output_type": "stream",
     "text": [
      "camioneta\n",
      "6\n",
      "840000.0\n"
     ]
    }
   ],
   "source": [
    "tipo = input()\n",
    "cat =int(input())\n",
    "\n",
    "dic = {\"camioneta\":200000, \"automovil\":150000, \"cuatrimoto\": 120000,\n",
    "\"moto\": 100000, \"bicicleta\": 50000}\n",
    "\n",
    "if tipo == \"camioneta\" and cat>2:\n",
    "    paga = dic[\"camioneta\"]*cat - (dic[\"camioneta\"]*cat)*0.3\n",
    "    print(paga)\n",
    "else:\n",
    "    if tipo == \"camioneta\":\n",
    "        print(dic[\"camioneta\"]*cat)\n",
    "\n",
    "\n",
    "if tipo == \"automovil\" and cat>2:\n",
    "    paga = dic[\"automovil\"]*cat - (dic[\"automovil\"]*cat)*0.3\n",
    "    print(paga)\n",
    "else:\n",
    "    if tipo == \"automovil\":\n",
    "        print(dic[\"automovil\"]*cat)\n",
    "    \n",
    "\n",
    "if tipo == \"cuatrimoto\" and cat>2:\n",
    "    paga = dic[\"cuatrimoto\"]*cat - (dic[\"cuatrimoto\"]*cat)*0.3\n",
    "    print(paga)\n",
    "else:\n",
    "    if tipo == \"cuatrimoto\":\n",
    "        print(dic[\"cuatrimoto\"]*cat)\n",
    "        \n",
    "\n",
    "if tipo == \"moto\" and cat>2:\n",
    "    paga = dic[\"moto\"]*cat - (dic[\"moto\"]*cat)*0.3\n",
    "    print(paga)\n",
    "else:\n",
    "    if tipo == \"moto\":\n",
    "        print(dic[\"moto\"]*cat)\n",
    "        \n",
    "\n",
    "if tipo == \"bicicleta\" and cat>2:\n",
    "    paga = dic[\"bicicleta\"]*cat - (dic[\"bicicleta\"]*cat)*0.3\n",
    "    print(paga)\n",
    "else:\n",
    "    if tipo == \"bicicleta\":\n",
    "        print(dic[\"bicicleta\"]*cat)\n",
    "\n"
   ]
  },
  {
   "cell_type": "markdown",
   "metadata": {},
   "source": [
    "# ejercicio N\n",
    "Un carro diesel produce 26.1 gramos/kilómetro de CO2 y un carro de gasolina produce 23 gramos/kilómetro de CO2. Cree un programa en Python 3 que le solicite al usuario el nombre de un archivo, en el archivo hay una cantidad indefinida de lineas donde se reporta el tipo de combustible y la cantidad de kilómetros recorridos por un carro de la siguiente forma:\n",
    "\n",
    "tipo de combustible\n",
    "km recorridos\n",
    "tipo de combustible\n",
    "km recorridos\n",
    "...\n",
    "\n",
    "Para cada tipo de combustible se debe calcular la cantidad  total de CO2 producida, y mostrar por pantalla la cantidad total de CO2 producida por carros diesel y la cantidad total de CO2 producida por carros de gasolina respectivamente. Muestre exclusivamente la cantidad producida de CO2 de cada tipo de combustible aproximada a una cifra decimal en lineas diferentes sin enunciados adicionales que lo acompañen.\n",
    "\n",
    "Nota: El comando strip() sirve para eliminar espacios innecesarios (vble.strip() )\n",
    "\n",
    "por ejemplo si el usuario ingresa  test3.txt que contiene\n",
    "\n",
    "gasolina\n",
    "1541\n",
    "gasolina\n",
    "613\n",
    "diesel\n",
    "1217\n",
    "diesel\n",
    "1460\n",
    "diesel\n",
    "999\n",
    "diesel\n",
    "360\n",
    "\n",
    " el programa debe mostrar\n",
    "\n",
    "105339.6\n",
    "49542     \n",
    "        \n",
    "    \n",
    "        \n",
    " \n",
    "\n"
   ]
  },
  {
   "cell_type": "code",
   "execution_count": 2,
   "metadata": {},
   "outputs": [
    {
     "name": "stdout",
     "output_type": "stream",
     "text": [
      "540635.4\n",
      "524354\n"
     ]
    }
   ],
   "source": [
    "lista = ['gasolina', '519', 'diesel', '1315', 'diesel', '36', 'gasolina', '578', 'diesel', '21', 'gasolina', '1852',\n",
    "         'diesel', '1839', 'diesel', '1131', 'gasolina', '685', 'diesel', '374', 'gasolina', '1102', 'diesel', '426',\n",
    "         'gasolina', '816', 'gasolina', '1149', 'gasolina', '1081', 'gasolina', '1234', 'gasolina', '73', 'diesel', '11',\n",
    "         'diesel', '837', 'diesel', '790', 'diesel', '433', 'diesel', '1202', 'diesel', '686', 'gasolina', '872', 'gasolina',\n",
    "         '5', 'diesel', '1459', 'gasolina', '1476', 'gasolina', '1423', 'diesel', '502', 'diesel', '1683', 'diesel', '380', \n",
    "         'gasolina', '1495', 'gasolina', '1237', 'gasolina', '479', 'gasolina', '801', 'diesel', '1228', 'diesel', '121', \n",
    "         'gasolina', '695', 'diesel', '783', 'gasolina', '773', 'gasolina', '1914', 'diesel', '1587', 'diesel', '1394',\n",
    "         'diesel', '1873', 'diesel', '603', 'gasolina', '1452', 'gasolina', '1087']\n",
    "\n",
    "\n",
    "\n",
    "\n",
    "gasolina = []\n",
    "diesel = []\n",
    "# nota siempre que estoy reciendo cadenas de texto la funcion index, solo me da el un valor para cada palabra, es decir no me\n",
    "# me repite el valor, para gasolina siempre me devuelve uno y para diesel dos..... eso en el ejemplo anterior \n",
    "\n",
    "for i in range(0 ,len(lista)):\n",
    "    if lista[i] == \"gasolina\":\n",
    "        gasolina.append(int(lista[i+1]))\n",
    "    else:\n",
    "        if lista[i] == \"diesel\":\n",
    "            diesel.append(int(lista[i+1]))\n",
    "#print(lista)\n",
    "#print(gasolina)\n",
    "#print(diesel)\n",
    "print(sum(diesel)*26.1)\n",
    "print(sum(gasolina)*23)"
   ]
  },
  {
   "cell_type": "markdown",
   "metadata": {},
   "source": [
    "# Ejemplos de algortmos con fechas.\n",
    "\n",
    "Cree un programa en Python 3 que le solicite al usuario una matriz cuadrada, su programa debe mostrar por pantalla una lista con el promedio de cada fila aproximado a dos cifras decimales desde la primera fila hasta la ultima fila respectivamente. Muestre exclusivamente lo solicitado anteriormente sin enunciados extra que lo acompañen\n",
    "\n",
    "Nota: Utilizar el comando eval para convertir un string en una matriz.\n",
    "\n",
    "por ejemplo si el usuario ingresa [[0, 46], [53, 98]] el programa debe mostrar\n",
    "\n",
    "[23.0, 75.5]\n",
    "\n"
   ]
  },
  {
   "cell_type": "code",
   "execution_count": 10,
   "metadata": {},
   "outputs": [
    {
     "name": "stdout",
     "output_type": "stream",
     "text": [
      "[36, 92, 60, 42, 8]\n",
      "[72, 34, 69, 53, 73]\n",
      "[22, 74, 30, 94, 56]\n",
      "[28, 54, 75, 80, 10]\n",
      "[22, 68, 2, 86, 96]\n",
      "[47.6, 60.2, 55.2, 49.4, 54.8]\n"
     ]
    }
   ],
   "source": [
    "matriz = [[36, 92, 60, 42, 8], [72, 34, 69, 53, 73], [22, 74, 30, 94, 56], [28, 54, 75, 80, 10], [22, 68, 2, 86, 96]]\n",
    "\n",
    "promedios = []\n",
    "for i in range(0, len(matriz)):\n",
    "    print(matriz[i])\n",
    "    h = len(matriz[i])\n",
    "    j = sum(matriz[i])\n",
    "    promedio = j/h\n",
    "    promedios.append(promedio)\n",
    "    \n",
    "print(promedios)    \n",
    "    "
   ]
  },
  {
   "cell_type": "markdown",
   "metadata": {},
   "source": [
    "# ejercecios de algo.. fechas\n",
    "\n",
    "Un estudiante desea conocer la nota promedio aproximado a una cifra decimal de cada una de sus asignaturas. Cree un programa en Python 3 que le solicite al usuario una tabla que en su primera columna tenga el nombre de la asignatura y en las demás columnas la recopilación de las notas (debe tener en cuenta que cada asignatura puede tener diferente cantidad de notas), su programa debe mostrar por pantalla un informe de la siguiente forma:\n",
    "\n",
    "asignatura 1 nota promedio asignatura 1\n",
    "asignatura 2 nota promedio asignatura 2\n",
    "\n",
    "Muestre exclusivamente lo solicitado anteriormente sin enunciados extra que lo acompañen\n",
    "\n",
    "Nota: Utilizar el comando eval para convertir un string en una tabla.\n",
    "\n",
    "por ejemplo si el usuario ingresa  [['biologia', 0.3], ['etica', 2.3, 2.7]] el programa debe mostrar\n",
    "\n",
    "biologia 0.3\n",
    "etica 2.5\n"
   ]
  },
  {
   "cell_type": "code",
   "execution_count": 23,
   "metadata": {},
   "outputs": [
    {
     "name": "stdout",
     "output_type": "stream",
     "text": [
      "religion 3.5\n",
      "deportes 1.6\n"
     ]
    }
   ],
   "source": [
    "matris = [['religion', 4.3, 4.7, 4.5, 2.3, 3.6, 4.4, 0.9], ['deportes', 4.9, 0.3, 1.2, 1.9, 1.2, 0.2, 1.7]]\n",
    "\n",
    "\n",
    "for i in matris:\n",
    "    j = round(sum(i[1:]),2)\n",
    "    h = len(i[1:])\n",
    "    y = round((j/h),1)\n",
    "    i.append(y)\n",
    "    print(i[0], i[-1])\n",
    "    \n",
    "    \n",
    "    \n",
    "    \n",
    "    \n",
    "    \n",
    "\n"
   ]
  },
  {
   "cell_type": "markdown",
   "metadata": {},
   "source": [
    "# Ejercicos de fechas\n",
    "Una unidad residencial desea saber el consumo total de agua en 6 meses de todos los apartamentos. Cree un programa en Python 3 que le solicite al usuario ingresar una matriz donde las  filas son los apartamentos por 6 columnas, las cuales serán los valores de consumo en los 6 meses. El programa debe mostrar en la pantalla únicamente el consumo total de agua de todos los apartamentos en los 6 meses. Muestre exclusivamente lo que se le solicita.\n",
    "\n",
    "Nota: Utilizar el comando eval para convertir un string en una matriz.\n",
    "\n",
    "por ejemplo si el usuario ingresa [[39, 61, 36, 3, 73, 25], [69, 46, 100, 39, 97, 38]]  el programa debe mostrar\n",
    "\n",
    "626"
   ]
  },
  {
   "cell_type": "code",
   "execution_count": 25,
   "metadata": {},
   "outputs": [
    {
     "name": "stdout",
     "output_type": "stream",
     "text": [
      "626\n"
     ]
    }
   ],
   "source": [
    "\n",
    "matris = [[39, 61, 36, 3, 73, 25], [69, 46, 100, 39, 97, 38]]\n",
    "lista = []\n",
    "for i in matris:\n",
    "    h = sum(i)\n",
    "    lista.append(h)\n",
    "\n",
    "print(sum(lista)) "
   ]
  },
  {
   "cell_type": "markdown",
   "metadata": {},
   "source": [
    "# Ejercicio de fechas \n",
    "En una competencia a cada participante se calcula el tiempo de completar las pruebas las cuales tienen múltiples intentos. Cree un programa en Python 3 que le solicite al usuario una tabla la cual en la primera columna tiene el identificador del participante y las siguientes columnas el tiempo de cada intento(cada fila puede tener dimensiones diferentes según sea la cantidad de intentos),debe hallar el menor tiempo de cada participante su programa debe mostrar por pantalla un informe de la siguiente forma:\n",
    "\n",
    "identificador participante 1 menor tiempo\n",
    "identificador participante 2 menor tiempo\n",
    "\n",
    "Muestre exclusivamente lo solicitado anteriormente sin enunciados extra que lo acompañen\n",
    "\n",
    "Nota: Utilizar el comando eval para convertir un string en una tabla.\n",
    "\n",
    "por ejemplo si el usuario ingresa [['p1', 7.63, 3.62], ['p2', 4.92, 3.61, 8.07, 1.47, 5.0, 7.99], ['p3', 1.46, 8.96, 5.66, 4.68]] el programa debe mostrar\n",
    "\n",
    "p1 3.62\n",
    "p2 1.47\n",
    "p3 1.46\n",
    "\n"
   ]
  },
  {
   "cell_type": "code",
   "execution_count": 27,
   "metadata": {},
   "outputs": [
    {
     "name": "stdout",
     "output_type": "stream",
     "text": [
      "p1 3.62\n",
      "p2 1.47\n",
      "p3 1.46\n"
     ]
    }
   ],
   "source": [
    "matris =  [['p1', 7.63, 3.62], ['p2', 4.92, 3.61, 8.07, 1.47, 5.0, 7.99], ['p3', 1.46, 8.96, 5.66, 4.68]]\n",
    "\n",
    "for i in matris:\n",
    "    j = i[1:]\n",
    "    j = min(j)\n",
    "    i.append(j)\n",
    "    print(i[0], i[-1])"
   ]
  },
  {
   "cell_type": "markdown",
   "metadata": {},
   "source": [
    "# Ejercicio fechas\n",
    "Cree un programa en Python 3 que le solicite al usuario un numero entero y una matriz cuadrada, su programa debe mostrar por pantalla la cantidad de números enteros menores al número ingresado. Muestre exclusivamente lo solicitado anteriormente sin enunciados extra que lo acompañen\n",
    "\n",
    "Nota: Utilizar el comando eval para convertir un string en una matriz.\n",
    "\n",
    "por ejemplo si el usuario ingresa 75  [[40, 79, 90, 100, 56], [0, 18, 89, 26, 81], [79, 82, 65, 91, 4], [84, 26, 15, 51, 89], [81, 73, 72, 45, 82]] el programa debe mostrar\n",
    "\n",
    "13"
   ]
  },
  {
   "cell_type": "code",
   "execution_count": 29,
   "metadata": {},
   "outputs": [
    {
     "name": "stdout",
     "output_type": "stream",
     "text": [
      "75\n",
      "[[40, 79, 90, 100, 56], [0, 18, 89, 26, 81], [79, 82, 65, 91, 4], [84, 26, 15, 51, 89], [81, 73, 72, 45, 82]] \n",
      "13\n"
     ]
    }
   ],
   "source": [
    "numero = int(input())\n",
    "matris = eval(input())\n",
    "\n",
    "lista = []\n",
    "for i in range(0,len(matris)):\n",
    "    for j in matris[i]:\n",
    "        if j < numero:\n",
    "            lista.append(j)\n",
    "        \n",
    "print(len(lista))"
   ]
  },
  {
   "cell_type": "markdown",
   "metadata": {},
   "source": [
    "# Ejercicios de fechas \n",
    "Un jefe de poducción desea conocer el tiempo promedio aproximado a dos cifras decimales que toman ciertos procesos.Cree un programa en Python 3 que le solicite al usuario una tabla que en su primera columna tenga el identificador del proceso y en las demás columnas la recopilación de los tiempos tomados(debe tener en cuenta que cada proceso puede tener diferente cantidad de tiempos tomados), su programa debe mostrar por pantalla un informe de la siguiente forma:\n",
    "\n",
    "identificador proceso 1 tiempo promedio proceso 1\n",
    "identificador proceso 2 tiempo promedio proceso 2\n",
    "\n",
    "Muestre exclusivamente lo solicitado anteriormente sin enunciados extra que lo acompañen\n",
    "\n",
    "Nota: Utilizar el comando eval para convertir un string en una tabla.\n",
    "\n",
    "por ejemplo si el usuario ingresa [['f1', 15], ['f2', 10, 10], ['f3', 6, 12, 14, 15, 10, 10]] el programa debe mostrar\n",
    "\n",
    "f1 15.0\n",
    "f2 10.0\n",
    "f3 11.17"
   ]
  },
  {
   "cell_type": "code",
   "execution_count": 30,
   "metadata": {},
   "outputs": [
    {
     "name": "stdout",
     "output_type": "stream",
     "text": [
      "[['f1', 15], ['f2', 10, 10], ['f3', 6, 12, 14, 15, 10, 10]]\n",
      "f1 15.0\n",
      "f2 10.0\n",
      "f3 11.17\n"
     ]
    }
   ],
   "source": [
    "matris = eval(input())\n",
    "\n",
    "for i in matris:\n",
    "    j = sum(i[1:])\n",
    "    h = len(i[1:])\n",
    "    promedio = round((j/h),2)\n",
    "    i.append(promedio)\n",
    "    print(i[0], i[-1])"
   ]
  },
  {
   "cell_type": "markdown",
   "metadata": {},
   "source": [
    "# Ejercicio fechas \n",
    "Se tiene en una tabla el registro por estudiante de un examen el cual consta de multiples intentos. Cree un programa en Python 3 que le solicite al usuario una tabla que en su primera columna contiene el identificador del estudiante y en las columnas siguientes la cantidad de respuestas buenas segun sean la cantidad de intentos(cada fila de la tabla puede variar de tamaño segun sea la cantidad de intentos), su programa debe mostrar por pantalla el identificador del estudiante con mayor cantidad de respuestas buenas en determinado intento en caso de encontrar estudiantes con la misma cantidad de respuestas buenas se debe mostrar el primero que aparece en la tabla. Muestre exclusivamente lo solicitado anteriormente sin enunciados extra que lo acompañen\n",
    "\n",
    "Nota: Utilizar el comando eval para convertir un string en una tabla.\n",
    "\n",
    "por ejemplo si el usuario ingresa [['e1', 0, 0, 13, 1], ['e2', 2, 5, 12, 1, 12, 9]] el programa debe mostrar\n",
    "\n",
    "e1"
   ]
  },
  {
   "cell_type": "code",
   "execution_count": 32,
   "metadata": {},
   "outputs": [
    {
     "name": "stdout",
     "output_type": "stream",
     "text": [
      " [['e1', 0, 0, 13, 1], ['e2', 2, 5, 12, 1, 12, 9]] \n",
      "e1\n"
     ]
    }
   ],
   "source": [
    "\n",
    "matris = eval(input())\n",
    "\n",
    "lista = []\n",
    "for i in matris:\n",
    "    j = i[1:]\n",
    "    j = max(j)\n",
    "    lista.append(j)\n",
    "\n",
    "k = max(lista)\n",
    "for i in matris:\n",
    "    h = i[1:]\n",
    "    if max(h) ==k:\n",
    "        print(i[0])\n",
    "        break\n"
   ]
  },
  {
   "cell_type": "markdown",
   "metadata": {},
   "source": [
    "# Ultimo de fechas \n",
    "En un supermercado se tiene el registro de la cantidad de productos comprados por cada usuario. Cree un programa en Python 3 que le solicite al usuario una lista compuesta de diccionarios de datos cada diccionario tiene 'id' y 'productos', y una lista de los id a buscar, su programa debe mostrar por pantalla la cantidad de productos correspondientes a cada id a buscar en lineas diferentes, en caso de no encontrar el id no se debe pasar por alto. Muestre exclusivamente lo solicitado anteriormente sin enunciados extra que lo acompañen\n",
    "\n",
    "Nota: Utilizar el comando eval para convertir un string en una lista.\n",
    "\n",
    "por ejemplo, si el usuario ingresa [{'id': 1, 'productos': 10}, {'id': 2, 'productos': 13}] [10, 9, 2, 1], el programa debe mostrar\n",
    "\n",
    "13\n",
    "10"
   ]
  },
  {
   "cell_type": "code",
   "execution_count": null,
   "metadata": {},
   "outputs": [],
   "source": []
  }
 ],
 "metadata": {
  "kernelspec": {
   "display_name": "Python 3",
   "language": "python",
   "name": "python3"
  },
  "language_info": {
   "codemirror_mode": {
    "name": "ipython",
    "version": 3
   },
   "file_extension": ".py",
   "mimetype": "text/x-python",
   "name": "python",
   "nbconvert_exporter": "python",
   "pygments_lexer": "ipython3",
   "version": "3.8.3"
  }
 },
 "nbformat": 4,
 "nbformat_minor": 4
}
