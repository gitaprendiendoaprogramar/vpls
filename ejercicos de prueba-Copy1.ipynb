{
 "cells": [
  {
   "cell_type": "code",
   "execution_count": 13,
   "metadata": {},
   "outputs": [
    {
     "name": "stdout",
     "output_type": "stream",
     "text": [
      "5\n",
      "4\n",
      "8.67\n"
     ]
    }
   ],
   "source": [
    "## el promagrama trata de una regla de tres compuesta.\n",
    "N = int(input())\n",
    "M = int(input())\n",
    "\n",
    "b = ((130)*(M*N))/(20*15)\n",
    "\n",
    "b = round(b, 2)\n",
    "print(b)"
   ]
  },
  {
   "cell_type": "code",
   "execution_count": 18,
   "metadata": {},
   "outputs": [
    {
     "name": "stdout",
     "output_type": "stream",
     "text": [
      "74\n"
     ]
    }
   ],
   "source": [
    "## ejecicio costa de hacer l asumatoria de una lista de cada numero\n",
    "## desde el purto de llegada hasta el de salida\n",
    "\n",
    "\n",
    "t = [2,3,4,10]\n",
    "def Sumatorias(x):\n",
    "    lista = []\n",
    "    for i in x:\n",
    "        suma = 0\n",
    "        for j in range(0, i+1):\n",
    "            suma+=j\n",
    "        lista.append(suma)\n",
    "    y = sum(lista)\n",
    "    return y\n",
    "\n",
    "print(Sumatorias(t))"
   ]
  },
  {
   "cell_type": "code",
   "execution_count": null,
   "metadata": {},
   "outputs": [],
   "source": []
  },
  {
   "cell_type": "code",
   "execution_count": 22,
   "metadata": {},
   "outputs": [
    {
     "name": "stdout",
     "output_type": "stream",
     "text": [
      "12\n",
      "12\n",
      "144.0\n"
     ]
    }
   ],
   "source": [
    "n = float(input())\n",
    "n2 = float(input())\n",
    "\n",
    "area = n*n2\n",
    "\n",
    "print(area)\n",
    "\n",
    "\n",
    "\n"
   ]
  },
  {
   "cell_type": "code",
   "execution_count": 8,
   "metadata": {},
   "outputs": [
    {
     "name": "stdout",
     "output_type": "stream",
     "text": [
      "09/10/1999\n",
      "08/12/1996\n",
      "1035\n"
     ]
    }
   ],
   "source": [
    "from datetime import datetime\n",
    "N = input()\n",
    "M = input()\n",
    "#N = datetime.date(N)\n",
    "#print(type(N))\n",
    "#print(type(M))\n",
    "def days_between(d1, d2):\n",
    "       d1 = datetime.strptime(d1, '%d/%m/%Y').date()\n",
    "       d2 = datetime.strptime(d2, '%d/%m/%Y').date()\n",
    "       return abs((d2 - d1).days)\n",
    "print(days_between(N,M))\n",
    "\n",
    "\n",
    "\n",
    "#datetime.strptime('01/04/2020', '%d/%m/%Y').date()"
   ]
  },
  {
   "cell_type": "code",
   "execution_count": 23,
   "metadata": {},
   "outputs": [
    {
     "name": "stdout",
     "output_type": "stream",
     "text": [
      "13/04/16\n",
      "Wed, 13 de Apr de 16\n"
     ]
    }
   ],
   "source": [
    "import datetime\n",
    "\n",
    "mi_fecha= datetime.date(2016,4, 13)\n",
    "print(\"{:%d/%m/%y}\".format(mi_fecha))\n",
    "print(\"{:%a, %d de %b de %y}\".format(mi_fecha))"
   ]
  },
  {
   "cell_type": "code",
   "execution_count": 1,
   "metadata": {},
   "outputs": [
    {
     "name": "stdout",
     "output_type": "stream",
     "text": [
      "Mi tiempo: 23:50:01.000001\n",
      "23 y 50 del día\n",
      "23:50\n",
      "Horas 23\n",
      "Minutos 50\n"
     ]
    }
   ],
   "source": [
    "import datetime\n",
    "\n",
    "mi_tiempo = datetime.time(23,50, 1, 1) \n",
    "\n",
    "\n",
    "print(\"Mi tiempo:\", mi_tiempo)\n",
    "print(\"{:%H y %M del día}\".format(mi_tiempo))\n",
    "print(\"{:%H:%M}\".format(mi_tiempo))\n",
    "print(\"Horas\", mi_tiempo.hour)\n",
    "print(\"Minutos\", mi_tiempo.minute)"
   ]
  },
  {
   "cell_type": "code",
   "execution_count": 10,
   "metadata": {},
   "outputs": [
    {
     "name": "stdout",
     "output_type": "stream",
     "text": [
      "1999,09,08\n",
      "1998,07,05\n"
     ]
    },
    {
     "ename": "ValueError",
     "evalue": "time data '1999,09,08' does not match format '%d/%m/%Y'",
     "output_type": "error",
     "traceback": [
      "\u001b[1;31m---------------------------------------------------------------------------\u001b[0m",
      "\u001b[1;31mValueError\u001b[0m                                Traceback (most recent call last)",
      "\u001b[1;32m<ipython-input-10-d8f104e4fe72>\u001b[0m in \u001b[0;36m<module>\u001b[1;34m\u001b[0m\n\u001b[0;32m      9\u001b[0m        \u001b[0md2\u001b[0m \u001b[1;33m=\u001b[0m \u001b[0mdt\u001b[0m\u001b[1;33m.\u001b[0m\u001b[0mdatetime\u001b[0m\u001b[1;33m.\u001b[0m\u001b[0mstrptime\u001b[0m\u001b[1;33m(\u001b[0m\u001b[0md2\u001b[0m\u001b[1;33m,\u001b[0m \u001b[1;34m'%d/%m/%Y'\u001b[0m\u001b[1;33m)\u001b[0m\u001b[1;33m.\u001b[0m\u001b[0mdate\u001b[0m\u001b[1;33m(\u001b[0m\u001b[1;33m)\u001b[0m\u001b[1;33m\u001b[0m\u001b[1;33m\u001b[0m\u001b[0m\n\u001b[0;32m     10\u001b[0m        \u001b[1;32mreturn\u001b[0m \u001b[0mabs\u001b[0m\u001b[1;33m(\u001b[0m\u001b[1;33m(\u001b[0m\u001b[0md2\u001b[0m \u001b[1;33m-\u001b[0m \u001b[0md1\u001b[0m\u001b[1;33m)\u001b[0m\u001b[1;33m.\u001b[0m\u001b[0mdays\u001b[0m\u001b[1;33m)\u001b[0m\u001b[1;33m\u001b[0m\u001b[1;33m\u001b[0m\u001b[0m\n\u001b[1;32m---> 11\u001b[1;33m \u001b[0mprint\u001b[0m\u001b[1;33m(\u001b[0m\u001b[0mdays_between\u001b[0m\u001b[1;33m(\u001b[0m\u001b[0mN\u001b[0m\u001b[1;33m,\u001b[0m\u001b[0mM\u001b[0m\u001b[1;33m)\u001b[0m\u001b[1;33m)\u001b[0m\u001b[1;33m\u001b[0m\u001b[1;33m\u001b[0m\u001b[0m\n\u001b[0m",
      "\u001b[1;32m<ipython-input-10-d8f104e4fe72>\u001b[0m in \u001b[0;36mdays_between\u001b[1;34m(d1, d2)\u001b[0m\n\u001b[0;32m      6\u001b[0m \u001b[1;31m#print(type(M))\u001b[0m\u001b[1;33m\u001b[0m\u001b[1;33m\u001b[0m\u001b[1;33m\u001b[0m\u001b[0m\n\u001b[0;32m      7\u001b[0m \u001b[1;32mdef\u001b[0m \u001b[0mdays_between\u001b[0m\u001b[1;33m(\u001b[0m\u001b[0md1\u001b[0m\u001b[1;33m,\u001b[0m \u001b[0md2\u001b[0m\u001b[1;33m)\u001b[0m\u001b[1;33m:\u001b[0m\u001b[1;33m\u001b[0m\u001b[1;33m\u001b[0m\u001b[0m\n\u001b[1;32m----> 8\u001b[1;33m        \u001b[0md1\u001b[0m \u001b[1;33m=\u001b[0m \u001b[0mdt\u001b[0m\u001b[1;33m.\u001b[0m\u001b[0mdatetime\u001b[0m\u001b[1;33m.\u001b[0m\u001b[0mstrptime\u001b[0m\u001b[1;33m(\u001b[0m\u001b[0md1\u001b[0m\u001b[1;33m,\u001b[0m \u001b[1;34m'%d/%m/%Y'\u001b[0m\u001b[1;33m)\u001b[0m\u001b[1;33m.\u001b[0m\u001b[0mdate\u001b[0m\u001b[1;33m(\u001b[0m\u001b[1;33m)\u001b[0m\u001b[1;33m\u001b[0m\u001b[1;33m\u001b[0m\u001b[0m\n\u001b[0m\u001b[0;32m      9\u001b[0m        \u001b[0md2\u001b[0m \u001b[1;33m=\u001b[0m \u001b[0mdt\u001b[0m\u001b[1;33m.\u001b[0m\u001b[0mdatetime\u001b[0m\u001b[1;33m.\u001b[0m\u001b[0mstrptime\u001b[0m\u001b[1;33m(\u001b[0m\u001b[0md2\u001b[0m\u001b[1;33m,\u001b[0m \u001b[1;34m'%d/%m/%Y'\u001b[0m\u001b[1;33m)\u001b[0m\u001b[1;33m.\u001b[0m\u001b[0mdate\u001b[0m\u001b[1;33m(\u001b[0m\u001b[1;33m)\u001b[0m\u001b[1;33m\u001b[0m\u001b[1;33m\u001b[0m\u001b[0m\n\u001b[0;32m     10\u001b[0m        \u001b[1;32mreturn\u001b[0m \u001b[0mabs\u001b[0m\u001b[1;33m(\u001b[0m\u001b[1;33m(\u001b[0m\u001b[0md2\u001b[0m \u001b[1;33m-\u001b[0m \u001b[0md1\u001b[0m\u001b[1;33m)\u001b[0m\u001b[1;33m.\u001b[0m\u001b[0mdays\u001b[0m\u001b[1;33m)\u001b[0m\u001b[1;33m\u001b[0m\u001b[1;33m\u001b[0m\u001b[0m\n",
      "\u001b[1;32m~\\anaconda3\\lib\\_strptime.py\u001b[0m in \u001b[0;36m_strptime_datetime\u001b[1;34m(cls, data_string, format)\u001b[0m\n\u001b[0;32m    566\u001b[0m     \"\"\"Return a class cls instance based on the input string and the\n\u001b[0;32m    567\u001b[0m     format string.\"\"\"\n\u001b[1;32m--> 568\u001b[1;33m     \u001b[0mtt\u001b[0m\u001b[1;33m,\u001b[0m \u001b[0mfraction\u001b[0m\u001b[1;33m,\u001b[0m \u001b[0mgmtoff_fraction\u001b[0m \u001b[1;33m=\u001b[0m \u001b[0m_strptime\u001b[0m\u001b[1;33m(\u001b[0m\u001b[0mdata_string\u001b[0m\u001b[1;33m,\u001b[0m \u001b[0mformat\u001b[0m\u001b[1;33m)\u001b[0m\u001b[1;33m\u001b[0m\u001b[1;33m\u001b[0m\u001b[0m\n\u001b[0m\u001b[0;32m    569\u001b[0m     \u001b[0mtzname\u001b[0m\u001b[1;33m,\u001b[0m \u001b[0mgmtoff\u001b[0m \u001b[1;33m=\u001b[0m \u001b[0mtt\u001b[0m\u001b[1;33m[\u001b[0m\u001b[1;33m-\u001b[0m\u001b[1;36m2\u001b[0m\u001b[1;33m:\u001b[0m\u001b[1;33m]\u001b[0m\u001b[1;33m\u001b[0m\u001b[1;33m\u001b[0m\u001b[0m\n\u001b[0;32m    570\u001b[0m     \u001b[0margs\u001b[0m \u001b[1;33m=\u001b[0m \u001b[0mtt\u001b[0m\u001b[1;33m[\u001b[0m\u001b[1;33m:\u001b[0m\u001b[1;36m6\u001b[0m\u001b[1;33m]\u001b[0m \u001b[1;33m+\u001b[0m \u001b[1;33m(\u001b[0m\u001b[0mfraction\u001b[0m\u001b[1;33m,\u001b[0m\u001b[1;33m)\u001b[0m\u001b[1;33m\u001b[0m\u001b[1;33m\u001b[0m\u001b[0m\n",
      "\u001b[1;32m~\\anaconda3\\lib\\_strptime.py\u001b[0m in \u001b[0;36m_strptime\u001b[1;34m(data_string, format)\u001b[0m\n\u001b[0;32m    347\u001b[0m     \u001b[0mfound\u001b[0m \u001b[1;33m=\u001b[0m \u001b[0mformat_regex\u001b[0m\u001b[1;33m.\u001b[0m\u001b[0mmatch\u001b[0m\u001b[1;33m(\u001b[0m\u001b[0mdata_string\u001b[0m\u001b[1;33m)\u001b[0m\u001b[1;33m\u001b[0m\u001b[1;33m\u001b[0m\u001b[0m\n\u001b[0;32m    348\u001b[0m     \u001b[1;32mif\u001b[0m \u001b[1;32mnot\u001b[0m \u001b[0mfound\u001b[0m\u001b[1;33m:\u001b[0m\u001b[1;33m\u001b[0m\u001b[1;33m\u001b[0m\u001b[0m\n\u001b[1;32m--> 349\u001b[1;33m         raise ValueError(\"time data %r does not match format %r\" %\n\u001b[0m\u001b[0;32m    350\u001b[0m                          (data_string, format))\n\u001b[0;32m    351\u001b[0m     \u001b[1;32mif\u001b[0m \u001b[0mlen\u001b[0m\u001b[1;33m(\u001b[0m\u001b[0mdata_string\u001b[0m\u001b[1;33m)\u001b[0m \u001b[1;33m!=\u001b[0m \u001b[0mfound\u001b[0m\u001b[1;33m.\u001b[0m\u001b[0mend\u001b[0m\u001b[1;33m(\u001b[0m\u001b[1;33m)\u001b[0m\u001b[1;33m:\u001b[0m\u001b[1;33m\u001b[0m\u001b[1;33m\u001b[0m\u001b[0m\n",
      "\u001b[1;31mValueError\u001b[0m: time data '1999,09,08' does not match format '%d/%m/%Y'"
     ]
    }
   ],
   "source": [
    "import datetime as dt\n",
    "N = input()\n",
    "M = input()\n",
    "#N = datetime.date(N)\n",
    "#print(type(N))\n",
    "#print(type(M))\n",
    "def days_between(d1, d2):\n",
    "       d1 = dt.datetime.strptime(d1, '%d/%m/%Y').date()\n",
    "       d2 = dt.datetime.strptime(d2, '%d/%m/%Y').date()\n",
    "       return abs((d2 - d1).days)\n",
    "print(days_between(N,M))"
   ]
  },
  {
   "cell_type": "code",
   "execution_count": 82,
   "metadata": {},
   "outputs": [
    {
     "name": "stdout",
     "output_type": "stream",
     "text": [
      "pesos 3000000\n",
      "pesos 3000000\n",
      "pesos 7000000\n",
      "None\n"
     ]
    }
   ],
   "source": [
    "import numpy as np\n",
    "j = open(\"monedas.txt\", \"r\")\n",
    "\n",
    "j = j.readlines()\n",
    "\n",
    "operadores = []\n",
    "\n",
    "for i in j:\n",
    "    k = i.rstrip()\n",
    "    l = eval(k)\n",
    "    operadores.append(l)\n",
    "\n",
    "def Convertidor(x):\n",
    "    lista = []\n",
    "    for i in range(len(x)-1):\n",
    "        for j in x:\n",
    "            if j[i] == \"Dolar\":\n",
    "                p =  j[i+1]*2000\n",
    "                lista.append(p)\n",
    "            if j[i] == \"Euro\":\n",
    "                #p =  j[i+1]*3000\n",
    "                lista.append(p)\n",
    "            if j[i] == \"Franco\":\n",
    "                p =  j[i+1]*2800\n",
    "                #p = \"pesos\", p\n",
    "                lista.append(p)\n",
    "    for k in lista:\n",
    "        print(f\"pesos {k}\")\n",
    "        \n",
    "    \n",
    "\n",
    "\n",
    "print(Convertidor(operadores))"
   ]
  },
  {
   "cell_type": "code",
   "execution_count": 1,
   "metadata": {},
   "outputs": [
    {
     "name": "stdout",
     "output_type": "stream",
     "text": [
      "wsdrghjhgfd\n",
      "l\n",
      "wsdrghjhgfd\n"
     ]
    }
   ],
   "source": [
    "M = input()\n",
    "n = input()\n",
    "con = 0\n",
    "for i in M:\n",
    "    if i ==n:\n",
    "        con+=1\n",
    "if con%2==0:\n",
    "    l = M.replace(n, \"5\")\n",
    "    print(l)\n",
    "else:\n",
    "    l = M.replace(n, str(con))\n",
    "    print(l)\n",
    "    \n"
   ]
  },
  {
   "cell_type": "code",
   "execution_count": 2,
   "metadata": {},
   "outputs": [
    {
     "name": "stdout",
     "output_type": "stream",
     "text": [
      "0\n",
      "[]\n"
     ]
    }
   ],
   "source": [
    "N=abs(int(input()))\n",
    "tabla=[]\n",
    "for i in range(N):\n",
    "    datos=input()\n",
    "    tabla.append(datos)\n",
    "tabla.sort(key=lambda x: x[14:16], reverse=True)\n",
    "tabla.sort(key=lambda x: x[2:4], reverse=True)\n",
    "print(tabla)\n",
    "for e in tabla:\n",
    "    g=e[0:1]\n",
    "    d=e[2:4]\n",
    "    y = str(e[5:13])\n",
    "    h=y.upper()\n",
    "    p=e[13:16]\n",
    "    if h=='POSITIVA':\n",
    "        print(d,h,p,sep=' ')\n",
    "    else:\n",
    "        break"
   ]
  },
  {
   "cell_type": "code",
   "execution_count": 21,
   "metadata": {
    "scrolled": false
   },
   "outputs": [
    {
     "name": "stdout",
     "output_type": "stream",
     "text": [
      "3\n",
      "888888, 8, 8, 8, 8, 8, 8, 8, 8, 8, 8, 8, 8\n",
      "555555, 5, 5, 5, 5, 5, 5, 5, 5, 5, 5, 5, 5\n",
      "777777, 7, 7, 7, 7, 7, 7, 7, 7, 7, 7, 7, 7\n",
      "4.05\n",
      "2.5583333333333336\n",
      "3.5749999999999997\n"
     ]
    },
    {
     "data": {
      "text/plain": [
       "[(888888, 4.0), (555555, 2.6), (777777, 3.6)]"
      ]
     },
     "execution_count": 21,
     "metadata": {},
     "output_type": "execute_result"
    }
   ],
   "source": [
    "talleres=[5/9,5/11,5/12,5/8,5/12,5/9,5/11,5/8,5/11,1/2,5/9,1/2]\n",
    "    \n",
    "lista=[]\n",
    "calificacion=[]\n",
    "N=abs(int(input()))\n",
    "for i in range(N):\n",
    "    calificacion=input()\n",
    "    estudiante=calificacion.split(',')\n",
    "    results = [int(i) for i in estudiante]\n",
    "    lista.append(results)\n",
    "    \n",
    "notas = []    \n",
    "for i in lista:\n",
    "    j = i[1:]\n",
    "    h = []\n",
    "    for k in j:\n",
    "        t = k*talleres[len(h)]\n",
    "        t = round(t,1)\n",
    "        h.append(t)\n",
    "    y = sum(h)/len(j)\n",
    "    print(y)\n",
    "    y = round(y,1)\n",
    "    i.append(y)\n",
    "    notas.append((i[0], i[-1]))\n",
    "    \n",
    "notas \n"
   ]
  },
  {
   "cell_type": "code",
   "execution_count": 2,
   "metadata": {},
   "outputs": [
    {
     "name": "stdout",
     "output_type": "stream",
     "text": [
      "['chao', 'olvidame']\n",
      "None\n"
     ]
    }
   ],
   "source": [
    "# ejercicio de practica 02, punto 2\n",
    "\n",
    "# titulos de caanciones y año de lazanmiento, definir si es clasica o no es calsi si tiene mas de 15 años.\n",
    "\n",
    "j = [[\"hola\", 2018], [\"chao\", 2003], [\"olvidame\", 1995], [\"el condor herido\", 2010]]\n",
    "\n",
    "def Clasicos(x):\n",
    "    lista = []\n",
    "    for i in x:\n",
    "        if (2020-i[1])>15:\n",
    "            lista.append(i[0])\n",
    "    print(lista)\n",
    "        \n",
    "\n",
    "print(Clasicos(j))"
   ]
  },
  {
   "cell_type": "code",
   "execution_count": 9,
   "metadata": {},
   "outputs": [
    {
     "name": "stdout",
     "output_type": "stream",
     "text": [
      "11250\n",
      "None\n"
     ]
    }
   ],
   "source": [
    "\"\"\"ejercion numero 6 de la practo 02, consiste en crear dos funciones una que calcula la cantida de epleados y el valor ottal de\n",
    "la nomina, retornando un lista con esos dos valores, la otra calcula la retencion\"\"\" \n",
    "\n",
    "tra = [[\"Jorge\", 1000], [\"Andres\", 6000], [\"Daniel\", 2500], [\"Ricardo\", 3000]]\n",
    "\n",
    "def Nomina(x):\n",
    "    lista = []\n",
    "    j = len(x)\n",
    "    lista.append(j)\n",
    "    suma =0\n",
    "    for i in x:\n",
    "        suma+=i[1]\n",
    "    lista.append(suma)\n",
    "    return lista\n",
    "l = Nomina(tra)\n",
    "def Retencion(x):\n",
    "    if x[0]>3:\n",
    "        re = x[1]*0.1\n",
    "        k = round((x[1]-re))\n",
    "        print(k)\n",
    "    else:\n",
    "        print(x[1])\n",
    "print(Retencion(l))        \n",
    "        "
   ]
  },
  {
   "cell_type": "code",
   "execution_count": 16,
   "metadata": {},
   "outputs": [
    {
     "name": "stdout",
     "output_type": "stream",
     "text": [
      "Primer equipo\n"
     ]
    }
   ],
   "source": [
    "\"\"\"ejercio 9 de pratica 02, consta de compara dos equipos y mirara cual tiene mas partidos ganados\"\"\"\n",
    "\n",
    "M = [\"G\",\"G\",\"G\",\"E\",\"P\"]\n",
    "N = [\"G\",\"G\",\"P\",\"E\",\"E\"]\n",
    "\n",
    "suma = 0\n",
    "y = \"G\"\n",
    "for i in M:\n",
    "    if i ==\"G\":\n",
    "        suma+=1\n",
    "\n",
    "suma2 = 0\n",
    "for i in N:\n",
    "    if i ==\"G\":\n",
    "        suma2 +=1\n",
    "        \n",
    "if suma>suma2:\n",
    "    print(\"Primer equipo\")\n",
    "else:\n",
    "    print(\"Segundo equipo\")\n",
    "    "
   ]
  },
  {
   "cell_type": "code",
   "execution_count": 30,
   "metadata": {},
   "outputs": [
    {
     "name": "stdout",
     "output_type": "stream",
     "text": [
      "5\n",
      "Error\n",
      "Error\n",
      "2\n"
     ]
    }
   ],
   "source": [
    "\"\"\"ejercio de la practica 03 cocnsta de hacer una funcion y mandarle valores, en caso de recibir un elemento que no puede evaluara la\n",
    "funcion tomar el erroe y e imprimir por panata error\"\"\"\n",
    "\n",
    "import math\n",
    "\n",
    "def funcion(c):\n",
    "    y = math.log((c + math.sqrt((c^2)-1)))\n",
    "    return round(y)\n",
    "\n",
    "lista = [115, -1, -4, 6]\n",
    "for i in lista:\n",
    "    try:\n",
    "        j = funcion(i)\n",
    "        print(j)\n",
    "    except:\n",
    "        print(\"Error\")\n",
    "\n",
    "\n"
   ]
  },
  {
   "cell_type": "code",
   "execution_count": 42,
   "metadata": {},
   "outputs": [
    {
     "name": "stdout",
     "output_type": "stream",
     "text": [
      "['Espinosa', 'Toro']\n"
     ]
    }
   ],
   "source": [
    "\"\"\"ejercio de paractica 02  costa de hacer una funcion que evalue dentro de una lista de listas que tiene los nombre de personas con \n",
    "sus apellidos mirar cuales osn hermanos\"\"\"\n",
    "\n",
    "\n",
    "lista = [[\"Jorge\", \"Espinosa\"], [\"Andres\", \"Espinosa\"], [\"Mauricio\", \"Toro\"], [\"Diego\", \"Megia\"], [\"pedro\", \"Toro\"]]\n",
    "\n",
    "def Hermanos(x):\n",
    "    lista2 = []\n",
    "    for j in lista:\n",
    "        k = j[1]\n",
    "        lista2.append(k) \n",
    "    uni = []\n",
    "    rep = []\n",
    "    for i in lista2:\n",
    "        if i not in uni:\n",
    "            uni.append(i)\n",
    "        else:\n",
    "            if i not in rep:\n",
    "                rep.append(i)\n",
    "    return rep\n",
    "    \n",
    "\n",
    "print(Hermanos(lista))\n",
    "        "
   ]
  },
  {
   "cell_type": "code",
   "execution_count": 142,
   "metadata": {
    "scrolled": true
   },
   "outputs": [
    {
     "name": "stdout",
     "output_type": "stream",
     "text": [
      "No valido\n",
      "No valido\n",
      "[[9, 16, 25], [36, 0, 0]]\n"
     ]
    }
   ],
   "source": [
    "#M = int(input(\"ingrese un numero\\n\"))\n",
    "#N = eval(input(\"ingrese una matriz\\n\"))\n",
    "\n",
    "\"\"\"Este ejercicio se usa para elevar cada elemento de una matrix al cuadrado o a un elemento cualquiera, si hay texto se cambia por \n",
    "un cero y se procesde de la misma manera\"\"\"\n",
    "M = int(2)\n",
    "N = [[3, 4, 5], [6, \"hola\", \"oe\"]]\n",
    "\n",
    "for j in N:\n",
    "    for k in j:\n",
    "        if type(k) is str:\n",
    "            print(\"No valido\")\n",
    "            l = j.index(k)\n",
    "            j[l] = 0\n",
    "\n",
    "for i in N:\n",
    "    for j in range(0, len(i)):\n",
    "        i[j]= i[j]**M\n",
    "print(N)"
   ]
  },
  {
   "cell_type": "code",
   "execution_count": 16,
   "metadata": {},
   "outputs": [
    {
     "name": "stdout",
     "output_type": "stream",
     "text": [
      "['holaaa', 'todos', 'jajajaja', 'chao', 'colobiaaaa']\n",
      "holaaa !! jajajaja !! colobiaaaa\n"
     ]
    }
   ],
   "source": [
    "\"\"\"este ejeccio trata de, dado un strip straer las palabras que tiens mas de dos a, luego separarlos por dos !! \"\"\"\n",
    "M = \"holaaa todos jajajaja chao colobiaaaa\"\n",
    "\n",
    "j = M.split()\n",
    "print(j)\n",
    "lista = []\n",
    "for i in j:\n",
    "    if i.count(\"a\")>=2:\n",
    "        lista.append(i)\n",
    "\n",
    "\n",
    "j= \" !! \".join(lista)\n",
    "\n",
    "print(j)"
   ]
  },
  {
   "cell_type": "code",
   "execution_count": 51,
   "metadata": {},
   "outputs": [
    {
     "name": "stdout",
     "output_type": "stream",
     "text": [
      "No se pueden restar las matrices\n",
      "None\n"
     ]
    }
   ],
   "source": [
    "\"\"\"ejercicio consiste en crear una funcion resta las dos\n",
    "matrices, e imprimirlos en formato normal\"\"\"\n",
    "import numpy as np\n",
    "def Resta(x,y):\n",
    "    try:\n",
    "        if len(x)==len(y):\n",
    "            x = np.array(x)\n",
    "            y = np.array(y)\n",
    "            j = x+y\n",
    "            y = j.tolist()\n",
    "            return y\n",
    "    \n",
    "    except:\n",
    "        return print(\"No se pueden restar las matrices\")\n",
    "        \n",
    "o = [[1,2],[3,4,9]]\n",
    "l = [[5,6],[7,8]] \n",
    "y = Resta(o,l)\n",
    "\n",
    "print(y)"
   ]
  },
  {
   "cell_type": "code",
   "execution_count": 82,
   "metadata": {},
   "outputs": [
    {
     "name": "stdout",
     "output_type": "stream",
     "text": [
      "[['o', 2], ['r', 2], ['e', 2], ['j', 1], ['e', 2], ['r', 2], ['o', 2]]\n",
      "None\n"
     ]
    }
   ],
   "source": [
    "\"\"\"consiste en evaluar si una palabra es palindroma  o no, si lo es hacer un conteo de las letras en de la palbara, luego\n",
    "imprimirlo en una lista de listas, donde cada sublista tiene la letra y el numero de veces que se repite.\"\"\"\n",
    "\n",
    "def Palindroma(x):\n",
    "    p = y[0:4]\n",
    "    j = y[-4:]\n",
    "    j = j[::-1]\n",
    "    lista = []\n",
    "    if p == j:\n",
    "        frecu = []\n",
    "        for i in x:\n",
    "            frecu.append(x.count(i))\n",
    "        k = list(zip(x, frecu))\n",
    "        for i in k:\n",
    "            l = list(i)\n",
    "            lista.append(l)\n",
    "        return print(lista) \n",
    "    else:\n",
    "        return print(\"No\")\n",
    "        \n",
    "y = \"orejero\"\n",
    "print(Palindroma(y))\n",
    "        "
   ]
  },
  {
   "cell_type": "code",
   "execution_count": 118,
   "metadata": {},
   "outputs": [
    {
     "name": "stdout",
     "output_type": "stream",
     "text": [
      "[4, 2, 4]\n",
      "Equipo 1\n"
     ]
    }
   ],
   "source": [
    "\"\"\"costa de miara cual es el cual lista tiene mas v ese que corresponde a los resuldados deuna equipos, le que tenga myor cantidad de v\n",
    "se considera equipo ganador\"\"\"\n",
    "\n",
    "\n",
    "matris = [[\"v\", \"v\", \"d\", \"v\", \"v\"], [\"v\", \"d\", \"v\", \"d\", \"d\"], [\"d\", \"v\", \"v\", \"v\", \"v\"]]\n",
    "\n",
    "lista = []\n",
    "\n",
    "for i in matris:\n",
    "    for l in range(len(i)):\n",
    "        for j in i:\n",
    "            h =i.count(\"v\")\n",
    "    lista.append(h)\n",
    "\n",
    "        \n",
    "k = max(lista)\n",
    "\n",
    "print(lista)\n",
    "\n",
    "if lista.index(k)==0:\n",
    "    print(\"Equipo 1\")\n",
    "if lista.index(k)==1:\n",
    "    print(\"Equipo 2\")\n",
    "\n",
    "if lista.index(k)==2:\n",
    "    print(\"equipo 3\")\n"
   ]
  },
  {
   "cell_type": "code",
   "execution_count": 139,
   "metadata": {},
   "outputs": [
    {
     "name": "stdout",
     "output_type": "stream",
     "text": [
      "[10, 9, 6, 5, 4, 3, 2, 1]\n"
     ]
    }
   ],
   "source": [
    "\"\"\"crear una funcion que orede los elemtos de una lista en orde desentente, sin usar sort\"\"\"\n",
    "\n",
    "def orden_descendente(x):\n",
    "    lista = []\n",
    "    for i in range(len(x)):\n",
    "        for l in x:\n",
    "            j = max(x)\n",
    "            lista.append(j)\n",
    "            x.remove(j)           \n",
    "    return lista\n",
    "\n",
    "x = [1,2,3,4,5,6,9,10]\n",
    "\n",
    "print(orden_descendente(x))"
   ]
  },
  {
   "cell_type": "code",
   "execution_count": 149,
   "metadata": {},
   "outputs": [
    {
     "name": "stdout",
     "output_type": "stream",
     "text": [
      "Ingrese una consulta\n",
      "caliche\n",
      "No encontrado\n",
      "Ingrese una consulta\n",
      "susana\n",
      "2484930\n",
      "Ingrese una consulta\n",
      "miguel\n",
      "23849030\n",
      "Ingrese una consulta\n",
      "-1\n"
     ]
    }
   ],
   "source": [
    "\"\"\"consiste en hacer consultar indeterminadas a un diccionario e imprimir el valor asignado, en caso de no estra tomar\n",
    "el error e imprimir no encontrado\"\"\"\n",
    "\n",
    "M = {\"santiago\":1036789, \"marta\": 234567, \"susana\":2484930, \"miguel\":23849030, \"daniel\":384829, \"sara\":12343234}\n",
    "\n",
    "while True:\n",
    "    j = input(\"Ingrese una consulta\\n\")\n",
    "    if j ==\"-1\":\n",
    "        break\n",
    "    try:\n",
    "        k = M[j]\n",
    "        print(k)\n",
    "    except:\n",
    "        print(\"No encontrado\")"
   ]
  },
  {
   "cell_type": "code",
   "execution_count": 13,
   "metadata": {},
   "outputs": [
    {
     "name": "stdout",
     "output_type": "stream",
     "text": [
      "#!*?NOVA y #!*?IDARIO siempre\n"
     ]
    }
   ],
   "source": [
    "t = \"#!*?\"\n",
    "y = \"vamos a casa amigo, esta gerra no vale la pena, por que el sol ya salio\"\n",
    "y2 = \"CaSAnovA y SoLidario siempre\"\n",
    "\n",
    "y = y2.upper()\n",
    "x = y.replace(\"SOL\",\"#!*?\")\n",
    "x = x.replace(\"GUERRA\",\"#!*?\")\n",
    "x = x.replace(\"CASA\",\"#!*?\")\n",
    "\n",
    "\n",
    "j = x.split()\n",
    "\n",
    "\n",
    "for i in j:\n",
    "    h = j.index(i)\n",
    "    if \"#\" not in i:\n",
    "        j[h] = i.lower()\n",
    "\n",
    "            \n",
    "l = \" \".join(j)\n",
    "print(l)\n",
    "\n"
   ]
  },
  {
   "cell_type": "code",
   "execution_count": 65,
   "metadata": {},
   "outputs": [
    {
     "name": "stdout",
     "output_type": "stream",
     "text": [
      "CANCION pasion romance RELACION\n"
     ]
    }
   ],
   "source": [
    "\"\"\"cooregir las palabras terminadas en cion\"\"\"\n",
    "#M = input(\"Ingrese un texto\\n\")\n",
    "### corregir esta malo en las parcticas no esta bueno \n",
    "#y = \"hola soy una canciON que hace una representacion\"\n",
    "y = \"cancion pasion romance relacION\"\n",
    "y = y.lower()\n",
    "y = y.split()\n",
    "\n",
    "for i in y:\n",
    "    if i[-4:]==\"cion\":\n",
    "        j = y.index(i)\n",
    "        y[j] = i.upper()\n",
    "h = \" \".join(y)\n",
    "print(h)"
   ]
  },
  {
   "cell_type": "code",
   "execution_count": 8,
   "metadata": {},
   "outputs": [
    {
     "name": "stdout",
     "output_type": "stream",
     "text": [
      "La mujer esta feliz , su perro esta sano y salvo.\n"
     ]
    }
   ],
   "source": [
    "j = open(\"prueba.txt\", \"r\")\n",
    "\n",
    "l = j.readlines()\n",
    "\n",
    "lista = []\n",
    "for i in l:\n",
    "    k = i.rstrip()\n",
    "    lista.append(k)\n",
    "\n",
    "\n",
    "lista2 = []\n",
    "\n",
    "for i in lista:\n",
    "    if i[0].isupper() ==True:\n",
    "        lista2.append(i)\n",
    "\n",
    "for i in lista:\n",
    "    if i[0] ==\",\":\n",
    "        lista2.append(i)\n",
    "        \n",
    "for i in lista:\n",
    "    if i[-1] ==\".\":\n",
    "        lista2.append(i)\n",
    "\n",
    "y = \" \".join(lista2)\n",
    "print(y)\n"
   ]
  },
  {
   "cell_type": "code",
   "execution_count": 289,
   "metadata": {},
   "outputs": [
    {
     "name": "stdout",
     "output_type": "stream",
     "text": [
      "['01-01-2000', '01-01-2001', '01-01-2002', '01-01-2003', '01-01-2004', '01-01-2005', '01-01-2006', '01-01-2007', '01-01-2008', '01-01-2009', '01-01-2010', '01-01-2011', '01-01-2012', '01-01-2013', '01-01-2014', '01-01-2015', '01-01-2016', '01-01-2017', '01-01-2018', '01-01-2019', '01-01-2020']\n",
      "['03-01-2000', '10-01-2000', '17-01-2000', '24-01-2000', '31-01-2000', '07-02-2000', '14-02-2000', '21-02-2000', '28-02-2000', '06-03-2000', '13-03-2000', '20-03-2000', '27-03-2000', '03-04-2000', '10-04-2000', '17-04-2000', '24-04-2000', '01-05-2000', '08-05-2000', '15-05-2000', '22-05-2000', '29-05-2000', '05-06-2000', '12-06-2000', '19-06-2000', '26-06-2000', '03-07-2000', '10-07-2000', '17-07-2000', '24-07-2000', '31-07-2000', '07-08-2000', '14-08-2000', '21-08-2000', '28-08-2000', '04-09-2000', '11-09-2000', '18-09-2000', '25-09-2000', '02-10-2000', '09-10-2000', '16-10-2000', '23-10-2000', '30-10-2000', '06-11-2000', '13-11-2000', '20-11-2000', '27-11-2000', '04-12-2000', '11-12-2000', '18-12-2000', '25-12-2000', '08-01-2001', '15-01-2001', '22-01-2001', '29-01-2001', '05-02-2001', '12-02-2001', '19-02-2001', '26-02-2001', '05-03-2001', '12-03-2001', '19-03-2001', '26-03-2001', '02-04-2001', '09-04-2001', '16-04-2001', '23-04-2001', '30-04-2001', '07-05-2001', '14-05-2001', '21-05-2001', '28-05-2001', '04-06-2001', '11-06-2001', '18-06-2001', '25-06-2001', '02-07-2001', '09-07-2001', '16-07-2001', '23-07-2001', '30-07-2001', '06-08-2001', '13-08-2001', '20-08-2001', '27-08-2001', '03-09-2001', '10-09-2001', '17-09-2001', '24-09-2001', '01-10-2001', '08-10-2001', '15-10-2001', '22-10-2001', '29-10-2001', '05-11-2001', '12-11-2001', '19-11-2001', '26-11-2001', '03-12-2001', '10-12-2001', '17-12-2001', '24-12-2001', '31-12-2001', '07-01-2002', '14-01-2002', '21-01-2002', '28-01-2002', '04-02-2002', '11-02-2002', '18-02-2002', '25-02-2002', '04-03-2002', '11-03-2002', '18-03-2002', '25-03-2002', '01-04-2002', '08-04-2002', '15-04-2002', '22-04-2002', '29-04-2002', '06-05-2002', '13-05-2002', '20-05-2002', '27-05-2002', '03-06-2002', '10-06-2002', '17-06-2002', '24-06-2002', '01-07-2002', '08-07-2002', '15-07-2002', '22-07-2002', '29-07-2002', '05-08-2002', '12-08-2002', '19-08-2002', '26-08-2002', '02-09-2002', '09-09-2002', '16-09-2002', '23-09-2002', '30-09-2002', '07-10-2002', '14-10-2002', '21-10-2002', '28-10-2002', '04-11-2002', '11-11-2002', '18-11-2002', '25-11-2002', '02-12-2002', '09-12-2002', '16-12-2002', '23-12-2002', '30-12-2002', '06-01-2003', '13-01-2003', '20-01-2003', '27-01-2003', '03-02-2003', '10-02-2003', '17-02-2003', '24-02-2003', '03-03-2003', '10-03-2003', '17-03-2003', '24-03-2003', '31-03-2003', '07-04-2003', '14-04-2003', '21-04-2003', '28-04-2003', '05-05-2003', '12-05-2003', '19-05-2003', '26-05-2003', '02-06-2003', '09-06-2003', '16-06-2003', '23-06-2003', '30-06-2003', '07-07-2003', '14-07-2003', '21-07-2003', '28-07-2003', '04-08-2003', '11-08-2003', '18-08-2003', '25-08-2003', '01-09-2003', '08-09-2003', '15-09-2003', '22-09-2003', '29-09-2003', '06-10-2003', '13-10-2003', '20-10-2003', '27-10-2003', '03-11-2003', '10-11-2003', '17-11-2003', '24-11-2003', '01-12-2003', '08-12-2003', '15-12-2003', '22-12-2003', '29-12-2003', '05-01-2004', '12-01-2004', '19-01-2004', '26-01-2004', '02-02-2004', '09-02-2004', '16-02-2004', '23-02-2004', '01-03-2004', '08-03-2004', '15-03-2004', '22-03-2004', '29-03-2004', '05-04-2004', '12-04-2004', '19-04-2004', '26-04-2004', '03-05-2004', '10-05-2004', '17-05-2004', '24-05-2004', '31-05-2004', '07-06-2004', '14-06-2004', '21-06-2004', '28-06-2004', '05-07-2004', '12-07-2004', '19-07-2004', '26-07-2004', '02-08-2004', '09-08-2004', '16-08-2004', '23-08-2004', '30-08-2004', '06-09-2004', '13-09-2004', '20-09-2004', '27-09-2004', '04-10-2004', '11-10-2004', '18-10-2004', '25-10-2004', '01-11-2004', '08-11-2004', '15-11-2004', '22-11-2004', '29-11-2004', '06-12-2004', '13-12-2004', '20-12-2004', '27-12-2004', '03-01-2005', '10-01-2005', '17-01-2005', '24-01-2005', '31-01-2005', '07-02-2005', '14-02-2005', '21-02-2005', '28-02-2005', '07-03-2005', '14-03-2005', '21-03-2005', '28-03-2005', '04-04-2005', '11-04-2005', '18-04-2005', '25-04-2005', '02-05-2005', '09-05-2005', '16-05-2005', '23-05-2005', '30-05-2005', '06-06-2005', '13-06-2005', '20-06-2005', '27-06-2005', '04-07-2005', '11-07-2005', '18-07-2005', '25-07-2005', '01-08-2005', '08-08-2005', '15-08-2005', '22-08-2005', '29-08-2005', '05-09-2005', '12-09-2005', '19-09-2005', '26-09-2005', '03-10-2005', '10-10-2005', '17-10-2005', '24-10-2005', '31-10-2005', '07-11-2005', '14-11-2005', '21-11-2005', '28-11-2005', '05-12-2005', '12-12-2005', '19-12-2005', '26-12-2005', '02-01-2006', '09-01-2006', '16-01-2006', '23-01-2006', '30-01-2006', '06-02-2006', '13-02-2006', '20-02-2006', '27-02-2006', '06-03-2006', '13-03-2006', '20-03-2006', '27-03-2006', '03-04-2006', '10-04-2006', '17-04-2006', '24-04-2006', '01-05-2006', '08-05-2006', '15-05-2006', '22-05-2006', '29-05-2006', '05-06-2006', '12-06-2006', '19-06-2006', '26-06-2006', '03-07-2006', '10-07-2006', '17-07-2006', '24-07-2006', '31-07-2006', '07-08-2006', '14-08-2006', '21-08-2006', '28-08-2006', '04-09-2006', '11-09-2006', '18-09-2006', '25-09-2006', '02-10-2006', '09-10-2006', '16-10-2006', '23-10-2006', '30-10-2006', '06-11-2006', '13-11-2006', '20-11-2006', '27-11-2006', '04-12-2006', '11-12-2006', '18-12-2006', '25-12-2006', '08-01-2007', '15-01-2007', '22-01-2007', '29-01-2007', '05-02-2007', '12-02-2007', '19-02-2007', '26-02-2007', '05-03-2007', '12-03-2007', '19-03-2007', '26-03-2007', '02-04-2007', '09-04-2007', '16-04-2007', '23-04-2007', '30-04-2007', '07-05-2007', '14-05-2007', '21-05-2007', '28-05-2007', '04-06-2007', '11-06-2007', '18-06-2007', '25-06-2007', '02-07-2007', '09-07-2007', '16-07-2007', '23-07-2007', '30-07-2007', '06-08-2007', '13-08-2007', '20-08-2007', '27-08-2007', '03-09-2007', '10-09-2007', '17-09-2007', '24-09-2007', '01-10-2007', '08-10-2007', '15-10-2007', '22-10-2007', '29-10-2007', '05-11-2007', '12-11-2007', '19-11-2007', '26-11-2007', '03-12-2007', '10-12-2007', '17-12-2007', '24-12-2007', '31-12-2007', '07-01-2008', '14-01-2008', '21-01-2008', '28-01-2008', '04-02-2008', '11-02-2008', '18-02-2008', '25-02-2008', '03-03-2008', '10-03-2008', '17-03-2008', '24-03-2008', '31-03-2008', '07-04-2008', '14-04-2008', '21-04-2008', '28-04-2008', '05-05-2008', '12-05-2008', '19-05-2008', '26-05-2008', '02-06-2008', '09-06-2008', '16-06-2008', '23-06-2008', '30-06-2008', '07-07-2008', '14-07-2008', '21-07-2008', '28-07-2008', '04-08-2008', '11-08-2008', '18-08-2008', '25-08-2008', '01-09-2008', '08-09-2008', '15-09-2008', '22-09-2008', '29-09-2008', '06-10-2008', '13-10-2008', '20-10-2008', '27-10-2008', '03-11-2008', '10-11-2008', '17-11-2008', '24-11-2008', '01-12-2008', '08-12-2008', '15-12-2008', '22-12-2008', '29-12-2008', '05-01-2009', '12-01-2009', '19-01-2009', '26-01-2009', '02-02-2009', '09-02-2009', '16-02-2009', '23-02-2009', '02-03-2009', '09-03-2009', '16-03-2009', '23-03-2009', '30-03-2009', '06-04-2009', '13-04-2009', '20-04-2009', '27-04-2009', '04-05-2009', '11-05-2009', '18-05-2009', '25-05-2009', '01-06-2009', '08-06-2009', '15-06-2009', '22-06-2009', '29-06-2009', '06-07-2009', '13-07-2009', '20-07-2009', '27-07-2009', '03-08-2009', '10-08-2009', '17-08-2009', '24-08-2009', '31-08-2009', '07-09-2009', '14-09-2009', '21-09-2009', '28-09-2009', '05-10-2009', '12-10-2009', '19-10-2009', '26-10-2009', '02-11-2009', '09-11-2009', '16-11-2009', '23-11-2009', '30-11-2009', '07-12-2009', '14-12-2009', '21-12-2009', '28-12-2009', '04-01-2010', '11-01-2010', '18-01-2010', '25-01-2010', '01-02-2010', '08-02-2010', '15-02-2010', '22-02-2010', '01-03-2010', '08-03-2010', '15-03-2010', '22-03-2010', '29-03-2010', '05-04-2010', '12-04-2010', '19-04-2010', '26-04-2010', '03-05-2010', '10-05-2010', '17-05-2010', '24-05-2010', '31-05-2010', '07-06-2010', '14-06-2010', '21-06-2010', '28-06-2010', '05-07-2010', '12-07-2010', '19-07-2010', '26-07-2010', '02-08-2010', '09-08-2010', '16-08-2010', '23-08-2010', '30-08-2010', '06-09-2010', '13-09-2010', '20-09-2010', '27-09-2010', '04-10-2010', '11-10-2010', '18-10-2010', '25-10-2010', '01-11-2010', '08-11-2010', '15-11-2010', '22-11-2010', '29-11-2010', '06-12-2010', '13-12-2010', '20-12-2010', '27-12-2010', '03-01-2011', '10-01-2011', '17-01-2011', '24-01-2011', '31-01-2011', '07-02-2011', '14-02-2011', '21-02-2011', '28-02-2011', '07-03-2011', '14-03-2011', '21-03-2011', '28-03-2011', '04-04-2011', '11-04-2011', '18-04-2011', '25-04-2011', '02-05-2011', '09-05-2011', '16-05-2011', '23-05-2011', '30-05-2011', '06-06-2011', '13-06-2011', '20-06-2011', '27-06-2011', '04-07-2011', '11-07-2011', '18-07-2011', '25-07-2011', '01-08-2011', '08-08-2011', '15-08-2011', '22-08-2011', '29-08-2011', '05-09-2011', '12-09-2011', '19-09-2011', '26-09-2011', '03-10-2011', '10-10-2011', '17-10-2011', '24-10-2011', '31-10-2011', '07-11-2011', '14-11-2011', '21-11-2011', '28-11-2011', '05-12-2011', '12-12-2011', '19-12-2011', '26-12-2011', '02-01-2012', '09-01-2012', '16-01-2012', '23-01-2012', '30-01-2012', '06-02-2012', '13-02-2012', '20-02-2012', '27-02-2012', '05-03-2012', '12-03-2012', '19-03-2012', '26-03-2012', '02-04-2012', '09-04-2012', '16-04-2012', '23-04-2012', '30-04-2012', '07-05-2012', '14-05-2012', '21-05-2012', '28-05-2012', '04-06-2012', '11-06-2012', '18-06-2012', '25-06-2012', '02-07-2012', '09-07-2012', '16-07-2012', '23-07-2012', '30-07-2012', '06-08-2012', '13-08-2012', '20-08-2012', '27-08-2012', '03-09-2012', '10-09-2012', '17-09-2012', '24-09-2012', '01-10-2012', '08-10-2012', '15-10-2012', '22-10-2012', '29-10-2012', '05-11-2012', '12-11-2012', '19-11-2012', '26-11-2012', '03-12-2012', '10-12-2012', '17-12-2012', '24-12-2012', '31-12-2012', '07-01-2013', '14-01-2013', '21-01-2013', '28-01-2013', '04-02-2013', '11-02-2013', '18-02-2013', '25-02-2013', '04-03-2013', '11-03-2013', '18-03-2013', '25-03-2013', '01-04-2013', '08-04-2013', '15-04-2013', '22-04-2013', '29-04-2013', '06-05-2013', '13-05-2013', '20-05-2013', '27-05-2013', '03-06-2013', '10-06-2013', '17-06-2013', '24-06-2013', '01-07-2013', '08-07-2013', '15-07-2013', '22-07-2013', '29-07-2013', '05-08-2013', '12-08-2013', '19-08-2013', '26-08-2013', '02-09-2013', '09-09-2013', '16-09-2013', '23-09-2013', '30-09-2013', '07-10-2013', '14-10-2013', '21-10-2013', '28-10-2013', '04-11-2013', '11-11-2013', '18-11-2013', '25-11-2013', '02-12-2013', '09-12-2013', '16-12-2013', '23-12-2013', '30-12-2013', '06-01-2014', '13-01-2014', '20-01-2014', '27-01-2014', '03-02-2014', '10-02-2014', '17-02-2014', '24-02-2014', '03-03-2014', '10-03-2014', '17-03-2014', '24-03-2014', '31-03-2014', '07-04-2014', '14-04-2014', '21-04-2014', '28-04-2014', '05-05-2014', '12-05-2014', '19-05-2014', '26-05-2014', '02-06-2014', '09-06-2014', '16-06-2014', '23-06-2014', '30-06-2014', '07-07-2014', '14-07-2014', '21-07-2014', '28-07-2014', '04-08-2014', '11-08-2014', '18-08-2014', '25-08-2014', '01-09-2014', '08-09-2014', '15-09-2014', '22-09-2014', '29-09-2014', '06-10-2014', '13-10-2014', '20-10-2014', '27-10-2014', '03-11-2014', '10-11-2014', '17-11-2014', '24-11-2014', '01-12-2014', '08-12-2014', '15-12-2014', '22-12-2014', '29-12-2014', '05-01-2015', '12-01-2015', '19-01-2015', '26-01-2015', '02-02-2015', '09-02-2015', '16-02-2015', '23-02-2015', '02-03-2015', '09-03-2015', '16-03-2015', '23-03-2015', '30-03-2015', '06-04-2015', '13-04-2015', '20-04-2015', '27-04-2015', '04-05-2015', '11-05-2015', '18-05-2015', '25-05-2015', '01-06-2015', '08-06-2015', '15-06-2015', '22-06-2015', '29-06-2015', '06-07-2015', '13-07-2015', '20-07-2015', '27-07-2015', '03-08-2015', '10-08-2015', '17-08-2015', '24-08-2015', '31-08-2015', '07-09-2015', '14-09-2015', '21-09-2015', '28-09-2015', '05-10-2015', '12-10-2015', '19-10-2015', '26-10-2015', '02-11-2015', '09-11-2015', '16-11-2015', '23-11-2015', '30-11-2015', '07-12-2015', '14-12-2015', '21-12-2015', '28-12-2015', '04-01-2016', '11-01-2016', '18-01-2016', '25-01-2016', '01-02-2016', '08-02-2016', '15-02-2016', '22-02-2016', '29-02-2016', '07-03-2016', '14-03-2016', '21-03-2016', '28-03-2016', '04-04-2016', '11-04-2016', '18-04-2016', '25-04-2016', '02-05-2016', '09-05-2016', '16-05-2016', '23-05-2016', '30-05-2016', '06-06-2016', '13-06-2016', '20-06-2016', '27-06-2016', '04-07-2016', '11-07-2016', '18-07-2016', '25-07-2016', '01-08-2016', '08-08-2016', '15-08-2016', '22-08-2016', '29-08-2016', '05-09-2016', '12-09-2016', '19-09-2016', '26-09-2016', '03-10-2016', '10-10-2016', '17-10-2016', '24-10-2016', '31-10-2016', '07-11-2016', '14-11-2016', '21-11-2016', '28-11-2016', '05-12-2016', '12-12-2016', '19-12-2016', '26-12-2016', '02-01-2017', '09-01-2017', '16-01-2017', '23-01-2017', '30-01-2017', '06-02-2017', '13-02-2017', '20-02-2017', '27-02-2017', '06-03-2017', '13-03-2017', '20-03-2017', '27-03-2017', '03-04-2017', '10-04-2017', '17-04-2017', '24-04-2017', '01-05-2017', '08-05-2017', '15-05-2017', '22-05-2017', '29-05-2017', '05-06-2017', '12-06-2017', '19-06-2017', '26-06-2017', '03-07-2017', '10-07-2017', '17-07-2017', '24-07-2017', '31-07-2017', '07-08-2017', '14-08-2017', '21-08-2017', '28-08-2017', '04-09-2017', '11-09-2017', '18-09-2017', '25-09-2017', '02-10-2017', '09-10-2017', '16-10-2017', '23-10-2017', '30-10-2017', '06-11-2017', '13-11-2017', '20-11-2017', '27-11-2017', '04-12-2017', '11-12-2017', '18-12-2017', '25-12-2017', '08-01-2018', '15-01-2018', '22-01-2018', '29-01-2018', '05-02-2018', '12-02-2018', '19-02-2018', '26-02-2018', '05-03-2018', '12-03-2018', '19-03-2018', '26-03-2018', '02-04-2018', '09-04-2018', '16-04-2018', '23-04-2018', '30-04-2018', '07-05-2018', '14-05-2018', '21-05-2018', '28-05-2018', '04-06-2018', '11-06-2018', '18-06-2018', '25-06-2018', '02-07-2018', '09-07-2018', '16-07-2018', '23-07-2018', '30-07-2018', '06-08-2018', '13-08-2018', '20-08-2018', '27-08-2018', '03-09-2018', '10-09-2018', '17-09-2018', '24-09-2018', '01-10-2018', '08-10-2018', '15-10-2018', '22-10-2018', '29-10-2018', '05-11-2018', '12-11-2018', '19-11-2018', '26-11-2018', '03-12-2018', '10-12-2018', '17-12-2018', '24-12-2018', '31-12-2018', '07-01-2019', '14-01-2019', '21-01-2019', '28-01-2019', '04-02-2019', '11-02-2019', '18-02-2019', '25-02-2019', '04-03-2019', '11-03-2019', '18-03-2019', '25-03-2019', '01-04-2019', '08-04-2019', '15-04-2019', '22-04-2019', '29-04-2019', '06-05-2019', '13-05-2019', '20-05-2019', '27-05-2019', '03-06-2019', '10-06-2019', '17-06-2019', '24-06-2019', '01-07-2019', '08-07-2019', '15-07-2019', '22-07-2019', '29-07-2019', '05-08-2019', '12-08-2019', '19-08-2019', '26-08-2019', '02-09-2019', '09-09-2019', '16-09-2019', '23-09-2019', '30-09-2019', '07-10-2019', '14-10-2019', '21-10-2019', '28-10-2019', '04-11-2019', '11-11-2019', '18-11-2019', '25-11-2019', '02-12-2019', '09-12-2019', '16-12-2019', '23-12-2019', '30-12-2019', '06-01-2020', '13-01-2020', '20-01-2020', '27-01-2020', '03-02-2020', '10-02-2020', '17-02-2020', '24-02-2020', '02-03-2020', '09-03-2020', '16-03-2020', '23-03-2020', '30-03-2020', '06-04-2020', '13-04-2020', '20-04-2020', '27-04-2020', '04-05-2020', '11-05-2020', '18-05-2020', '25-05-2020', '01-06-2020', '08-06-2020', '15-06-2020', '22-06-2020', '29-06-2020', '06-07-2020', '13-07-2020', '20-07-2020', '27-07-2020', '03-08-2020', '10-08-2020', '17-08-2020', '24-08-2020', '31-08-2020', '07-09-2020', '14-09-2020', '21-09-2020', '28-09-2020', '05-10-2020', '12-10-2020', '19-10-2020', '26-10-2020', '02-11-2020', '09-11-2020', '16-11-2020', '23-11-2020', '30-11-2020', '07-12-2020', '14-12-2020', '21-12-2020', '28-12-2020']\n",
      "[]\n"
     ]
    }
   ],
   "source": [
    "from datetime import datetime\n",
    "j =  \"2000/01/01 20\"\n",
    "\n",
    "# fecha\n",
    "fecha = j[0:10]\n",
    "\n",
    "#año de nacimiento\n",
    "a2 = j[0:4]\n",
    "a2 = int(a2)\n",
    "\n",
    "#años\n",
    "\n",
    "a = 2020-a2\n",
    "\n",
    "partes = fecha.split(\"/\")\n",
    "convertida = \"-\".join(reversed(partes))\n",
    "# fecha_dt = datetime.strptime(convertida, '%d-%m-%Y')\n",
    "\n",
    "\n",
    "# dia y mes \n",
    "p = convertida[0:6]\n",
    "\n",
    "\n",
    "lista = [convertida]\n",
    "\n",
    "# creo una lista con todas las fechas de los cumpleaños\n",
    "for i in range(1, a+1):\n",
    "    y = int(a2)\n",
    "    y = y+i\n",
    "    y = str(y)\n",
    "    h = p+y\n",
    "    lista.append(h)\n",
    "#print(lista)\n",
    "\n",
    "\n",
    "# funcion que me extrae todas la fechas de los lunes de un año\n",
    "\n",
    "def lunes(year):\n",
    "   d = date(year, 1, 1)                   \n",
    "   d += timedelta(days = 7 - d.weekday()) \n",
    "   while d.year == year:\n",
    "      yield d\n",
    "      d += timedelta(days = 7)\n",
    "\n",
    "\n",
    "lista2 = []\n",
    "for i in lista:\n",
    "    j = i[-4:]\n",
    "    j = int(j)\n",
    "    for t in lunes(j):\n",
    "        r = t.strftime('%d-%m-%Y')\n",
    "        lista2.append(r)\n",
    "\n",
    "dias = []\n",
    "for  i in lista:\n",
    "    if i in lista2:\n",
    "        dias.append(i)\n",
    "    \n",
    "\n",
    "  "
   ]
  },
  {
   "cell_type": "code",
   "execution_count": 257,
   "metadata": {
    "scrolled": true
   },
   "outputs": [
    {
     "ename": "ValueError",
     "evalue": "invalid literal for int() with base 10: '6/15'",
     "output_type": "error",
     "traceback": [
      "\u001b[1;31m---------------------------------------------------------------------------\u001b[0m",
      "\u001b[1;31mValueError\u001b[0m                                Traceback (most recent call last)",
      "\u001b[1;32m<ipython-input-257-e9486c8b90b3>\u001b[0m in \u001b[0;36m<module>\u001b[1;34m\u001b[0m\n\u001b[0;32m     28\u001b[0m \u001b[1;32mfor\u001b[0m \u001b[0mi\u001b[0m \u001b[1;32min\u001b[0m \u001b[0mlista\u001b[0m\u001b[1;33m:\u001b[0m\u001b[1;33m\u001b[0m\u001b[1;33m\u001b[0m\u001b[0m\n\u001b[0;32m     29\u001b[0m     \u001b[0mj\u001b[0m \u001b[1;33m=\u001b[0m \u001b[0mi\u001b[0m\u001b[1;33m[\u001b[0m\u001b[1;33m-\u001b[0m\u001b[1;36m4\u001b[0m\u001b[1;33m:\u001b[0m\u001b[1;33m]\u001b[0m\u001b[1;33m\u001b[0m\u001b[1;33m\u001b[0m\u001b[0m\n\u001b[1;32m---> 30\u001b[1;33m     \u001b[0mj\u001b[0m \u001b[1;33m=\u001b[0m \u001b[0mint\u001b[0m\u001b[1;33m(\u001b[0m\u001b[0mj\u001b[0m\u001b[1;33m)\u001b[0m\u001b[1;33m\u001b[0m\u001b[1;33m\u001b[0m\u001b[0m\n\u001b[0m\u001b[0;32m     31\u001b[0m     \u001b[1;32mfor\u001b[0m \u001b[0mt\u001b[0m \u001b[1;32min\u001b[0m \u001b[0mlunes\u001b[0m\u001b[1;33m(\u001b[0m\u001b[0mj\u001b[0m\u001b[1;33m)\u001b[0m\u001b[1;33m:\u001b[0m\u001b[1;33m\u001b[0m\u001b[1;33m\u001b[0m\u001b[0m\n\u001b[0;32m     32\u001b[0m         \u001b[0mr\u001b[0m \u001b[1;33m=\u001b[0m \u001b[0mt\u001b[0m\u001b[1;33m.\u001b[0m\u001b[0mstrftime\u001b[0m\u001b[1;33m(\u001b[0m\u001b[1;34m'%d/%m/%Y'\u001b[0m\u001b[1;33m)\u001b[0m\u001b[1;33m\u001b[0m\u001b[1;33m\u001b[0m\u001b[0m\n",
      "\u001b[1;31mValueError\u001b[0m: invalid literal for int() with base 10: '6/15'"
     ]
    }
   ],
   "source": [
    "j =  \"1899/06/15 100\"\n",
    "j = j[0:10]\n",
    "p = j[5:10]\n",
    "\n",
    "partes = j.split(\"/\")\n",
    "convertida = \"-\".join(reversed(partes))\n",
    "fecha_dt = datetime.strptime(convertida, '%d-%m-%Y')\n",
    "\n",
    "lista = [j]\n",
    "\n",
    "for i in range(1, 24+1):\n",
    "    y =1995\n",
    "    y = y+i\n",
    "    y = str(y)\n",
    "    h = p+\"/\"+y\n",
    "    lista.append(h)\n",
    "\n",
    "\n",
    "\n",
    "def lunes(year):\n",
    "   d = date(year, 1, 1)                   \n",
    "   d += timedelta(days = 7 - d.weekday()) \n",
    "   while d.year == year:\n",
    "      yield d\n",
    "      d += timedelta(days = 7)\n",
    "\n",
    "lista2 = []\n",
    "for i in lista:\n",
    "    j = i[-4:]\n",
    "    j = int(j)\n",
    "    for t in lunes(j):\n",
    "        r = t.strftime('%d/%m/%Y')\n",
    "        lista2.append(r)\n",
    "        \n",
    "print(lista2)\n",
    "#dias = []\n",
    "#for  i in lista:\n",
    " #   if i in lista2:\n",
    "  #      dias.append(i)\n",
    "    \n",
    "\n",
    "#print(dias)"
   ]
  },
  {
   "cell_type": "code",
   "execution_count": 290,
   "metadata": {},
   "outputs": [
    {
     "name": "stdout",
     "output_type": "stream",
     "text": [
      "1\n",
      "1995/12/31 24\n",
      "[]\n"
     ]
    }
   ],
   "source": [
    "from datetime import datetime\n",
    "n = int(input())\n",
    "\n",
    "def lunes(year):\n",
    "   d = date(year, 1, 1)                   \n",
    "   d += timedelta(days = 7 - d.weekday()) \n",
    "   while d.year == year:\n",
    "      yield d\n",
    "      d += timedelta(days = 7)\n",
    "\n",
    "lista = []\n",
    "lista2 = []\n",
    "for i in range(n):\n",
    "    y = input()\n",
    "    j = y[:-3]\n",
    "    k = y[-3:]\n",
    "    k = int(k)\n",
    "    t = y[0:4]\n",
    "    t = int(t)\n",
    "    p = j[5:10]\n",
    "    partes = j.split(\"/\")\n",
    "    convertida = \"-\".join(reversed(partes))\n",
    "    for i in range(1, k+1):\n",
    "        y = t\n",
    "        y = y+i\n",
    "        y = str(y)\n",
    "        h =p+\"/\"+y\n",
    "        lista.append(h)\n",
    "        \n",
    "    for i in lista:\n",
    "        j = i[-4:]\n",
    "        j = int(j)\n",
    "        for t in lunes(j):\n",
    "            r = t.strftime('%d/%m/%Y')\n",
    "            lista2.append(r)\n",
    "    dias = []\n",
    "    for  i in lista:\n",
    "        if i in lista2:\n",
    "            dias.append(i)\n",
    "\n",
    "print(dias)\n",
    "    \n",
    "    "
   ]
  },
  {
   "cell_type": "code",
   "execution_count": 24,
   "metadata": {},
   "outputs": [
    {
     "name": "stdout",
     "output_type": "stream",
     "text": [
      "5 5 5\n"
     ]
    }
   ],
   "source": [
    "y = 3*\"5\"\n",
    "\n",
    "lit = []\n",
    "for i in y:\n",
    "    lit.append(i)\n",
    "y = \" \".join(lit)\n",
    "print(y)"
   ]
  },
  {
   "cell_type": "code",
   "execution_count": 9,
   "metadata": {},
   "outputs": [
    {
     "ename": "ValueError",
     "evalue": "unsupported format character 'y' (0x79) at index 1",
     "output_type": "error",
     "traceback": [
      "\u001b[1;31m---------------------------------------------------------------------------\u001b[0m",
      "\u001b[1;31mValueError\u001b[0m                                Traceback (most recent call last)",
      "\u001b[1;32m<ipython-input-9-619a1832c7d9>\u001b[0m in \u001b[0;36m<module>\u001b[1;34m\u001b[0m\n\u001b[0;32m      8\u001b[0m             \u001b[0mday\u001b[0m\u001b[1;33m=\u001b[0m\u001b[0mdate\u001b[0m\u001b[1;33m(\u001b[0m\u001b[0mYear\u001b[0m\u001b[1;33m,\u001b[0m\u001b[0mb\u001b[0m\u001b[1;33m,\u001b[0m\u001b[0mk\u001b[0m\u001b[1;33m)\u001b[0m\u001b[1;33m\u001b[0m\u001b[1;33m\u001b[0m\u001b[0m\n\u001b[0;32m      9\u001b[0m             \u001b[1;32mif\u001b[0m \u001b[0mday\u001b[0m\u001b[1;33m.\u001b[0m\u001b[0mweekday\u001b[0m\u001b[1;33m(\u001b[0m\u001b[1;33m)\u001b[0m\u001b[1;33m==\u001b[0m\u001b[1;36m0\u001b[0m\u001b[1;33m:\u001b[0m\u001b[1;33m\u001b[0m\u001b[1;33m\u001b[0m\u001b[0m\n\u001b[1;32m---> 10\u001b[1;33m                 \u001b[0mprint\u001b[0m\u001b[1;33m(\u001b[0m\u001b[1;34m\"%y-%m-%dd\"\u001b[0m \u001b[1;33m%\u001b[0m \u001b[1;33m(\u001b[0m\u001b[0mcalendar\u001b[0m\u001b[1;33m.\u001b[0m\u001b[0mday_name\u001b[0m\u001b[1;33m[\u001b[0m\u001b[1;36m1\u001b[0m\u001b[1;33m]\u001b[0m \u001b[1;33m,\u001b[0m\u001b[0mk\u001b[0m\u001b[1;33m,\u001b[0m\u001b[0mb\u001b[0m\u001b[1;33m,\u001b[0m\u001b[0mYear\u001b[0m\u001b[1;33m)\u001b[0m\u001b[1;33m)\u001b[0m\u001b[1;33m\u001b[0m\u001b[1;33m\u001b[0m\u001b[0m\n\u001b[0m",
      "\u001b[1;31mValueError\u001b[0m: unsupported format character 'y' (0x79) at index 1"
     ]
    }
   ],
   "source": [
    "from datetime import date\n",
    "import calendar\n",
    "Year= 2007\n",
    "A=calendar.TextCalendar(calendar.SUNDAY)\n",
    "for b in range(1,13):\n",
    "    for k in A.itermonthdays(Year,b):\n",
    "        if k!=0:\n",
    "            day=date(Year,b,k)\n",
    "            if day.weekday()==0:\n",
    "                print(\"%y-%m-%dd\" % (calendar.day_name[1] ,k,b,Year))"
   ]
  },
  {
   "cell_type": "code",
   "execution_count": 31,
   "metadata": {},
   "outputs": [
    {
     "name": "stdout",
     "output_type": "stream",
     "text": [
      "0\n"
     ]
    }
   ],
   "source": [
    "\"\"\"Ejercicio suleima\"\"\"\n",
    "from datetime import datetime\n",
    "n = int(input())\n",
    "for i in range(0, n):\n",
    "    j = input()\n",
    "    j = j.split()\n",
    "    perdio = datetime.strptime(j[0], \"%d-%m-%Y\")\n",
    "    encontro = datetime.strptime(j[1], \"%d-%m-%Y\")\n",
    "    dife = encontro-perdio\n",
    "    dife = dife.days\n",
    "    if dife%5==0:\n",
    "        y = dife/5\n",
    "        k = int(y)*\"5\"\n",
    "        lit = []\n",
    "        for i in k:\n",
    "            lit.append(i)\n",
    "        p = \" \".join(lit)\n",
    "        print(p)\n",
    "    else:\n",
    "        lista = []\n",
    "        if dife%5!=0:\n",
    "            r = dife//5\n",
    "            l = r*\"5\"\n",
    "            for i in l:\n",
    "                lista.append(i)\n",
    "            t = dife%5\n",
    "            o = t*\"1\"\n",
    "            for i in o:\n",
    "                lista.append(i)\n",
    "            w = \" \".join(lista)\n",
    "        print(w)\n",
    "          "
   ]
  },
  {
   "cell_type": "code",
   "execution_count": 233,
   "metadata": {},
   "outputs": [
    {
     "name": "stdout",
     "output_type": "stream",
     "text": [
      "3\n",
      "10/02/2010\n",
      "---  ---  ---  ---  ---  ---  ---\n",
      "lun  mar  mie  jue  vie  sab  dom\n",
      "1    2    3    4    5    6    7\n",
      "8    9    10   11   12   13   14\n",
      "15   16   17   18   19   20   21\n",
      "22   23   24   25   26   27   28\n",
      "\n",
      "\n",
      "---  ---  ---  ---  ---  ---  ---\n",
      "05/01/2000\n",
      "---  ---  ---  ---  ---  ---  ---\n",
      "lun  mar  mie  jue  vie  sab  dom\n",
      "                         1    2\n",
      "3    4    5    6    7    8    9\n",
      "10   11   12   13   14   15   16\n",
      "17   18   19   20   21   22   23\n",
      "24   25   26   27   28   29   30\n",
      "31\n",
      "---  ---  ---  ---  ---  ---  ---\n",
      "29/02/1996\n",
      "---  ---  ---  ---  ---  ---  ---\n",
      "lun  mar  mie  jue  vie  sab  dom\n",
      "               1    2    3    4\n",
      "5    6    7    8    9    10   11\n",
      "12   13   14   15   16   17   18\n",
      "19   20   21   22   23   24   25\n",
      "26   27   28   29\n",
      "\n",
      "---  ---  ---  ---  ---  ---  ---\n"
     ]
    }
   ],
   "source": [
    "# consiste en ingresar una fecha y se imprime el mes de esa fecha y el año\n",
    "\n",
    "from tabulate import tabulate\n",
    "import calendar\n",
    "dias = [\"lun\", \"mar\", \"mie\", \"jue\", \"vie\", \"sab\", \"dom\"]\n",
    "n=int(input())\n",
    "for e in range(n):\n",
    "    f=input()\n",
    "    fe=f.split('/')\n",
    "    obj = calendar.Calendar() \n",
    "    r = obj.monthdatescalendar(int(fe[2]), int(fe[1]))\n",
    "    lista = []\n",
    "    for i in r:\n",
    "        for j in i:\n",
    "            y = j.day\n",
    "            lista.append(y)\n",
    "\n",
    "       \n",
    "    lista2=[dias]\n",
    "\n",
    "    sema1 = lista[0:7]\n",
    "    for i in sema1:\n",
    "        if i >10:\n",
    "            j = sema1.index(i)\n",
    "            sema1[j] = \"  \"\n",
    "    lista2.append(sema1)\n",
    "    sema2 = lista[7:14]\n",
    "    lista2.append(sema2)\n",
    "    sema3 = lista[14:21]\n",
    "    lista2.append(sema3)\n",
    "    sema4 = lista[21:28]\n",
    "    lista2.append(sema4)\n",
    "    sema5 = lista[28:35]\n",
    "    for i in sema5:\n",
    "        if i < 20:\n",
    "            j = sema5.index(i)\n",
    "            sema5[j] = \"  \"\n",
    "\n",
    "    lista2.append(sema5)\n",
    "\n",
    "    sema6 = lista[35:]\n",
    "    for i in sema6:\n",
    "        if i < 20:\n",
    "            j = sema6.index(i)\n",
    "            sema6[j] = \"  \"\n",
    "    lista2.append(sema6)\n",
    "    print(tabulate(lista2))"
   ]
  },
  {
   "cell_type": "markdown",
   "metadata": {},
   "source": [
    "# EJERCICIO TARTA DE SABER CUAL ES MAYOR DE EDA "
   ]
  },
  {
   "cell_type": "code",
   "execution_count": 14,
   "metadata": {},
   "outputs": [
    {
     "name": "stdout",
     "output_type": "stream",
     "text": [
      "['Margarita', 'Javier', 'Luz']\n"
     ]
    }
   ],
   "source": [
    "\"\"\"\n",
    "ejercico costa de restar dos fechas y emprimir la mayor\n",
    "\"\"\"\n",
    "from datetime import datetime\n",
    "lista = [[\"Margarita\", \"17/12/2000\"], [\"Javier\", \"16/12/1670\"], [\"Luz\", \"18/12/1670\"]]\n",
    "fecha = \"15/01/2019\"\n",
    "\n",
    "j = datetime.strptime(fecha, \"%d/%m/%Y\")\n",
    "\n",
    "\n",
    "lista2 = []\n",
    "for i in lista:\n",
    "    t = 18*365\n",
    "    y = i[1]\n",
    "    p = datetime.strptime(y, \"%d/%m/%Y\")\n",
    "    h = j-p\n",
    "    if h.days >=t:\n",
    "        lista2.append(i[0])\n",
    "print(lista2)"
   ]
  },
  {
   "cell_type": "code",
   "execution_count": 4,
   "metadata": {},
   "outputs": [
    {
     "name": "stdout",
     "output_type": "stream",
     "text": [
      "['yo3', 'salte', 'y', 'deje', 'hola']\n"
     ]
    }
   ],
   "source": [
    "M = \"hola, los 3 somos un equipo y juntos somos solo 1\"\n",
    "m = \"yo3 salte y deje hola\"\n",
    "y = m.lower()\n",
    "for i in y:\n",
    "    if i == "
   ]
  },
  {
   "cell_type": "code",
   "execution_count": 5,
   "metadata": {},
   "outputs": [
    {
     "name": "stdout",
     "output_type": "stream",
     "text": [
      "15:15:01\n"
     ]
    }
   ],
   "source": [
    "# convertir segundos a horas minutos y segundos \n",
    "import time\n",
    "n = 54901\n",
    "y = time.strftime(\"%H:%M:%S\", time.gmtime(n))\n",
    "print(y)"
   ]
  },
  {
   "cell_type": "markdown",
   "metadata": {},
   "source": [
    "# validar una contraseña"
   ]
  },
  {
   "cell_type": "code",
   "execution_count": 33,
   "metadata": {},
   "outputs": [
    {
     "name": "stdout",
     "output_type": "stream",
     "text": [
      "valida\n"
     ]
    }
   ],
   "source": [
    "\"\"\"validar una contraseña\n",
    "\"\"\"\n",
    "\n",
    "N = [\"santiago\", 10407, \"españa\"]\n",
    "M = \"joseignacio123o\"\n",
    "M = M.lower()\n",
    "nombre = N[0].lower()\n",
    "cedula = str(N[1])\n",
    "pais = N[2]\n",
    "if cedula in M:\n",
    "    print(\"no valida\")\n",
    "    \n",
    "elif nombre in M:\n",
    "    print(\"No valida\")\n",
    "\n",
    "elif pais in M:\n",
    "    print(\"no valida\")\n",
    "    \n",
    "else:\n",
    "    print(\"valida\")\n"
   ]
  },
  {
   "cell_type": "code",
   "execution_count": 50,
   "metadata": {},
   "outputs": [
    {
     "name": "stdout",
     "output_type": "stream",
     "text": [
      "Ejercicio\n"
     ]
    }
   ],
   "source": [
    "# ejercico trata de, dada una palabra y un strin revisar si la palabra esta en el texto, si lo esta imprimir las siguinete a ella\n",
    "# si no imprimir el texto alreves\n",
    "\n",
    "N = \"solo se que este ejercicio es muy facil\"\n",
    "M = \"este\"\n",
    "\n",
    "l = N[::-1]\n",
    "\n",
    "\n",
    "j = N.split()\n",
    "\n",
    "for i in j:\n",
    "    if i == M:\n",
    "        y = j.index(i)\n",
    "        print(j[y+1].capitalize())\n",
    "if M not in j:\n",
    "    print(l.upper())\n",
    "\n",
    "        "
   ]
  },
  {
   "cell_type": "code",
   "execution_count": 45,
   "metadata": {},
   "outputs": [
    {
     "name": "stdout",
     "output_type": "stream",
     "text": [
      "luz\n"
     ]
    }
   ],
   "source": [
    "# dada una listas de listas con nombre y fecha de nacimiento, imprimir el nombre de la menor de cada lista, las sublistas,\n",
    "# tienen el primera entrada el nobre y en la segunda la fecha de nacimiento.\n",
    "from datetime import datetime\n",
    "\n",
    "y = [[\"margarita\", \"17/12/1670\"], [\"javier\", \"16/12/1670\"], [\"luz\", \"18/12/1670\"]]\n",
    "\n",
    "#y = [[\"karen\", \"01/09/1994\"],[\"cindy\", \"03/08/1994\"]]\n",
    "fechas =[]\n",
    "for i in y:\n",
    "    j = i[1]\n",
    "    n = datetime.strptime(j, \"%d/%m/%Y\")\n",
    "    edad = datetime.now()-n\n",
    "    j = edad.days\n",
    "    fechas.append(j)\n",
    "\n",
    "\n",
    "menor = min(fechas)\n",
    "\n",
    "indice = fechas.index(menor)\n",
    "\n",
    "nombre = y[indice][0]\n",
    "\n",
    "print(nombre)"
   ]
  },
  {
   "cell_type": "code",
   "execution_count": 85,
   "metadata": {},
   "outputs": [
    {
     "name": "stdout",
     "output_type": "stream",
     "text": [
      "9790\n"
     ]
    }
   ],
   "source": [
    "## costa de llamar un archivo que tiene dos numero leugo hacer la sumatoria que hay en ese intervalo\n",
    "j = open(\"prueba1.txt\", \"r\")\n",
    "\n",
    "l = j.readlines()\n",
    "\n",
    "numero = []\n",
    "\n",
    "for i in l:\n",
    "    k = i.rstrip()\n",
    "    numero.append(int(k))\n",
    "\n",
    "j = min(numero)\n",
    "l = max(numero)\n",
    "\n",
    "pares = []\n",
    "for i in range(j, l):\n",
    "    if i%2 ==0:\n",
    "        pares.append(i)\n",
    "    \n",
    "print(sum(pares))\n",
    "    \n"
   ]
  },
  {
   "cell_type": "markdown",
   "metadata": {},
   "source": [
    "# ejercicio, costa de imprimir el recorrido de dos diccionarios."
   ]
  },
  {
   "cell_type": "code",
   "execution_count": 38,
   "metadata": {},
   "outputs": [
    {
     "name": "stdout",
     "output_type": "stream",
     "text": [
      "Juan\n",
      "98631127\n",
      "6102910\n",
      "Jose\n",
      "Dato no encontrado\n",
      "6107320\n"
     ]
    }
   ],
   "source": [
    "j = {\"Nombre\":\"Juan\", \"Cedula\":98631127, \"Telefono\":6102910}\n",
    "d = {\"Nombre\":\"Jose\", \"Telefono\":6107320}\n",
    "\n",
    "lista = [\"Nombre\", \"Cedula\", \"Telefono\"]\n",
    "\n",
    "\n",
    "\n",
    "for i in lista:\n",
    "    try:\n",
    "        print(j[i])\n",
    "    except:\n",
    "        print(\"Dato no encontrado\")\n",
    "        \n",
    "\n",
    "\n",
    "for i in lista:\n",
    "    try:\n",
    "        print(d[i])\n",
    "    except:\n",
    "        print(\"Dato no encontrado\")\n",
    "        \n",
    "\n",
    "\n",
    "\n",
    "\n",
    "\n"
   ]
  },
  {
   "cell_type": "markdown",
   "metadata": {},
   "source": [
    "# costa de sumar a una hora otra hora dada, minutos segundo o horas"
   ]
  },
  {
   "cell_type": "code",
   "execution_count": 39,
   "metadata": {},
   "outputs": [
    {
     "name": "stdout",
     "output_type": "stream",
     "text": [
      "23:55:10\n",
      "59 minutos\n",
      "00:54:10\n"
     ]
    }
   ],
   "source": [
    "from datetime import datetime\n",
    "\n",
    "j = input()\n",
    "M = input()\n",
    "l = M.split()\n",
    "\n",
    "j = datetime.strptime(j, \"%H:%M:%S\")\n",
    "\n",
    "if l[1]==\"minutos\":\n",
    "    import datetime\n",
    "    ayer = j +datetime.timedelta(minutes=int(l[0]))\n",
    "    ayer = str(ayer)\n",
    "    print(ayer[-8:])\n",
    "\n",
    "    \n",
    "if l[1]==\"horas\":\n",
    "    import datetime\n",
    "    ayer = j +datetime.timedelta(hours=int(l[0]))\n",
    "    ayer = str(ayer)\n",
    "    print(ayer[-8:])\n",
    "    \n",
    "    \n",
    "\n",
    "if l[1]==\"segundos\":\n",
    "    import datetime\n",
    "    ayer = j +datetime.timedelta(seconds=int(l[0]))\n",
    "    ayer = str(ayer)\n",
    "    print(ayer[-8:])\n",
    "\n"
   ]
  },
  {
   "cell_type": "markdown",
   "metadata": {},
   "source": [
    "#  funcion edad actual \n"
   ]
  },
  {
   "cell_type": "code",
   "execution_count": 116,
   "metadata": {
    "scrolled": true
   },
   "outputs": [
    {
     "name": "stdout",
     "output_type": "stream",
     "text": [
      "58 a - 9 m - 17 d\n",
      "None\n"
     ]
    }
   ],
   "source": [
    "from datetime import datetime\n",
    "from dateutil.relativedelta import relativedelta\n",
    "\n",
    "def edad_actual(x,y,z):\n",
    "    fecha = \"11/01/2019\"\n",
    "    fecha_dt = datetime.strptime(fecha, '%d/%m/%Y')\n",
    "    l = [ str(x), str(y), str(z)]\n",
    "    fecha2 = \"/\".join(l)\n",
    "    fecha_dt2 = datetime.strptime(fecha2, '%d/%m/%Y')\n",
    "    diff = relativedelta(fecha_dt, fecha_dt2)\n",
    "    print(diff.years, \"a\", \"-\", diff.months, \"m\", \"-\", diff.days, \"d\")\n",
    "print(edad_actual(25, 3, 1960))"
   ]
  },
  {
   "cell_type": "code",
   "execution_count": 25,
   "metadata": {},
   "outputs": [
    {
     "name": "stdout",
     "output_type": "stream",
     "text": [
      "Sep - Thursday\n"
     ]
    }
   ],
   "source": [
    "# ejercicio costa de hallar las imprimir las fechas en un formato establecido.\n",
    "\n",
    "from datetime import datetime\n",
    "n = \"01/09/1994\"\n",
    "\n",
    "n = datetime.strptime(n, \"%d/%m/%Y\")\n",
    "\n",
    "print(\"{:%b - %A}\".format(n))\n"
   ]
  },
  {
   "cell_type": "markdown",
   "metadata": {},
   "source": [
    "# ejercicio de fechas, sumar doas, horas .... e imprimir en el mismo formato"
   ]
  },
  {
   "cell_type": "code",
   "execution_count": null,
   "metadata": {},
   "outputs": [],
   "source": [
    "from datetime import datetime\n",
    "\n",
    "j = input()\n",
    "M = input()\n",
    "l = M.split()\n",
    "\n",
    "j = datetime.strptime(j, \"%d/%m/%Y %H:%M:%S\")\n",
    "\n",
    "if l[1]==\"minutos\":\n",
    "    import datetime\n",
    "    ayer = j +datetime.timedelta(minutes=int(l[0]))\n",
    "    format = ayer.strftime('%d/%m/%Y %H:%M:%S')\n",
    "    print(format)\n",
    "    \n",
    "if l[1]==\"horas\":\n",
    "    import datetime\n",
    "    ayer = j +datetime.timedelta(hours=int(l[0]))\n",
    "    format = ayer.strftime('%d/%m/%Y %H:%M:%S')\n",
    "    print(format)\n",
    "    \n",
    "\n",
    "if l[1]==\"segundos\":\n",
    "    import datetime\n",
    "    ayer = j +datetime.timedelta(seconds=int(l[0]))\n",
    "    format = ayer.strftime('%d/%m/%Y %H:%M:%S')\n",
    "    print(format)\n",
    "    \n",
    "if l[1]==\"semanas\":\n",
    "    import datetime\n",
    "    ayer = j +datetime.timedelta(weeks=int(l[0]))\n",
    "    format = ayer.strftime('%d/%m/%Y %H:%M:%S')\n",
    "    print(format)\n",
    "    \n",
    "if l[1]==\"dias\":\n",
    "    import datetime\n",
    "    ayer = j +datetime.timedelta(days=int(l[0]))\n",
    "    format = ayer.strftime('%d/%m/%Y %H:%M:%S')\n",
    "    print(format)\n",
    "    \n",
    "    "
   ]
  },
  {
   "cell_type": "markdown",
   "metadata": {},
   "source": [
    "# calcular la nota final dada sus notas y porcentajes "
   ]
  },
  {
   "cell_type": "code",
   "execution_count": 16,
   "metadata": {},
   "outputs": [
    {
     "name": "stdout",
     "output_type": "stream",
     "text": [
      "3.5\n",
      "None\n"
     ]
    }
   ],
   "source": [
    "def Nota(x):\n",
    "    lista =[]\n",
    "    for i in x:\n",
    "        j = i[0]*((i[1])/100)\n",
    "        lista.append(j)\n",
    "    h = sum(lista)\n",
    "    h = round(h, 1)\n",
    "    print(h)\n",
    "\n",
    "j = [[3.3, 20], [4.5, 40], [2.7, 40]]\n",
    "\n",
    "print(Nota(j))"
   ]
  },
  {
   "cell_type": "markdown",
   "metadata": {},
   "source": [
    "# hacer la suma de diagonal de una matriz y de la traspuesta de diagonald"
   ]
  },
  {
   "cell_type": "code",
   "execution_count": 49,
   "metadata": {},
   "outputs": [
    {
     "name": "stdout",
     "output_type": "stream",
     "text": [
      "197\n"
     ]
    }
   ],
   "source": [
    "import numpy as np\n",
    "\n",
    "a = [[0, 46],[53, 98]]\n",
    "\n",
    "o = np.array(a)\n",
    "l = np.transpose(o)\n",
    "h = np.fliplr(l)\n",
    "\n",
    "suma = 0\n",
    "for i in range(0, len(a)):\n",
    "    suma = suma + a[i][i]\n",
    "    \n",
    "suma2 = 0\n",
    "for i in range(0, len(h)):\n",
    "    suma2 = suma2 + h[i][i]\n",
    "    \n",
    "j = suma2+suma\n",
    "print(j)"
   ]
  },
  {
   "cell_type": "markdown",
   "metadata": {},
   "source": [
    "# saber cual palabar tiene ms letras que la otra"
   ]
  },
  {
   "cell_type": "code",
   "execution_count": 51,
   "metadata": {},
   "outputs": [
    {
     "name": "stdout",
     "output_type": "stream",
     "text": [
      "qwerasdfh\n",
      "Asdf\n",
      "La palabra qwerasdfh tiene 5 letras mas que Asdf\n"
     ]
    }
   ],
   "source": [
    "N = input()\n",
    "M = input()\n",
    "\n",
    "j = len(N)\n",
    "y = len(M)\n",
    "\n",
    "\n",
    "if j>y:\n",
    "    u = j-y\n",
    "    print(\"La palabra\", N, \"tiene\",u, \"letras mas que\",M)\n",
    "    \n",
    "\n",
    "if y>j:\n",
    "    u = y-j\n",
    "    print(\"La palabra\", M, \"tiene\",u, \"letras mas que\",N)\n",
    "    \n",
    "if j==y:\n",
    "    print(\"Las dos palabras tienen el mismo largo\")\n",
    "    "
   ]
  },
  {
   "cell_type": "markdown",
   "metadata": {},
   "source": [
    "# mirar si una contraseña es segura o con otros parametros......"
   ]
  },
  {
   "cell_type": "code",
   "execution_count": 60,
   "metadata": {},
   "outputs": [
    {
     "name": "stdout",
     "output_type": "stream",
     "text": [
      "Segura\n"
     ]
    }
   ],
   "source": [
    "k = \"CoLomb!*234hola4e\"\n",
    "\n",
    "\n",
    "k = k.lower()\n",
    "\n",
    "l =[]\n",
    "\n",
    "for i in k:\n",
    "    if i.isdigit() ==True:\n",
    "        l.append(i)\n",
    "j = len(l)\n",
    "\n",
    "c = \"colombia\"\n",
    "if len(k)>6 and  c not in k and (\"!*\" or \"*!\") in k and k[-1].isdigit() == False and j >3:\n",
    "    print(\"Segura\")\n",
    "else:\n",
    "    print(\"No segura\")"
   ]
  }
 ],
 "metadata": {
  "kernelspec": {
   "display_name": "Python 3",
   "language": "python",
   "name": "python3"
  },
  "language_info": {
   "codemirror_mode": {
    "name": "ipython",
    "version": 3
   },
   "file_extension": ".py",
   "mimetype": "text/x-python",
   "name": "python",
   "nbconvert_exporter": "python",
   "pygments_lexer": "ipython3",
   "version": "3.8.3"
  }
 },
 "nbformat": 4,
 "nbformat_minor": 4
}
