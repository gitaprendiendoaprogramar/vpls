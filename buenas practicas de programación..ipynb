{
 "cells": [
  {
   "cell_type": "markdown",
   "metadata": {},
   "source": [
    "# Ejemplo 1\n",
    "Cree un programa en Python 3 que le solicite al usuario ingresar un nombre de archivo. El archivo a leer contiene en cada una de sus dos primeras líneas un número entero.  Calcule la suma del cuadrado de los números contenidos en el achivo y muestre\n",
    "\n",
    "dicho resultado.\n",
    "\n",
    "Por ejemplo, si el usuario ingresa como nombre de archivo: test1.txt y en el archivo están los números 2 y 3 el programa debe mostrar:\n",
    "\n",
    "13"
   ]
  },
  {
   "cell_type": "code",
   "execution_count": 1,
   "metadata": {},
   "outputs": [
    {
     "ename": "SyntaxError",
     "evalue": "invalid syntax (<ipython-input-1-d1f3ac603ae0>, line 4)",
     "output_type": "error",
     "traceback": [
      "\u001b[1;36m  File \u001b[1;32m\"<ipython-input-1-d1f3ac603ae0>\"\u001b[1;36m, line \u001b[1;32m4\u001b[0m\n\u001b[1;33m    suma =\u001b[0m\n\u001b[1;37m           ^\u001b[0m\n\u001b[1;31mSyntaxError\u001b[0m\u001b[1;31m:\u001b[0m invalid syntax\n"
     ]
    }
   ],
   "source": [
    "nombre = input()\n",
    "lista = [\".txt\"]\n",
    "if nombre[-4:] in lista:\n",
    "    suma = \n",
    "    \n",
    "    \n"
   ]
  },
  {
   "cell_type": "markdown",
   "metadata": {},
   "source": [
    "## este ejercicio trata de verificar si un numero es perfecto o no, recuerde que un numero es prefecto si, la suma de sus divisores es igual al número."
   ]
  },
  {
   "cell_type": "code",
   "execution_count": 15,
   "metadata": {},
   "outputs": [
    {
     "name": "stdout",
     "output_type": "stream",
     "text": [
      "Ingrese un  numeroe entero2\n",
      "no perfecto\n"
     ]
    }
   ],
   "source": [
    "numero = int(input(\"Ingrese un  numeroe entero\"))\n",
    "\n",
    "lista = []\n",
    "for i in range(1, numero):\n",
    "    if numero%i ==0: # estoy hallando los divisores, comprobando si el numero divido en i es entera\n",
    "        lista.append(i) # agrego los divisores a una lista\n",
    "        \n",
    "if sum(lista)==numero:\n",
    "    print(\"perfecto\")\n",
    "else:\n",
    "    print(\"no perfecto\")\n"
   ]
  },
  {
   "cell_type": "markdown",
   "metadata": {},
   "source": [
    "## elsiguinete ejerccio trata de pedir al ususario que ingrese muchas listas, y las va imprimendo el programa se para cuando se ingresa una lista con numeros negativos."
   ]
  },
  {
   "cell_type": "code",
   "execution_count": 2,
   "metadata": {},
   "outputs": [
    {
     "name": "stdout",
     "output_type": "stream",
     "text": [
      "Ingrese una lista[1,3]\n",
      "Ingrese una lista[1,4]\n",
      "Ingrese una lista[-1,-2]\n"
     ]
    }
   ],
   "source": [
    "\n",
    "i = 1\n",
    "lista = []\n",
    "try:\n",
    "    while i>0:\n",
    "        lis = eval(input(\"Ingrese una lista\"))\n",
    "        lista.append(lis)\n",
    "        if lis[0]<0 and list[1]<0:\n",
    "            break\n",
    "            i = i+1\n",
    "except:\n",
    "    lista"
   ]
  },
  {
   "cell_type": "markdown",
   "metadata": {},
   "source": [
    "# ejemplo\n",
    "Cree un programa en Python 3 que le solicite al usuario números enteros de forma indefinida hasta encontrar un número negativo se debe calcular la suma de los cosenos de todos los números excepto del número negativo. Muestre exclusivamente la suma de los cosenos de los números ingresados aproximado a dos cifras decimales sin enunciados adicionales que lo acompañen.\n",
    "\n",
    "Nota: Para utilizar la función coseno debe importar la librería math(import math).\n",
    "\n",
    "por ejemplo si el usuario ingresa 92 180 30 55 436 174 302 217 305 96 212 34 167 -1 el programa debe mostrar \n",
    "\n",
    "-5.16"
   ]
  },
  {
   "cell_type": "code",
   "execution_count": 18,
   "metadata": {},
   "outputs": [
    {
     "name": "stdout",
     "output_type": "stream",
     "text": [
      "ingrese un numero2\n",
      "ingrese un numero-2\n",
      "[2, -2]\n",
      "-0.42\n"
     ]
    }
   ],
   "source": [
    "import math as mt\n",
    "lista = []\n",
    "j = 1\n",
    "while j >0:\n",
    "    \n",
    "    nu = int(input(\"ingrese un numero\"))\n",
    "    lista.append(nu)\n",
    "    if nu <0:\n",
    "        break\n",
    "    j = j+1\n",
    "print(lista)\n",
    "\n",
    "suma = 0\n",
    "for i in lista:\n",
    "    if i >0:\n",
    "        suma+=mt.cos(i)\n",
    "print(round(suma,2))       "
   ]
  },
  {
   "cell_type": "markdown",
   "metadata": {},
   "source": [
    "# ejemplo2\n",
    "Cree un programa en Python 3 que le solicite al usuario listas con dos números enteros de forma indefinida hasta encontrar una lista con dos números negativos en cada lista se encuentra la longitud de la base y la altura de un triangulo, calcular el área con cada lista excepto la lista con números negativos. Muestre exclusivamente el área de cada triangulo aproximado a dos cifras decimales sin enunciados adicionales que lo acompañen.\n",
    "\n",
    "Nota: Utilizar la función eval para convertir un string en lista.\n",
    "\n",
    "por ejemplo si el usuario ingresa [1, 7] [9, 13] [-1, -1] el programa debe mostrar\n",
    "\n",
    "3.5\n",
    "58.5"
   ]
  },
  {
   "cell_type": "code",
   "execution_count": 5,
   "metadata": {},
   "outputs": [
    {
     "name": "stdout",
     "output_type": "stream",
     "text": [
      "Ingrese una lista[1,3]\n",
      "Ingrese una lista[3,5]\n",
      "Ingrese una lista[-1,-4]\n",
      "[1.5, 7.5]\n"
     ]
    }
   ],
   "source": [
    "i = 1\n",
    "lista = []\n",
    "try:\n",
    "    while i>0:\n",
    "        lis = eval(input(\"Ingrese una lista\"))\n",
    "        lista.append(lis)\n",
    "        if lis[0]<0 and lis[1]<0: # condiciono de que si los elemtos de la lista son negativos me rompa el ciclo\n",
    "            break\n",
    "            i = i+1\n",
    "except: # estoy evitando i m geera algun error \n",
    "    lista\n",
    "\n",
    "lista2 = []\n",
    "\n",
    "for i in range(0, len(lista)):\n",
    "    pro = 1\n",
    "    for j in lista[i]: # estoy recorriendo los elementos de la lista que hay en la lista grande \n",
    "        pro *=j #estoy multiplicando todos lo elemtos de la lista\n",
    "    lista2.append(pro/2) #los agrego a una nueva lista\n",
    "    \n",
    "lista2.pop(-1)\n",
    "print(lista2)        \n",
    "        \n",
    "        \n",
    "        \n",
    "        \n",
    "               "
   ]
  },
  {
   "cell_type": "markdown",
   "metadata": {},
   "source": [
    "### el siguiente ejercico trata de hacer sumatoria de todos los enteros anteriores al numero, ejemplo si se ingresa 4 el resultado debe ser 10, ya que 1+2+3+4 = 10\n"
   ]
  },
  {
   "cell_type": "code",
   "execution_count": 12,
   "metadata": {},
   "outputs": [
    {
     "name": "stdout",
     "output_type": "stream",
     "text": [
      "4\n",
      "10\n"
     ]
    }
   ],
   "source": [
    "nu = int(input())\n",
    "\n",
    "lista = []\n",
    "for i in range(0,nu+1):\n",
    "    lista.append(i)\n",
    "    \n",
    "print(sum(lista))"
   ]
  },
  {
   "cell_type": "markdown",
   "metadata": {},
   "source": [
    "### el siguiente ejercicio trata de hacer pedir un número y una lista al usuario, luego elevar a cada elemento de la lista a nuemero dado, y si el elemento de la lista es un str se pasaba el error con try except y se imprime el str y un mesaje."
   ]
  },
  {
   "cell_type": "code",
   "execution_count": 17,
   "metadata": {},
   "outputs": [
    {
     "name": "stdout",
     "output_type": "stream",
     "text": [
      "Ingresa un número: 3\n",
      "Ingresa otro número: [1,3]\n",
      "1\n",
      "27\n"
     ]
    }
   ],
   "source": [
    "M = int(input(\"Ingresa un número: \"))\n",
    "Lista = eval(input(\"Ingresa otro número: \"))\n",
    "\n",
    "for i in Lista:\n",
    "    try: # se ingresa el codigo dentro del try para que si sale error darle una orden\n",
    "        print(i**M)\n",
    "    except: # si sale algun error le digo que haga las siguinetes ordenes.\n",
    "        print(\"No valido\")\n",
    "        print(i)\n",
    "        \n",
    "\n"
   ]
  },
  {
   "cell_type": "markdown",
   "metadata": {},
   "source": [
    "### este ejercico se trata de hallar la sumatoria de las diagonales de una matrix trapuesta\n"
   ]
  },
  {
   "cell_type": "code",
   "execution_count": 71,
   "metadata": {},
   "outputs": [
    {
     "name": "stdout",
     "output_type": "stream",
     "text": [
      "Ingrese una matrix: [[1,4,7],[2,5,8],[3,6,10]]\n",
      "16\n",
      "15\n"
     ]
    }
   ],
   "source": [
    "# hallando suma de las diagonales de una matris nxn\n",
    "    \n",
    "j = eval(input(\"Ingrese una matrix: \"))\n",
    "\n",
    "# Funcion para hallar la traspuesta de una matrix\n",
    "def TranspuMaV1(matriz):\n",
    "    m=matriz\n",
    "\n",
    "    nFil=len(m)\n",
    "    nCol=len(m[0])\n",
    "\n",
    "    # siendo i las filas y j las columnas\n",
    "    mt=[]\n",
    "    j=0\n",
    "    while j<nCol:\n",
    "        i=0\n",
    "        mt.append([])\n",
    "\n",
    "        while i<nFil:\n",
    "            mt[j].append(m[i][j])\n",
    "            i+=1\n",
    "\n",
    "        j+=1\n",
    "\n",
    "    return(mt)\n",
    "\n",
    "jt = TranspuMaV1(j)\n",
    "        \n",
    "lista = []\n",
    "i = 0\n",
    "a =0\n",
    "# agrega las entradas de la diagonal pricipal a una lista, para luego hacer sumatoria de la lista\n",
    "for i in range(0, len(jt)):\n",
    "    for a in jt:\n",
    "        if i == jt.index(a):\n",
    "            lista.append(a[i])\n",
    "            \n",
    "print(sum(lista))\n",
    "\n",
    "## una manera alternativa para hacer el mismo programa de atras es:\n",
    "for i in range(0, len(jt)):\n",
    "    for a in range(0,len(jt)):\n",
    "        if a ==i:\n",
    "            lista2.append(jt[i][i])\n",
    "\n",
    "## agrega las estradas de la diagonal secundaria a una lista para luego hacer sumatoria de la lista.\n",
    "\n",
    "\n",
    "# esta de diferente manera.\n",
    "lista2 = []\n",
    "for i in range(0, len(jt)):\n",
    "    for a in range(0,len(jt)):\n",
    "        if a ==i:\n",
    "            lista2.append(jt[a][len(jt)-i-1])\n",
    "            \n",
    "print(sum(lista2))            \n"
   ]
  },
  {
   "cell_type": "markdown",
   "metadata": {},
   "source": [
    "### funciones para hallar traspuesta de una matrix"
   ]
  },
  {
   "cell_type": "code",
   "execution_count": 74,
   "metadata": {},
   "outputs": [],
   "source": [
    "# Empleando bucle for anidados\n",
    "def TranspuMaV2(matriz):\n",
    "    m=matriz\n",
    "\n",
    "    nFil=len(m)\n",
    "    nCol=len(m[0])\n",
    "\n",
    "    # siendo i las filas y j las columnas\n",
    "    mt=[]\n",
    "\n",
    "    for j in range(nCol):\n",
    "        mt.append([])\n",
    "        for i in range(nFil):\n",
    "            mt[j].append(m[i][j])\n",
    "\n",
    "    return(mt)\n",
    "\n",
    "\n",
    "# Empleando la compresión lista anidada\n",
    "def TranspuMaV3(matriz):\n",
    "    m=matriz\n",
    "\n",
    "    nFil=len(m)\n",
    "    nCol=len(m[0])\n",
    "\n",
    "    # siendo i las filas y j las columnas\n",
    "    mt=[[m[i][j] for i in range(nFil)] for j in range(nCol)]\n",
    "\n",
    "    return(mt)\n",
    "\n",
    "# Funcion para hallar la traspuesta de una matrix\n",
    "def TranspuMaV1(matriz):\n",
    "    m=matriz\n",
    "\n",
    "    nFil=len(m)\n",
    "    nCol=len(m[0])\n",
    "\n",
    "    # siendo i las filas y j las columnas\n",
    "    mt=[]\n",
    "    j=0\n",
    "    while j<nCol:\n",
    "        i=0\n",
    "        mt.append([])\n",
    "\n",
    "        while i<nFil:\n",
    "            mt[j].append(m[i][j])\n",
    "            i+=1\n",
    "\n",
    "        j+=1\n",
    "\n",
    "    return(mt)"
   ]
  },
  {
   "cell_type": "markdown",
   "metadata": {},
   "source": [
    "### El siguiente ejercicio consiste en hallar los cantidad de valores unicos de una lista.\n",
    "        \n",
    "\n",
    "\n",
    "    "
   ]
  },
  {
   "cell_type": "code",
   "execution_count": null,
   "metadata": {},
   "outputs": [],
   "source": [
    "\n",
    "lista = []\n",
    "lista2 = []\n",
    "for i in range(1,100000):\n",
    "    nu = int(input())\n",
    "    if nu >658:\n",
    "        lista2.append(nu)\n",
    "    else:\n",
    "        lista.append(nu)\n",
    "    if  nu ==0:\n",
    "        break\n",
    "        \n",
    "uni = []\n",
    "rep =[]\n",
    "\n",
    "for i in lista:\n",
    "    if i not in uni:\n",
    "        uni.append(i)\n",
    "    elif i not in rep:\n",
    "        rep.append(i)\n",
    "\n",
    "\n",
    "print(len(uni)-1)"
   ]
  },
  {
   "cell_type": "markdown",
   "metadata": {},
   "source": [
    "### El siguiente ejercicio cosnta de hallar el area de un circulo dado un input de radio.\n"
   ]
  },
  {
   "cell_type": "code",
   "execution_count": 28,
   "metadata": {},
   "outputs": [
    {
     "name": "stdout",
     "output_type": "stream",
     "text": [
      "Ingresa un numero: 1234\n",
      "4781453.84\n"
     ]
    }
   ],
   "source": [
    "N = float(input(\"Ingresa un numero: \"))\n",
    "pi = 3.14\n",
    "area =pi*(N**2)\n",
    "\n",
    "area = round(area,2)\n",
    "print(area)"
   ]
  },
  {
   "cell_type": "markdown",
   "metadata": {},
   "source": [
    "## hallar la base de un rectangulo que es dos veces su altura, dado su perimetro.\n"
   ]
  },
  {
   "cell_type": "code",
   "execution_count": 3,
   "metadata": {},
   "outputs": [
    {
     "name": "stdout",
     "output_type": "stream",
     "text": [
      "Ingrese un número: 12\n",
      "4.0\n"
     ]
    }
   ],
   "source": [
    "N = float(input(\"Ingrese un número: \"))\n",
    "ba = (N/6)*2\n",
    "bas = round(ba, 1)\n",
    "print(bas)"
   ]
  },
  {
   "cell_type": "code",
   "execution_count": 9,
   "metadata": {},
   "outputs": [
    {
     "name": "stdout",
     "output_type": "stream",
     "text": [
      "Ingrese una lista de elementos: [2,3,4,5,]\n",
      "14\n"
     ]
    }
   ],
   "source": [
    "M = eval(input(\"Ingrese una lista de elementos: \"))\n",
    "\n",
    "\n",
    "def Sumatoria(x):\n",
    "    try:\n",
    "        suma = sum(x)\n",
    "        return suma    \n",
    "    except:\n",
    "        print(\"No es posible realizar la suma de lista: \")\n",
    "print((Sumatoria(M)))\n",
    "    "
   ]
  },
  {
   "cell_type": "code",
   "execution_count": 7,
   "metadata": {},
   "outputs": [],
   "source": [
    "def Llamadas(x):\n",
    "    i = 200\n",
    "    if sum(x)<200:\n",
    "        print(\"No\")\n",
    "    else:\n",
    "        h = sum\n",
    "            \n",
    "       "
   ]
  },
  {
   "cell_type": "markdown",
   "metadata": {},
   "source": [
    "# Ejemplo 3\n",
    "Cree un programa en Python 3 que le solicite al usuario números enteros de forma indefinida hasta encontrar un número negativo. Cada número corresponde a las ventas de camisas en un mes (excepto el número negativo). Sabiendo que el costo de producir cada camisa es de  $ 15000 y que se venden a $ 20000, calcule la ganancia promedio mensual. Muestre exclusivamente la ganancia promedio mensual aproximada a dos cifras decimales, sin enunciados adicionales que lo acompañen.\n",
    "\n",
    "Por ejemplo, si el usuario ingresa los números: 710, 870, 750, 67, 52 y -1, el programa debe mostrar\n",
    "\n",
    "2449000.0"
   ]
  },
  {
   "cell_type": "code",
   "execution_count": null,
   "metadata": {},
   "outputs": [],
   "source": [
    "i = 1\n",
    "lista = []\n",
    "while i>0:\n",
    "    N = int(input()) #### estoy generando inputs de numeros enteros hata que ingresen un numero negativo\n",
    "    lista.append(N)\n",
    "    if N <0:\n",
    "        break\n",
    "\n",
    "    \n",
    "\n",
    "lista.pop(-1)\n",
    "pre = 20000\n",
    "costo = 15000\n",
    "\n",
    "gana = sum(lista)*pre - sum(lista)*costo # incuentor la ganancia \n",
    "\n",
    "pro = round((gana/len(lista)),2) # primedio redondeado a dos cifras\n",
    "print(pro)"
   ]
  }
 ],
 "metadata": {
  "kernelspec": {
   "display_name": "Python 3",
   "language": "python",
   "name": "python3"
  },
  "language_info": {
   "codemirror_mode": {
    "name": "ipython",
    "version": 3
   },
   "file_extension": ".py",
   "mimetype": "text/x-python",
   "name": "python",
   "nbconvert_exporter": "python",
   "pygments_lexer": "ipython3",
   "version": "3.8.3"
  }
 },
 "nbformat": 4,
 "nbformat_minor": 4
}
