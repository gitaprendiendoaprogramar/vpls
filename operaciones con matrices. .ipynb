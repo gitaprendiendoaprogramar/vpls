{
 "cells": [
  {
   "cell_type": "markdown",
   "metadata": {},
   "source": [
    "# Ejercicio\n",
    "Cree un programa en Python 3 que le solicite al usuario una matriz, su programa debe mostrar por pantalla la matriz transpuesta de la matriz ingresada(cada fila en una linea diferente). Muestre exclusivamente lo solicitado anteriormente sin enunciados extra que lo acompañen\n",
    "\n",
    "La transpuesta de una matriz\n",
    "\n",
    "[a b]\n",
    "\n",
    "[c d]\n",
    "\n",
    "[e f]\n",
    "\n",
    "es\n",
    "\n",
    "[a c e]\n",
    "\n",
    "[b d  f]\n",
    "\n",
    "Nota: Utilizar el comando eval para convertir un string en una matriz.\n",
    "\n",
    "por ejemplo si el usuario ingresa [[30, 57], [20, 3], [15, 8], [50, 80]] el programa debe mostrar\n",
    "\n",
    "[30, 20, 15, 50]\n",
    "[57, 3, 8, 80]\n"
   ]
  },
  {
   "cell_type": "code",
   "execution_count": 1,
   "metadata": {},
   "outputs": [
    {
     "name": "stdout",
     "output_type": "stream",
     "text": [
      "Requirement already satisfied: numpy in c:\\users\\usuario\\anaconda3\\lib\\site-packages (1.18.5)\n",
      "Note: you may need to restart the kernel to use updated packages.\n"
     ]
    }
   ],
   "source": [
    "pip install numpy"
   ]
  },
  {
   "cell_type": "code",
   "execution_count": 31,
   "metadata": {},
   "outputs": [
    {
     "name": "stdout",
     "output_type": "stream",
     "text": [
      "13\n",
      "[[], [], [], [], [], [], [], [], [], []]\n",
      "12\n",
      "28\n",
      "31\n",
      "98\n",
      "91\n",
      "96\n",
      "19\n"
     ]
    },
    {
     "ename": "IndexError",
     "evalue": "list index out of range",
     "output_type": "error",
     "traceback": [
      "\u001b[1;31m---------------------------------------------------------------------------\u001b[0m",
      "\u001b[1;31mIndexError\u001b[0m                                Traceback (most recent call last)",
      "\u001b[1;32m<ipython-input-31-f4c329575c22>\u001b[0m in \u001b[0;36m<module>\u001b[1;34m\u001b[0m\n\u001b[0;32m     11\u001b[0m \u001b[1;32mfor\u001b[0m \u001b[0mi\u001b[0m \u001b[1;32min\u001b[0m \u001b[0mrange\u001b[0m\u001b[1;33m(\u001b[0m\u001b[1;36m0\u001b[0m\u001b[1;33m,\u001b[0m \u001b[0mlen\u001b[0m\u001b[1;33m(\u001b[0m\u001b[0mh\u001b[0m\u001b[1;33m)\u001b[0m\u001b[1;33m)\u001b[0m\u001b[1;33m:\u001b[0m\u001b[1;33m\u001b[0m\u001b[1;33m\u001b[0m\u001b[0m\n\u001b[0;32m     12\u001b[0m     \u001b[1;32mfor\u001b[0m \u001b[0mj\u001b[0m \u001b[1;32min\u001b[0m \u001b[0mrange\u001b[0m\u001b[1;33m(\u001b[0m\u001b[1;36m0\u001b[0m\u001b[1;33m,\u001b[0m \u001b[0mlen\u001b[0m\u001b[1;33m(\u001b[0m\u001b[0mh\u001b[0m\u001b[1;33m)\u001b[0m\u001b[1;33m)\u001b[0m\u001b[1;33m:\u001b[0m\u001b[1;33m\u001b[0m\u001b[1;33m\u001b[0m\u001b[0m\n\u001b[1;32m---> 13\u001b[1;33m         \u001b[0mk\u001b[0m \u001b[1;33m=\u001b[0m \u001b[0mh\u001b[0m\u001b[1;33m[\u001b[0m\u001b[0mi\u001b[0m\u001b[1;33m]\u001b[0m\u001b[1;33m[\u001b[0m\u001b[0mj\u001b[0m\u001b[1;33m]\u001b[0m\u001b[1;33m\u001b[0m\u001b[1;33m\u001b[0m\u001b[0m\n\u001b[0m\u001b[0;32m     14\u001b[0m         \u001b[0mprint\u001b[0m\u001b[1;33m(\u001b[0m\u001b[0mk\u001b[0m\u001b[1;33m)\u001b[0m\u001b[1;33m\u001b[0m\u001b[1;33m\u001b[0m\u001b[0m\n\u001b[0;32m     15\u001b[0m         \u001b[1;31m#lista[i].append(9)\u001b[0m\u001b[1;33m\u001b[0m\u001b[1;33m\u001b[0m\u001b[1;33m\u001b[0m\u001b[0m\n",
      "\u001b[1;31mIndexError\u001b[0m: list index out of range"
     ]
    }
   ],
   "source": [
    "import numpy as np\n",
    "h = [[12, 28, 31, 98, 91, 96, 19], [13, 13, 12, 45, 8, 20, 90], [100, 91, 92, 85, 94, 40, 87], [87, 79, 23, 15, 30, 20, 3], [47, 36, 21, 66, 99, 88, 50], [47, 71, 31, 42, 35, 21, 85], [99, 50, 43, 38, 47, 59, 97], [65, 89, 62, 19, 48, 53, 4], [13, 63, 32, 96, 50, 9, 36], [63, 26, 1, 16, 54, 69, 30]]\n",
    "\n",
    "lista = []\n",
    "\n",
    "print(h[1][1])\n",
    "for i in range(0, len(h)):\n",
    "    lista.append([])\n",
    "print(lista)\n",
    "    \n",
    "for i in range(0, len(h)):\n",
    "    for j in range(0, len(h)):\n",
    "        k = h[i][j]\n",
    "        "
   ]
  }
 ],
 "metadata": {
  "kernelspec": {
   "display_name": "Python 3",
   "language": "python",
   "name": "python3"
  },
  "language_info": {
   "codemirror_mode": {
    "name": "ipython",
    "version": 3
   },
   "file_extension": ".py",
   "mimetype": "text/x-python",
   "name": "python",
   "nbconvert_exporter": "python",
   "pygments_lexer": "ipython3",
   "version": "3.8.3"
  }
 },
 "nbformat": 4,
 "nbformat_minor": 4
}
