{
 "cells": [
  {
   "cell_type": "code",
   "execution_count": 3,
   "metadata": {},
   "outputs": [
    {
     "name": "stdout",
     "output_type": "stream",
     "text": [
      "Ingrese un  numero entero\n",
      "3\n",
      "4\n",
      "4 no es prefecto\n",
      "45\n",
      "45 no es prefecto\n",
      "9876\n",
      "9876 no es prefecto\n"
     ]
    }
   ],
   "source": [
    "def perfecto(x):\n",
    "    t = f\"{x} no es prefecto\"\n",
    "    r = f\"{x} es prefecto\"\n",
    "    lista = []\n",
    "    for i in range(1, x):\n",
    "        if x%i ==0:\n",
    "            lista.append(i)\n",
    "        \n",
    "    if sum(lista) == x:\n",
    "        return r\n",
    "    else:\n",
    "        return t\n",
    "    \n",
    "\n",
    "numero = int(input(\"Ingrese un  numero entero\\n\"))\n",
    "\n",
    "for i in range(0, numero):\n",
    "    x = int(input())\n",
    "    print(perfecto(x))\n"
   ]
  },
  {
   "cell_type": "code",
   "execution_count": 32,
   "metadata": {},
   "outputs": [
    {
     "name": "stdout",
     "output_type": "stream",
     "text": [
      "3\n",
      "145\n",
      "Es un número fuerte.\n",
      "123\n",
      "No es un número fuerte.\n",
      "123\n",
      "No es un número fuerte.\n"
     ]
    }
   ],
   "source": [
    "def factorial(n):\n",
    "    productoria = 1\n",
    "    i = 1\n",
    "    while i <= n:\n",
    "        productoria *= i\n",
    "        i+=1\n",
    "    return productoria \n",
    "\n",
    "\n",
    "\n",
    "\n",
    "\n",
    "\n",
    "n = int(input())\n",
    "\n",
    "for i in range(0, n):\n",
    "    f = input()\n",
    "    lista = []\n",
    "    for i in f:\n",
    "        j = factorial(int(i))\n",
    "        lista.append(j)\n",
    "    if sum(lista) == int(f):\n",
    "        print(\"Es un número fuerte.\")\n",
    "    else:\n",
    "        print(\"No es un número fuerte.\")\n",
    "    \n"
   ]
  }
 ],
 "metadata": {
  "kernelspec": {
   "display_name": "Python 3",
   "language": "python",
   "name": "python3"
  },
  "language_info": {
   "codemirror_mode": {
    "name": "ipython",
    "version": 3
   },
   "file_extension": ".py",
   "mimetype": "text/x-python",
   "name": "python",
   "nbconvert_exporter": "python",
   "pygments_lexer": "ipython3",
   "version": "3.8.3"
  }
 },
 "nbformat": 4,
 "nbformat_minor": 4
}
