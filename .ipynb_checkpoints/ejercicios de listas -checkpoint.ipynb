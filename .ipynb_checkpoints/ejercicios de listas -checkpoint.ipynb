{
 "cells": [
  {
   "cell_type": "markdown",
   "metadata": {},
   "source": [
    "## ejercicios de aplicacion de listas como matrisez"
   ]
  },
  {
   "cell_type": "markdown",
   "metadata": {},
   "source": [
    "# ejercicio 1\n",
    "Cree un programa en Python 3 que le solicite al usuario ingresar tres números (enteros) y luego como resultado muestre en la pantalla el máximo valor de los tres números, el mínimo valor de los tres números  y el valor absoluto del tercer número ingresado en lineas diferentes. El programa debe mostrar como resultado exclusivamente los valores solicitados anteriormente, no debe contener letras ni enunciados que lo acompañen.\n",
    "\n",
    "por ejemplo si el usuario ingresa -4 3 -6 el programa debe mostrar\n",
    "\n",
    "3\n",
    "-6\n",
    "6"
   ]
  },
  {
   "cell_type": "code",
   "execution_count": null,
   "metadata": {},
   "outputs": [],
   "source": [
    "entero1 = int(input(\"Ingres un entero: \"))\n",
    "entero2 = int(input(\"Ingres un entero: \"))\n",
    "entero3 = int(input(\"Ingres un entero: \"))\n",
    "lista= [entero1, entero2, entero3]\n",
    "print(max(lista))\n",
    "print(min(lista))\n",
    "absoluto = abs(entero3)   \n",
    "print(absoluto)"
   ]
  },
  {
   "cell_type": "markdown",
   "metadata": {},
   "source": [
    "# ejercicio 2\n",
    "Cree un programa en Python 3 que le solicite al usuario una matriz con tres filas, cada fila corresponde a las medidas de un triángulo (base, altura).\n",
    "\n",
    "En la tercera posición de cada fila se debe guardar el área del respectivo triángulo (aproximado a una cifra decimal). El programa debe mostrar como resultado exclusivamente la matriz, no debe contener letras ni enunciados que lo acompañen.\n",
    "\n",
    "Nota: utilizar la función eval para convertir la entrada en una matriz (x = eval(input()))\n",
    "\n",
    "Por ejemplo si el usuario ingresa [[3, 6, 0], [2, 1, 0], [1, 1, 0]] el programa debe mostrar:\n",
    "\n",
    "[3, 6, 9.0]\n",
    "\n",
    "[2, 1, 1.0]\n",
    "\n",
    "[1, 1, 0.5]\n",
    "\n",
    "Elabore su progra"
   ]
  },
  {
   "cell_type": "code",
   "execution_count": null,
   "metadata": {
    "scrolled": true
   },
   "outputs": [],
   "source": [
    "\n",
    "a = eval(input(\"Ingresa una matriz, cada fila de una matris se ingresa asi; [[3, 6, 0],[3, 6, 0]] y separadas por comas: \"))\n",
    "areab = (a[0][0]*a[0][1])/2\n",
    "a[0].append(areab)\n",
    "areac = (a[1][0]*a[1][1])/2\n",
    "a[1].append(areac)\n",
    "aread = (a[2][0]*a[2][1])/2\n",
    "a[2].append(areac)\n",
    "a[0].pop(2)\n",
    "print(a[0])\n",
    "print(a[1])\n",
    "print(a[2])\n",
    "\n",
    "\n"
   ]
  },
  {
   "cell_type": "markdown",
   "metadata": {},
   "source": [
    "# ejercicio 3\n",
    "Cree un programa en Python 3 que le solicite al usuario una lista que contiene los datos de una pirámide de base cuadrada (medida de un lado de la base, altura de la pirámide).\n",
    "\n",
    "Debe calcular el volumen de la pirámide (aproximado a dos cifras decimales) y agregarlo al final de la lista. El programa debe mostrar como resultado exclusivamente la lista, no debe contener letras ni enunciados que lo acompañen.\n",
    "\n",
    "Nota: utilizar la función eval para convertir la entrada en una lista (x = eval(input()))\n",
    "\n",
    "Por ejemplo si el usuario ingresa [6.18, 5.8] el programa debe mostrar:\n",
    "\n",
    "[6.18, 5.8, 73.84] "
   ]
  },
  {
   "cell_type": "code",
   "execution_count": 39,
   "metadata": {},
   "outputs": [
    {
     "name": "stdout",
     "output_type": "stream",
     "text": [
      "Ingres los datos de una piramide en una lista,dento de llaves y separado por coma[10.06, 11.19]\n",
      "[10.06, 11.19, 377.49]\n"
     ]
    }
   ],
   "source": [
    "datos = eval(input(\"Ingres los datos de una piramide en una lista,dento de llaves y separado por coma\"))\n",
    "volumen = round(((datos[0])**2 *datos[1])/3,2)\n",
    "datos.append(volumen)\n",
    "datos = [datos[0], datos[1], datos[2]]\n",
    "print(datos)"
   ]
  },
  {
   "cell_type": "markdown",
   "metadata": {},
   "source": [
    "# Ejercicio 4\n",
    "Cree un programa en Python 3 que le solicite al usuario ingresar la cantidad de plata depositada en un banco (número entero). Se desea calcular el valor de los intereses anuales. Si la cantidad de dinero depositada es superior a 10 millones recibe 10% de interés anual, en caso contrario recibe 0% de interés anual. Realice el cálculo con dos cifras decimales y muestre exclusivamente el valor de los intereses, sin enunciados que lo acompañen.\n",
    "\n",
    "Por ejemplo, si el usuario ingresa como cantidad depositada: 3500000, el programa debe mostrar\n",
    "\n",
    "0"
   ]
  },
  {
   "cell_type": "code",
   "execution_count": 3,
   "metadata": {},
   "outputs": [
    {
     "name": "stdout",
     "output_type": "stream",
     "text": [
      "Ingrsa su cantida de dinero que deposito en al banco: 1234567876543\n",
      "123456787654.3\n"
     ]
    }
   ],
   "source": [
    "canti_plt = int(input(\"Ingrsa su cantida de dinero que deposito en al banco: \"))\n",
    "if canti_plt > 10000000:\n",
    "    interes = round((canti_plt*0.1),2)\n",
    "    print(interes)\n",
    "else:\n",
    "    print(0)"
   ]
  },
  {
   "cell_type": "markdown",
   "metadata": {},
   "source": [
    "# Ejecicio 5\n",
    "Cree un programa en Python 3 que le solicite al usuario ingresar las notas de tres parciales (números reales). Se desea verificar si el estudiante aprobó o no la asignatura. En el caso de que la nota promedio sea igual o superior a 3 debe mostrar 'aprobado' en el caso contrario debe mostrar 'no aprobado'. Muestre exclusivamente 'aprobado' o 'no aprobado' según sea el caso sin enunciados extra que lo acompañen.\n",
    "\n",
    "Por ejemplo, si el usuario ingresa las calificaciones 3.5, 4,2 y 3.8, el programa debe mostrar\n",
    "\n",
    "aprobado"
   ]
  },
  {
   "cell_type": "code",
   "execution_count": null,
   "metadata": {},
   "outputs": [],
   "source": [
    "nota1 = float(input(\"Ingrese su primera nota: \"))\n",
    "nota2 = float(input(\"Ingrese su segunda nota: \"))\n",
    "nota3 = float(input(\"Ingrese su tercera nota: \"))\n",
    "lista = [nota1, nota2, nota3]\n",
    "if sum(lista)/3 > 3:\n",
    "    print(\"aprobado\")\n",
    "else:\n",
    "    print(\"no aprobado\")"
   ]
  },
  {
   "cell_type": "markdown",
   "metadata": {},
   "source": [
    "# Ejercicio 6\n",
    "Una librería realiza una feria de libros durante la cual ofrece un descuento a los estudiantes (10%) y a los profesores (20%). Se solicita que cree un programa en Python 3 que le pida al usuario ingresar el valor total de la compra (número entero)  y su cargo (estudiante, profesor, medico, ingeniero,director) -cadena de caracteres. Se desea calcular el total a pagar después de aplicado el descuento (solamente reciben descuentos los estudiantes y los profesores). Muestre exclusivamente el valor total a pagar, una vez aplicado el descuento, aproximado a dos cifras decimales sin enunciados extra que lo acompañen.\n",
    "\n",
    "Por ejemplo, si el usuario realiza una compra por valor de 100000 y es estudiante, el programa debe mostrar\n",
    "\n",
    "90000"
   ]
  },
  {
   "cell_type": "code",
   "execution_count": null,
   "metadata": {},
   "outputs": [],
   "source": [
    "total_com = int(input(\"Ingrese su valor de compra: \"))\n",
    "cargo = input(\"Ingrese su cargo: \")\n",
    "\n",
    "if cargo == \"estudiante\":\n",
    "    total_pa = total_com - total_com*0.1\n",
    "    print(total_pa)\n",
    "elif cargo == \"profesor\":\n",
    "    total_pa = total_com - total_com*0.2\n",
    "    print(total_pa)\n",
    "else:\n",
    "    print(total_com)"
   ]
  },
  {
   "cell_type": "markdown",
   "metadata": {},
   "source": [
    "# Ejercicio 7\n",
    "Cree un programa en Python 3 que le solicite al usuario su índice de masa corporal (IMC) como número entero, y luego clasifique a la persona en una de  estas tres categorías (bajo peso, peso normal, sobrepeso). Se considera que tiene bajo peso si el IMC es inferior a 18, tiene sobrepeso si es superior a 25 y tiene peso normal en caso contrario. Muestre exclusivamente \"bajo peso\",\"peso normal\" o \"sobrepeso\" según sea el caso sin enunciados extra que lo acompañen.\n",
    "\n",
    "Por ejemplo, si el usuario ingresa un IMC = 30, el programa debe mostrar\n",
    "\n",
    "sobrepeso"
   ]
  },
  {
   "cell_type": "code",
   "execution_count": null,
   "metadata": {},
   "outputs": [],
   "source": [
    "imc = int(input(\"Ingrese su indice de masa corporal (IMC): \"))\n",
    "if imc < 18:\n",
    "    print(\"bajo peso\")\n",
    "elif imc > 25:\n",
    "    print(\"sobrepeso\")\n",
    "else:\n",
    "    print(\"peso normal\")\n",
    "    "
   ]
  },
  {
   "cell_type": "markdown",
   "metadata": {},
   "source": [
    "# Ejercicio 8\n",
    "Inicialmente se pide al usuario un string que corresponde a la operación que desea realizar (suma, resta, multiplicacion, division) y dos valores enteros que corresponden a los operandos. Cree un programa en Python 3 que realice la operación solicitada por el usuario. Muestre exclusivamente el resultado de la operación aproximado a dos cifras decimales sin enunciados que lo acompañen.\n",
    "\n",
    "por ejemplo si el usuario ingresa la operación \"division\", y los números enteros 15 y 58, el programa debe mostrar:\n",
    "\n",
    "0.26"
   ]
  },
  {
   "cell_type": "code",
   "execution_count": null,
   "metadata": {},
   "outputs": [],
   "source": [
    "operacion = input(\"Ingresa su operacion: \")\n",
    "valores = eval(input(\"Ingresa dos valores separados por coma: \"))\n",
    "if operacion == \"suma\":\n",
    "    suma = valores[0] + valores[1]\n",
    "    print(suma)\n",
    "elif operacion == \"resta\":\n",
    "    resta = valores[0] - valores[1]\n",
    "    print(resta)\n",
    "elif operacion == \"multiplicacion\":\n",
    "    multiplicacion = valores[0]*valores[1]\n",
    "    print(multiplicacion)\n",
    "elif operacion == \"division\":\n",
    "    division =  valores[0]/valores[1]\n",
    "    print(division)\n",
    "else:\n",
    "    print(\"error, operación invalidad\")\n",
    "    \n",
    "    "
   ]
  },
  {
   "cell_type": "markdown",
   "metadata": {},
   "source": [
    "### las dos funcionan."
   ]
  },
  {
   "cell_type": "code",
   "execution_count": 18,
   "metadata": {},
   "outputs": [
    {
     "name": "stdout",
     "output_type": "stream",
     "text": [
      "Ingresa su operació: cuadrado\n",
      "Ingrese el primer valor que quiere operar: 23\n",
      "Ingrese el segundo valor que quiere operar: 45\n",
      "Su operacion no se puede realizar, intenta con otra\n"
     ]
    }
   ],
   "source": [
    "operacion = input(\"Ingresa su operació: \")\n",
    "valor1 = int(input(\"Ingrese el primer valor que quiere operar: \"))\n",
    "valor2 = int(input(\"Ingrese el segundo valor que quiere operar: \"))\n",
    "valores = []\n",
    "valores.append(valor1)\n",
    "valores.append(valor2)\n",
    "if operacion == \"suma\":\n",
    "    suma = valores[0] + valores[1]\n",
    "    print(suma)\n",
    "elif operacion == \"resta\":\n",
    "    resta = valores[0]-valores[1]\n",
    "    print(resta)\n",
    "elif operacion == \"multiplicacion\":\n",
    "    multiplicacion = valores[0]*valores[1]\n",
    "    print(multiplicacion)\n",
    "elif operacion == \"division\":\n",
    "    division = valores[0]/valores[1]\n",
    "    print(division)\n",
    "else:\n",
    "    print(\"Su operacion no se puede realizar, intenta con otra\")\n",
    "    "
   ]
  }
 ],
 "metadata": {
  "kernelspec": {
   "display_name": "Python 3",
   "language": "python",
   "name": "python3"
  },
  "language_info": {
   "codemirror_mode": {
    "name": "ipython",
    "version": 3
   },
   "file_extension": ".py",
   "mimetype": "text/x-python",
   "name": "python",
   "nbconvert_exporter": "python",
   "pygments_lexer": "ipython3",
   "version": "3.8.3"
  }
 },
 "nbformat": 4,
 "nbformat_minor": 4
}
