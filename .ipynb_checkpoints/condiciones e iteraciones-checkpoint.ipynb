{
 "cells": [
  {
   "cell_type": "markdown",
   "metadata": {},
   "source": [
    "# Ejercicio 1\n",
    "\n",
    "Cree un programa en Python 3 que le solicite al usuario ingresar tres números enteros. Debe mostrar por pantalla el mayor de los tres números, en caso de que los tres números sean iguales debe mostrar 'iguales', luego debe mostrar cuáles de los tres números son pares. Muestre exclusivamente lo solicitado anteriormente sin enunciados extra que lo acompañen.\n",
    "\n",
    "Por ejemplo, si el usuario ingresa los números 3, 4 y 2, el programa debe mostrar\n",
    "\n",
    "4\n",
    "4\n",
    "2"
   ]
  },
  {
   "cell_type": "code",
   "execution_count": 15,
   "metadata": {},
   "outputs": [
    {
     "name": "stdout",
     "output_type": "stream",
     "text": [
      "Ingresa tu primer número: 2\n",
      "Ingresa tu segundo número: 3\n",
      "Ingresa tu tercer número: 1\n",
      "3\n",
      "3\n",
      "2\n"
     ]
    }
   ],
   "source": [
    "numero1 = int(input(\"Ingresa tu primer número: \"))\n",
    "numero2 = int(input(\"Ingresa tu segundo número: \"))\n",
    "numero3 = int(input(\"Ingresa tu tercer número: \"))\n",
    "lista = [numero1, numero2, numero3]\n",
    "print(max(lista))\n",
    "if numero1 == numero2 and numero1 == numero3:\n",
    "    print(\"iguales\")\n",
    "else:\n",
    "    print(max(lista))\n",
    "    for i in lista:\n",
    "        if i%2 ==0:\n",
    "            print(i)\n",
    "    "
   ]
  },
  {
   "cell_type": "markdown",
   "metadata": {},
   "source": [
    "# Ejercicio 2\n",
    "ree un programa en Python 3 que le solicite al usuario un número entero de tres cifras, y luego verifique si el número es capicúa o no, en caso afirmativo mostrar \"es capicua\" en caso contrario mostrar \"no es capicua\". Muestre exclusivamente \"es capicua\" o \"no es capicua\" según corresponda sin enunciados extra que lo acompañen.\n",
    "\n",
    "Nota: un número es capicúa si se lee igual de izquierda a derecha que de derecha a izquierda\n",
    "\n",
    "Por ejemplo, si el usuario ingresa el número  292, el programa debe mostrar\n",
    "\n",
    "es capicua\n"
   ]
  },
  {
   "cell_type": "code",
   "execution_count": 18,
   "metadata": {},
   "outputs": [
    {
     "name": "stdout",
     "output_type": "stream",
     "text": [
      "Ingrese un número de tres cifras: 231\n",
      "no es capicua\n"
     ]
    }
   ],
   "source": [
    "numero = input(\"Ingrese un número de tres cifras: \")\n",
    "if numero[0] == numero[2]:\n",
    "    print(\"es capicua\")\n",
    "else:\n",
    "    print(\"no es capicua\")"
   ]
  },
  {
   "cell_type": "markdown",
   "metadata": {},
   "source": [
    "# Ejercicio 3\n",
    "Cree un programa en Python 3 que le solicite al usuario tres números enteros. Debe verificar si con estos tres números se puede formar un triangulo. En caso afirmativo, debe clasificar el triangulo como equilatero, escaleno o isosceles, en caso contrario debe mostrar \"no se puede formar triangulo\" , Muestre exclusivamente la clasificación del triángulo  o el mensaje \"no se puede formar triangulo\" según sea el caso sin enunciados extra que lo acompañen.\n",
    "\n",
    "Notas:\n",
    "\n",
    "Se puede formar un triángulo si cada lado es menor a la suma de los otros dos.\n",
    "\n",
    "Un triángulo equilátero tiene sus tres  lados iguales, uno isoscéles tiene dos lados iguales y uno escaleno tiene sus tres lados diferentes.\n",
    "Por ejemplo, si el usuario ingresa los números 3, 3 y 2, el programa debe mostrar:\n",
    "\n",
    "isosceles"
   ]
  },
  {
   "cell_type": "code",
   "execution_count": null,
   "metadata": {},
   "outputs": [],
   "source": [
    "numero1 = int(input(\"Ingresa el primer número: \"))\n",
    "numero2 = int(input(\"Ingresa el segundo número: \"))\n",
    "numero3 = int(input(\"Ingresa el tercer número: \"))\n",
    "if (numero1 > numero2+numero3 or  numero2 > numero1+numero3\n",
    "or numero3 > numero2+numero3):\n",
    "    print(\"no se puede formar triangulo\")\n",
    "elif (numero1 == numero2 and numero1 == numero3):\n",
    "        print(\"equilatero\")\n",
    "elif (numero1 == numero2 or numero1 == numero3 or numero2 == numero1 or\n",
    "numero2 == numero3 or numero3 == numero2 or numero3 == numero1):\n",
    "        print(\"isosceles\")\n",
    "else:\n",
    "    if (numero1 != numero2 and numero1 != numero3):\n",
    "        print(\"escaleno\")"
   ]
  },
  {
   "cell_type": "markdown",
   "metadata": {},
   "source": [
    "# ejercicio 4\n",
    "Cree un programa en Python 3 que le solicite al usuario un número entero, como resultado muestre en la pantalla los números enteros desde 0 (inclusive) hasta el número ingresado y el número al cuadrado. El programa debe mostrar como resultado exclusivamente los valores solicitados  , no debe contener letras ni enunciados que lo acompañen.\n",
    "\n",
    "por ejemplo si el usuario ingresa 3 el programa debe mostrar:\n",
    "\n",
    "0\n",
    "0\n",
    "1\n",
    "1\n",
    "2\n",
    "4\n",
    "3\n",
    "9"
   ]
  },
  {
   "cell_type": "code",
   "execution_count": 7,
   "metadata": {},
   "outputs": [
    {
     "name": "stdout",
     "output_type": "stream",
     "text": [
      "Ingrese un numero entero5\n",
      "0\n",
      "0\n",
      "1\n",
      "1\n",
      "2\n",
      "4\n",
      "3\n",
      "9\n",
      "4\n",
      "16\n",
      "5\n",
      "25\n"
     ]
    }
   ],
   "source": [
    "\n",
    "numero = int(input(\"Ingrese un numero entero\"))\n",
    "lista = []\n",
    "i =0\n",
    "for i in range(i,numero+1):\n",
    "    lista.append(i)\n",
    "    n = i**2\n",
    "    lista.append(n)\n",
    "    \n",
    "\n",
    "    \n",
    "for i in lista:\n",
    "    print(i)\n",
    "    "
   ]
  },
  {
   "cell_type": "markdown",
   "metadata": {},
   "source": [
    "# ejemplo 5\n",
    "cree un programa en Python 3 que le solicite al usuario ingresar una lista (mínimo con un elemento), una palabra y un número, luego modificar el primer elemento de la lista con la palabra ingresada y agregar el número al final de la lista. Como resultado el programa mostrará por pantalla la lista la lista modificada. El programa debe mostrar como resultado exclusivamente la lista, no debe contener letras ni enunciados que lo acompañen.\n",
    "\n",
    "Nota:  se recomienda utilizar la función eval(...),  que convierte un string en un elemento de Python.  De esta manera si el usuario ingresa [\"c\",\"a\",\"m\"](string) al aplicarle la función eval() python lo convierte en una lista.\n",
    "\n",
    "Por ejemplo si el usuario ingresa la lista  input = ['escritorio', 'silla', 'cama'], la palabra  \"amor\", y el número 58, el programa mostrará\n",
    "\n",
    "['amor', 'silla', 'cama', 58]"
   ]
  },
  {
   "cell_type": "code",
   "execution_count": 12,
   "metadata": {},
   "outputs": [
    {
     "name": "stdout",
     "output_type": "stream",
     "text": [
      "Ingresa una lista, la lista se deve ingresar entre []: ['escritorio', 'silla', 'cama']\n",
      "Ingrese una palabra: amor\n",
      "Ingresa un numero: 58\n",
      "['amor', 'silla', 'cama', '58']\n"
     ]
    }
   ],
   "source": [
    "lista = eval(input(\"Ingresa una lista, la lista se deve ingresar entre []: \"))\n",
    "palabra = input(\"Ingrese una palabra: \")\n",
    "numero = input(\"Ingresa un numero: \")\n",
    "lista[0] = palabra\n",
    "lista.append(numero)\n",
    "print(lista)"
   ]
  },
  {
   "cell_type": "markdown",
   "metadata": {},
   "source": [
    "# ejemplo 6\n",
    "Cree un programa en Python 3 que le solicite al usuario un número entero. Si el número ingresado es par debe mostrar por pantalla 'par' en caso contrario debe mostrar 'impar', ademas en el caso de que sea par debe verificar si el número es múltiplo de 4 o múltiplo de 6, en caso de ser múltiplo de 4 debe mostrar 'cuatro' , en el caso de ser múltiplo de 6 debe mostrar 'seis' y en el caso de ser múltiplo de ambos debe mostrar 'cuatro' y 'seis' en lineas diferentes. Muestre exclusivamente lo solicitado anteriormente sin enunciados extra que lo acompañen.\n",
    "\n",
    "por ejemplo si el usuario ingresa 48 el programa debe mostrar\n",
    "\n",
    "par\n",
    "cuatro\n",
    "seis"
   ]
  },
  {
   "cell_type": "code",
   "execution_count": 45,
   "metadata": {},
   "outputs": [
    {
     "name": "stdout",
     "output_type": "stream",
     "text": [
      "Ingresa un número: 48\n",
      "par\n",
      "cuatro\n",
      "seis\n"
     ]
    }
   ],
   "source": [
    "numero = int(input(\"Ingresa un número: \"))\n",
    "if numero%2 == 0:\n",
    "    print(\"par\")\n",
    "else:\n",
    "    print(\"impar\")\n",
    "    \n",
    "    \n",
    "    \n",
    "if numero%4 == 0 and numero%6 == 0:\n",
    "        print(\"cuatro\")\n",
    "        print(\"seis\")\n",
    "elif numero%4 !=0 and numero%6 ==0:\n",
    "    print(\"seis\")\n",
    "elif numero%6 !=0 and numero%4 ==0:\n",
    "    print(\"cuatro\")\n",
    "else:\n",
    "    print()\n",
    "\n",
    "    "
   ]
  },
  {
   "cell_type": "markdown",
   "metadata": {},
   "source": [
    "# ejemplo 7\n",
    "Cree un programa en Python 3 que le solicite al usuario ingresar dos números enteros. si los dos números ingresados son iguales se deben evaluar dos casos: en caso de ser pares mostrar por pantalla la suma de los cuadrados de los números, en el caso contrario debe mostrar el producto de los números. Si los dos números son diferentes debe mostrar por pantalla el menor de ellos. Muestre exclusivamente lo indicado anteriormente sin enunciados adicionales que lo acompañen.\n",
    "\n",
    "por ejemplo si el usuario ingresa 2 2 el programa debe mostrar\n",
    "\n",
    "8"
   ]
  },
  {
   "cell_type": "code",
   "execution_count": 3,
   "metadata": {},
   "outputs": [
    {
     "name": "stdout",
     "output_type": "stream",
     "text": [
      "Ingrese un numero entero: 6\n",
      "Ingrese otro numero entero: 6\n",
      "72\n"
     ]
    }
   ],
   "source": [
    "entero1 = int(input(\"Ingrese un numero entero: \"))\n",
    "entero2 = int(input(\"Ingrese otro numero entero: \"))\n",
    "lista = [entero1, entero2]\n",
    "if lista[0] == lista[1]:\n",
    "    if lista[0]%2 ==0 and lista[1]%2 ==0:\n",
    "        suma = lista[0]**2 + lista[1]**2\n",
    "        print(suma)\n",
    "    else:\n",
    "        producto = lista[0] * lista[1]\n",
    "        print(producto)\n",
    "else:\n",
    "    print(min(lista))\n",
    "    "
   ]
  },
  {
   "cell_type": "markdown",
   "metadata": {},
   "source": [
    "# Ejemplo 8\n",
    "Un profesor desea calcular la nota definitiva de un estudiante, la nota definitiva consta de los siguientes criterios: Si las dos notas son mayores o iguales a 3 la definitiva es el promedio de las dos notas, en caso contrario se deben evaluar dos casos: en el caso de que la nota uno sea mayor a la nota dos, equivalen a 25% y 75% de la nota definitiva respectivamente, en el caso de que la nota dos sea mayor a la nota uno, equivalen a 25% y 75% de la nota definitiva respectivamente. Cree un programa en Python 3 que le solicite al usuario ingresar dos números reales que equivalen a las dos notas y genere como resultado la nota definitiva de la asignatura aproximada a una cifra decimal. Muestre exclusivamente lo indicado anteriormente sin enunciados adicionales que lo acompañen.\n",
    "\n",
    "por ejemplo si el usuario ingresa 4.0 2.5 el programa debe mostrar\n",
    "\n",
    "2.9"
   ]
  },
  {
   "cell_type": "code",
   "execution_count": 7,
   "metadata": {},
   "outputs": [
    {
     "name": "stderr",
     "output_type": "stream",
     "text": [
      "UsageError: Cell magic `%%tutor` not found.\n"
     ]
    }
   ],
   "source": [
    "\n",
    "nota1 = float(input(\"Ingrese su primera nota: \"))\n",
    "nota2 = float(input(\"Ingrese su segunda nota: \"))\n",
    "lista = [nota1, nota2]\n",
    "if (lista[0]>=3 and lista[1]>=3):\n",
    "    definitiva = round((sum(lista)/2),1)\n",
    "    print(definitiva)\n",
    "else:\n",
    "    if lista[0] > lista[1]:\n",
    "        definitiva = round((lista[0]*0.25 + lista[1]*0.75),1)\n",
    "        print(definitiva)\n",
    "    else:\n",
    "        definitiva = round((lista[0]*0.75 + lista[1]*0.25),1)\n",
    "        print(definitiva)"
   ]
  },
  {
   "cell_type": "markdown",
   "metadata": {},
   "source": [
    "# Ejemplo 9\n",
    "En una aerolínea se desea programar la cantidad de escalas que debe realizar un avión. La cantidad de escalas del avión se define bajo los siguientes criterios: Si el vuelo es internacional se consideran tres casos: en el primer caso si la distancia a recorrer es inferior a 1000 kilómetros se realiza una escala, como segundo caso si la distancia a recorrer es superior a 3000 kilómetros se realizan tres escalas, en caso contrario se realizan dos escalas. Si el vuelo no es internacional se consideran tres casos: como primer caso si la distancia a recorrer es inferior a 600 kilómetros no se realizan escalas, como segundo caso si la distancia es superior a 1800 kilómetros se realizan dos escalas, en caso contrario se realiza una escala. Cree un programa en Python 3 que le solicite al usuario ingresar un número entero que equivale a la distancia a recorrer y 'si' o 'no' que verifica si es internacional o no (si=es internacional, no=no es internacional), como resultado debe generar la cantidad de escalas que debe realizar el avión. Muestre exclusivamente la cantidad de escalas que debe realizar sin enunciados adicionales que lo acompañen.\n",
    "\n",
    "por ejemplo si el usuario ingresa 4000 si el programa debe mostrar\n",
    "\n",
    "3"
   ]
  },
  {
   "cell_type": "code",
   "execution_count": 9,
   "metadata": {},
   "outputs": [
    {
     "name": "stdout",
     "output_type": "stream",
     "text": [
      "Requirement already satisfied: tutormagic in c:\\users\\usuario\\anaconda3\\lib\\site-packages (0.3.0)\n",
      "Requirement already satisfied: notebook>=3.0 in c:\\users\\usuario\\anaconda3\\lib\\site-packages (from tutormagic) (6.0.3)\n",
      "Requirement already satisfied: tornado>=5.0 in c:\\users\\usuario\\anaconda3\\lib\\site-packages (from notebook>=3.0->tutormagic) (6.0.4)\n",
      "Requirement already satisfied: jinja2 in c:\\users\\usuario\\anaconda3\\lib\\site-packages (from notebook>=3.0->tutormagic) (2.11.2)\n",
      "Requirement already satisfied: nbformat in c:\\users\\usuario\\anaconda3\\lib\\site-packages (from notebook>=3.0->tutormagic) (5.0.7)\n",
      "Requirement already satisfied: traitlets>=4.2.1 in c:\\users\\usuario\\anaconda3\\lib\\site-packages (from notebook>=3.0->tutormagic) (4.3.3)\n",
      "Requirement already satisfied: ipykernel in c:\\users\\usuario\\anaconda3\\lib\\site-packages (from notebook>=3.0->tutormagic) (5.3.2)\n",
      "Requirement already satisfied: jupyter-core>=4.6.1 in c:\\users\\usuario\\anaconda3\\lib\\site-packages (from notebook>=3.0->tutormagic) (4.6.3)\n",
      "Requirement already satisfied: prometheus-client in c:\\users\\usuario\\anaconda3\\lib\\site-packages (from notebook>=3.0->tutormagic) (0.8.0)\n",
      "Requirement already satisfied: nbconvert in c:\\users\\usuario\\anaconda3\\lib\\site-packages (from notebook>=3.0->tutormagic) (5.6.1)\n",
      "Requirement already satisfied: terminado>=0.8.1 in c:\\users\\usuario\\anaconda3\\lib\\site-packages (from notebook>=3.0->tutormagic) (0.8.3)\n",
      "Requirement already satisfied: pyzmq>=17 in c:\\users\\usuario\\anaconda3\\lib\\site-packages (from notebook>=3.0->tutormagic) (19.0.1)\n",
      "Requirement already satisfied: jupyter-client>=5.3.4 in c:\\users\\usuario\\anaconda3\\lib\\site-packages (from notebook>=3.0->tutormagic) (6.1.6)\n",
      "Requirement already satisfied: Send2Trash in c:\\users\\usuario\\anaconda3\\lib\\site-packages (from notebook>=3.0->tutormagic) (1.5.0)\n",
      "Requirement already satisfied: ipython-genutils in c:\\users\\usuario\\anaconda3\\lib\\site-packages (from notebook>=3.0->tutormagic) (0.2.0)\n",
      "Requirement already satisfied: MarkupSafe>=0.23 in c:\\users\\usuario\\anaconda3\\lib\\site-packages (from jinja2->notebook>=3.0->tutormagic) (1.1.1)\n",
      "Requirement already satisfied: jsonschema!=2.5.0,>=2.4 in c:\\users\\usuario\\anaconda3\\lib\\site-packages (from nbformat->notebook>=3.0->tutormagic) (3.2.0)\n",
      "Requirement already satisfied: decorator in c:\\users\\usuario\\anaconda3\\lib\\site-packages (from traitlets>=4.2.1->notebook>=3.0->tutormagic) (4.4.2)\n",
      "Requirement already satisfied: six in c:\\users\\usuario\\anaconda3\\lib\\site-packages (from traitlets>=4.2.1->notebook>=3.0->tutormagic) (1.15.0)\n",
      "Requirement already satisfied: ipython>=5.0.0 in c:\\users\\usuario\\anaconda3\\lib\\site-packages (from ipykernel->notebook>=3.0->tutormagic) (7.16.1)\n",
      "Requirement already satisfied: pywin32>=1.0; sys_platform == \"win32\" in c:\\users\\usuario\\anaconda3\\lib\\site-packages (from jupyter-core>=4.6.1->notebook>=3.0->tutormagic) (227)\n",
      "Requirement already satisfied: entrypoints>=0.2.2 in c:\\users\\usuario\\anaconda3\\lib\\site-packages (from nbconvert->notebook>=3.0->tutormagic) (0.3)\n",
      "Requirement already satisfied: pandocfilters>=1.4.1 in c:\\users\\usuario\\anaconda3\\lib\\site-packages (from nbconvert->notebook>=3.0->tutormagic) (1.4.2)\n",
      "Requirement already satisfied: defusedxml in c:\\users\\usuario\\anaconda3\\lib\\site-packages (from nbconvert->notebook>=3.0->tutormagic) (0.6.0)\n",
      "Requirement already satisfied: testpath in c:\\users\\usuario\\anaconda3\\lib\\site-packages (from nbconvert->notebook>=3.0->tutormagic) (0.4.4)\n",
      "Requirement already satisfied: bleach in c:\\users\\usuario\\anaconda3\\lib\\site-packages (from nbconvert->notebook>=3.0->tutormagic) (3.1.5)\n",
      "Requirement already satisfied: mistune<2,>=0.8.1 in c:\\users\\usuario\\anaconda3\\lib\\site-packages (from nbconvert->notebook>=3.0->tutormagic) (0.8.4)\n",
      "Requirement already satisfied: pygments in c:\\users\\usuario\\anaconda3\\lib\\site-packages (from nbconvert->notebook>=3.0->tutormagic) (2.6.1)\n",
      "Requirement already satisfied: python-dateutil>=2.1 in c:\\users\\usuario\\anaconda3\\lib\\site-packages (from jupyter-client>=5.3.4->notebook>=3.0->tutormagic) (2.8.1)\n",
      "Requirement already satisfied: setuptools in c:\\users\\usuario\\anaconda3\\lib\\site-packages (from jsonschema!=2.5.0,>=2.4->nbformat->notebook>=3.0->tutormagic) (49.2.0.post20200714)\n",
      "Requirement already satisfied: pyrsistent>=0.14.0 in c:\\users\\usuario\\anaconda3\\lib\\site-packages (from jsonschema!=2.5.0,>=2.4->nbformat->notebook>=3.0->tutormagic) (0.16.0)\n",
      "Requirement already satisfied: attrs>=17.4.0 in c:\\users\\usuario\\anaconda3\\lib\\site-packages (from jsonschema!=2.5.0,>=2.4->nbformat->notebook>=3.0->tutormagic) (19.3.0)\n",
      "Requirement already satisfied: pickleshare in c:\\users\\usuario\\anaconda3\\lib\\site-packages (from ipython>=5.0.0->ipykernel->notebook>=3.0->tutormagic) (0.7.5)\n",
      "Requirement already satisfied: colorama; sys_platform == \"win32\" in c:\\users\\usuario\\anaconda3\\lib\\site-packages (from ipython>=5.0.0->ipykernel->notebook>=3.0->tutormagic) (0.4.3)\n",
      "Requirement already satisfied: jedi>=0.10 in c:\\users\\usuario\\anaconda3\\lib\\site-packages (from ipython>=5.0.0->ipykernel->notebook>=3.0->tutormagic) (0.17.1)\n",
      "Requirement already satisfied: prompt-toolkit!=3.0.0,!=3.0.1,<3.1.0,>=2.0.0 in c:\\users\\usuario\\anaconda3\\lib\\site-packages (from ipython>=5.0.0->ipykernel->notebook>=3.0->tutormagic) (3.0.5)\n",
      "Requirement already satisfied: backcall in c:\\users\\usuario\\anaconda3\\lib\\site-packages (from ipython>=5.0.0->ipykernel->notebook>=3.0->tutormagic) (0.2.0)\n",
      "Requirement already satisfied: webencodings in c:\\users\\usuario\\anaconda3\\lib\\site-packages (from bleach->nbconvert->notebook>=3.0->tutormagic) (0.5.1)\n",
      "Requirement already satisfied: packaging in c:\\users\\usuario\\anaconda3\\lib\\site-packages (from bleach->nbconvert->notebook>=3.0->tutormagic) (20.4)\n",
      "Requirement already satisfied: parso<0.8.0,>=0.7.0 in c:\\users\\usuario\\anaconda3\\lib\\site-packages (from jedi>=0.10->ipython>=5.0.0->ipykernel->notebook>=3.0->tutormagic) (0.7.0)\n",
      "Requirement already satisfied: wcwidth in c:\\users\\usuario\\anaconda3\\lib\\site-packages (from prompt-toolkit!=3.0.0,!=3.0.1,<3.1.0,>=2.0.0->ipython>=5.0.0->ipykernel->notebook>=3.0->tutormagic) (0.2.5)\n",
      "Requirement already satisfied: pyparsing>=2.0.2 in c:\\users\\usuario\\anaconda3\\lib\\site-packages (from packaging->bleach->nbconvert->notebook>=3.0->tutormagic) (2.4.7)\n",
      "The tutormagic extension is already loaded. To reload it, use:\n",
      "  %reload_ext tutormagic\n"
     ]
    },
    {
     "name": "stderr",
     "output_type": "stream",
     "text": [
      "C:\\Users\\Usuario\\anaconda3\\lib\\site-packages\\IPython\\utils\\_process_win32.py:145: ResourceWarning: unclosed file <_io.BufferedWriter name=4>\n",
      "  return process_handler(cmd, _system_body)\n",
      "ResourceWarning: Enable tracemalloc to get the object allocation traceback\n",
      "C:\\Users\\Usuario\\anaconda3\\lib\\site-packages\\IPython\\utils\\_process_win32.py:145: ResourceWarning: unclosed file <_io.BufferedReader name=5>\n",
      "  return process_handler(cmd, _system_body)\n",
      "ResourceWarning: Enable tracemalloc to get the object allocation traceback\n",
      "C:\\Users\\Usuario\\anaconda3\\lib\\site-packages\\IPython\\utils\\_process_win32.py:145: ResourceWarning: unclosed file <_io.BufferedReader name=6>\n",
      "  return process_handler(cmd, _system_body)\n",
      "ResourceWarning: Enable tracemalloc to get the object allocation traceback\n"
     ]
    }
   ],
   "source": [
    "## instalacion del tutormagic, es una herramienta que ayudas enter lo que hace la maquina detras de cada función\n",
    "!pip install tutormagic\n",
    "\n",
    "# cargar la extensión\n",
    "%load_ext tutormagic"
   ]
  },
  {
   "cell_type": "code",
   "execution_count": 5,
   "metadata": {},
   "outputs": [
    {
     "name": "stdout",
     "output_type": "stream",
     "text": [
      "Ingrese un numero entero\n",
      "1234\n",
      "es internacionalsi\n",
      "2\n"
     ]
    }
   ],
   "source": [
    "numero = int(input(\"Ingrese un numero entero\\n\"))\n",
    "es_internacional = input(\"es internacional\")\n",
    "\n",
    "\n",
    "if es_internacional == \"si\":\n",
    "    if numero <1000:\n",
    "        y = 1\n",
    "        print(y)\n",
    "    elif numero > 3000:\n",
    "        x = 3\n",
    "        print(x)\n",
    "    else:\n",
    "        d = 3\n",
    "        print(2)\n",
    "else:\n",
    "    if es_internacional == \"no\":\n",
    "        if numero <600:\n",
    "            t = 2\n",
    "            print(t)\n",
    "        elif numero >1800:\n",
    "            k = 2\n",
    "            print(k)\n",
    "        else:\n",
    "                e = 1\n",
    "                print(e)"
   ]
  },
  {
   "cell_type": "markdown",
   "metadata": {},
   "source": [
    "# Ejemplo 10\n",
    "Se desea hacer un sistema que recomiende una ciudad según sea el gusto por la playa y la temperatura promedio. Cree un programa en Python 3 que le solicite al usuario ingresar 'si' o 'no' según sea el gusto por la playa (si=le gusta la playa, no=no le gusta la playa) y un número entero que equivale a la temperatura promedio deseada,  si le gusta la playa se debe verificar cual es la temperatura promedio deseada: en el caso de ser mayor a 25°C se recomienda 'Cartagena,Colombia', en caso contrario se recomienda 'Penco,Chile', en caso tal de que no le guste la playa se debe verificar la temperatura promedio deseada: en el caso de ser mayor a 25°C se recomienda 'Las vegas,USA', en caso contrario se recomienda 'Zurich,Suiza' . Muestre exclusivamente la recomendación realizada sin enunciados adicionales que lo acompañen.\n",
    "\n",
    "por ejemplo si el usuario ingresa  no 30 el programa debe mostrar\n",
    "\n",
    "Las vegas,USA"
   ]
  },
  {
   "cell_type": "code",
   "execution_count": 6,
   "metadata": {},
   "outputs": [
    {
     "name": "stdout",
     "output_type": "stream",
     "text": [
      "le gusta la playa si/no?no\n",
      "Ingrese un numero entero: 30\n",
      "Las Vegas, USA\n"
     ]
    }
   ],
   "source": [
    "gusto_playa = input(\"le gusta la playa si/no?\")\n",
    "numero = int(input(\"Ingrese un numero entero: \"))\n",
    "if gusto_playa == \"si\":\n",
    "    if numero >25:\n",
    "        print(\"Cartagena, Colombia\")\n",
    "    else:\n",
    "        print(\"Penco, Chile\")\n",
    "else:\n",
    "    if numero >25:\n",
    "        print(\"Las Vegas, USA\")\n",
    "    else:\n",
    "        print(\"Zurich, Suiza\")"
   ]
  }
 ],
 "metadata": {
  "kernelspec": {
   "display_name": "Python 3",
   "language": "python",
   "name": "python3"
  },
  "language_info": {
   "codemirror_mode": {
    "name": "ipython",
    "version": 3
   },
   "file_extension": ".py",
   "mimetype": "text/x-python",
   "name": "python",
   "nbconvert_exporter": "python",
   "pygments_lexer": "ipython3",
   "version": "3.8.3"
  }
 },
 "nbformat": 4,
 "nbformat_minor": 4
}
