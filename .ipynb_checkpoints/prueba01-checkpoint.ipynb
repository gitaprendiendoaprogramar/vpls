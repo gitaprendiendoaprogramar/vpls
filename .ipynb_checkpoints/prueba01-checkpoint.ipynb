{
 "cells": [
  {
   "cell_type": "markdown",
   "metadata": {},
   "source": [
    "# Ejercicio 1\n"
   ]
  },
  {
   "cell_type": "code",
   "execution_count": 2,
   "metadata": {},
   "outputs": [],
   "source": [
    "def celsius_a_kelvin(x):\n",
    "    j = 273.15 + x\n",
    "    print(j)"
   ]
  },
  {
   "cell_type": "code",
   "execution_count": 22,
   "metadata": {},
   "outputs": [
    {
     "name": "stdout",
     "output_type": "stream",
     "text": [
      "{'Juan': 150, 'Monica': 13456, 'Marta': 166, 'Madre': 332}\n"
     ]
    }
   ],
   "source": [
    "N = {\"Juan\":150, \"Monica\":13456, \"Marta\":166}\n",
    "if N[\"Marta\"]%2 ==0:\n",
    "    N[\"Madre\"] = 2*N[\"Marta\"]\n",
    "    if N[\"Madre\"]%5 ==0:\n",
    "        N[\"Padre\"] = 2*N[\"Juan\"]\n",
    "        print(N)\n",
    "    else:\n",
    "        print(N)\n",
    "else:\n",
    "    N[\"Marcos\"] = 3*N[\"Monica\"]\n",
    "    print(N)\n",
    "    \n"
   ]
  },
  {
   "cell_type": "code",
   "execution_count": 23,
   "metadata": {},
   "outputs": [
    {
     "ename": "SyntaxError",
     "evalue": "unexpected EOF while parsing (<ipython-input-23-6c4ffd5a9cb1>, line 5)",
     "output_type": "error",
     "traceback": [
      "\u001b[1;36m  File \u001b[1;32m\"<ipython-input-23-6c4ffd5a9cb1>\"\u001b[1;36m, line \u001b[1;32m5\u001b[0m\n\u001b[1;33m    \u001b[0m\n\u001b[1;37m    ^\u001b[0m\n\u001b[1;31mSyntaxError\u001b[0m\u001b[1;31m:\u001b[0m unexpected EOF while parsing\n"
     ]
    }
   ],
   "source": [
    "N = int(input())\n",
    "suma\n",
    "i = 0\n",
    "for i in range(0, N):\n",
    "    \n"
   ]
  },
  {
   "cell_type": "code",
   "execution_count": 35,
   "metadata": {},
   "outputs": [
    {
     "name": "stdout",
     "output_type": "stream",
     "text": [
      "Ingrese un numero entero\n",
      "345678\n",
      "no primo\n"
     ]
    }
   ],
   "source": [
    "def isprimo(x):\n",
    "    if x <1:\n",
    "        return False\n",
    "    elif x ==2:\n",
    "        return True\n",
    "    else:\n",
    "        for i in range(3,(x//2),2):\n",
    "            if x%i ==0:\n",
    "                return False\n",
    "        return True        \n",
    "\n",
    "numero = int(input(\"Ingrese un numero entero\\n\"))\n",
    "\n",
    "resultado = isprimo(numero)\n",
    "if resultado is True:\n",
    "    print(\"primo\")\n",
    "else:\n",
    "    print(\"no primo\")\n",
    "    "
   ]
  },
  {
   "cell_type": "code",
   "execution_count": null,
   "metadata": {},
   "outputs": [],
   "source": [
    "n = int(input())\n",
    "p = [2,3,5]\n",
    "\n",
    "\n"
   ]
  }
 ],
 "metadata": {
  "kernelspec": {
   "display_name": "Python 3",
   "language": "python",
   "name": "python3"
  },
  "language_info": {
   "codemirror_mode": {
    "name": "ipython",
    "version": 3
   },
   "file_extension": ".py",
   "mimetype": "text/x-python",
   "name": "python",
   "nbconvert_exporter": "python",
   "pygments_lexer": "ipython3",
   "version": "3.8.3"
  }
 },
 "nbformat": 4,
 "nbformat_minor": 4
}
