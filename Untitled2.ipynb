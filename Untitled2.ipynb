{
 "cells": [
  {
   "cell_type": "code",
   "execution_count": 3,
   "metadata": {},
   "outputs": [
    {
     "name": "stdout",
     "output_type": "stream",
     "text": [
      "Ingrese una consulta-1\n"
     ]
    }
   ],
   "source": [
    "M = {\"Santiago\": 1036789, \"Marta\":234567, \"Susana\":2484930, \"Miguel\":23849030, \"Daniel\": 384829, \"Sara\": 12343234}\n",
    "\n",
    "while True:\n",
    "    try:\n",
    "        consult = input(\"Ingrese una consulta\")\n",
    "        if consult == \"-1\":\n",
    "            break\n",
    "        print(M[consult])\n",
    "    except:\n",
    "        print(\"No encontrado\")\n"
   ]
  },
  {
   "cell_type": "code",
   "execution_count": 3,
   "metadata": {},
   "outputs": [
    {
     "ename": "SyntaxError",
     "evalue": "invalid syntax (<ipython-input-3-b09aab97e8c8>, line 2)",
     "output_type": "error",
     "traceback": [
      "\u001b[1;36m  File \u001b[1;32m\"<ipython-input-3-b09aab97e8c8>\"\u001b[1;36m, line \u001b[1;32m2\u001b[0m\n\u001b[1;33m    print s % (\"A(%d,%d)\" % (m, n))\u001b[0m\n\u001b[1;37m          ^\u001b[0m\n\u001b[1;31mSyntaxError\u001b[0m\u001b[1;31m:\u001b[0m invalid syntax\n"
     ]
    }
   ],
   "source": [
    "def A(m, n):\n",
    "        if m == 0:\n",
    "            return n + 1\n",
    "        if n == 0:\n",
    "            return A(m - 1, 1, s)\n",
    "        \n",
    "        return A(m - 1, n2, s)\n",
    "\n",
    "print A(2,2)\n",
    "        \n",
    "        "
   ]
  },
  {
   "cell_type": "code",
   "execution_count": 25,
   "metadata": {},
   "outputs": [
    {
     "name": "stdout",
     "output_type": "stream",
     "text": [
      "59\n",
      "2\n",
      "4\n",
      "6\n",
      "12\n",
      "67\n"
     ]
    }
   ],
   "source": [
    "def ackermann(m,n):\n",
    "    if m==0:\n",
    "        return n+1\n",
    "    elif m>0 and n==0:                                     \n",
    "        return ackermann(m-1,1)\n",
    "    elif m>0 and n>0:                 \n",
    "        return ackermann(m-1,ackermann(m,n-1)) \n",
    "\n",
    "# print(ackermann(2,28))\n",
    "\n",
    "\n",
    "C = int(input())\n",
    "\n",
    "for i in range(0,C):\n",
    "    m = int(input())\n",
    "    n = int(input())\n",
    "    if 0<=m<=3:\n",
    "        if 0<=n<=7*(4-m)**2:\n",
    "            print(ackermann(m, n))\n",
    "    \n"
   ]
  },
  {
   "cell_type": "code",
   "execution_count": null,
   "metadata": {},
   "outputs": [],
   "source": []
  }
 ],
 "metadata": {
  "kernelspec": {
   "display_name": "Python 3",
   "language": "python",
   "name": "python3"
  },
  "language_info": {
   "codemirror_mode": {
    "name": "ipython",
    "version": 3
   },
   "file_extension": ".py",
   "mimetype": "text/x-python",
   "name": "python",
   "nbconvert_exporter": "python",
   "pygments_lexer": "ipython3",
   "version": "3.8.3"
  }
 },
 "nbformat": 4,
 "nbformat_minor": 4
}
