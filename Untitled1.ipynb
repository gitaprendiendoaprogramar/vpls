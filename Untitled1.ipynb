{
 "cells": [
  {
   "cell_type": "code",
   "execution_count": 9,
   "metadata": {},
   "outputs": [
    {
     "name": "stdout",
     "output_type": "stream",
     "text": [
      "3\n",
      "[[0, 0, 0], [0, 0, 0], [0, 0, 0]]\n"
     ]
    }
   ],
   "source": [
    "n = int(input())\n",
    "matriz = []\n",
    "#for i in range(0,n):\n",
    "    #for j in range(0,n):\n",
    "        #matriz.append(1)\n",
    "#print(matriz)    \n",
    "\n",
    "for i  in range(0,n):\n",
    "    matriz.append([])\n",
    "for b in matriz:\n",
    "    for c in range(0,n):\n",
    "        b.append(0)\n",
    "print(matriz)        \n"
   ]
  }
 ],
 "metadata": {
  "kernelspec": {
   "display_name": "Python 3",
   "language": "python",
   "name": "python3"
  },
  "language_info": {
   "codemirror_mode": {
    "name": "ipython",
    "version": 3
   },
   "file_extension": ".py",
   "mimetype": "text/x-python",
   "name": "python",
   "nbconvert_exporter": "python",
   "pygments_lexer": "ipython3",
   "version": "3.8.3"
  }
 },
 "nbformat": 4,
 "nbformat_minor": 4
}
