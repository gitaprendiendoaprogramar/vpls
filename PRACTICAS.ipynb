{
  "nbformat": 4,
  "nbformat_minor": 0,
  "metadata": {
    "colab": {
      "name": "PRACTICAS.ipynb",
      "provenance": [],
      "collapsed_sections": [],
      "authorship_tag": "ABX9TyNlCFIb64tx2CFb6VGzTa55",
      "include_colab_link": true
    },
    "kernelspec": {
      "name": "python3",
      "display_name": "Python 3"
    }
  },
  "cells": [
    {
      "cell_type": "markdown",
      "metadata": {
        "id": "view-in-github",
        "colab_type": "text"
      },
      "source": [
        "<a href=\"https://colab.research.google.com/github/gitaprendiendoaprogramar/vpls/blob/master/PRACTICAS.ipynb\" target=\"_parent\"><img src=\"https://colab.research.google.com/assets/colab-badge.svg\" alt=\"Open In Colab\"/></a>"
      ]
    },
    {
      "cell_type": "markdown",
      "metadata": {
        "id": "IPOSRJJ3_JSh"
      },
      "source": [
        "\n",
        "# ejercicio de llamadas \n",
        "\n",
        "\n",
        "\n",
        "\n"
      ]
    },
    {
      "cell_type": "code",
      "metadata": {
        "id": "pW1L1cXv0kMY",
        "outputId": "dbf92c2e-5b9d-4acf-9620-a1157c34fa42",
        "colab": {
          "base_uri": "https://localhost:8080/"
        }
      },
      "source": [
        "l = [80, 20, 40, 50, 60, 70]\n",
        "\n",
        "\n",
        "nu = []\n",
        "for i in range(0, 500, 10):\n",
        "  nu.append(i)\n",
        "\n",
        "def Llamadas(x):\n",
        "  y = 0\n",
        "  l = sum(x)\n",
        "  k = 200\n",
        "  if l>k:\n",
        "    h = l-k\n",
        "    h = h/2\n",
        "    if h in nu:\n",
        "      y = str(h)\n",
        "      print(y[0])\n",
        "\n",
        "print(Llamadas(l))\n",
        "\n",
        "\n",
        "\n",
        "\n",
        "\n",
        "\n"
      ],
      "execution_count": 5,
      "outputs": [
        {
          "output_type": "stream",
          "text": [
            "6\n",
            "None\n"
          ],
          "name": "stdout"
        }
      ]
    },
    {
      "cell_type": "markdown",
      "metadata": {
        "id": "bQJ5g_qsBxfg"
      },
      "source": [
        "# ejercicio de concatenar numero, en indices pares (pide numero indterminadamente)"
      ]
    },
    {
      "cell_type": "code",
      "metadata": {
        "id": "3-plMw_x8gW2",
        "outputId": "afb804d5-bb5b-48f9-bff6-94fa7dacefdb",
        "colab": {
          "base_uri": "https://localhost:8080/"
        }
      },
      "source": [
        "\n",
        "l = []\n",
        "while True:\n",
        "  j = (input())\n",
        "  l.append(j)\n",
        "  if j[0]==j[-1]:\n",
        "    break \n",
        "\n",
        "for i in l:\n",
        "  j = l.index(i)\n",
        "  if j%2==0:\n",
        "    l[j] = i+i\n",
        "  else:\n",
        "    l[j] = i[0]\n",
        "print(l)\n",
        "\n",
        "\n"
      ],
      "execution_count": 7,
      "outputs": [
        {
          "output_type": "stream",
          "text": [
            "123\n",
            "345\n",
            "654\n",
            "121\n",
            "['123123', '3', '654654', '1']\n"
          ],
          "name": "stdout"
        }
      ]
    },
    {
      "cell_type": "markdown",
      "metadata": {
        "id": "eWm4xmaVE3Az"
      },
      "source": [
        "# restar dos fechas y dar la respuesta en segundos \n",
        "\n"
      ]
    },
    {
      "cell_type": "code",
      "metadata": {
        "id": "kThlmK9RCBC2",
        "outputId": "51f1ed17-98cd-457a-8bd1-8bf6f92af439",
        "colab": {
          "base_uri": "https://localhost:8080/"
        }
      },
      "source": [
        "N = input(\"ingrese un numero\")\n",
        "M = input(\"ingrese otro numero\")\n",
        "\n",
        "from datetime import datetime\n",
        "\n",
        "\n",
        "j = datetime.strptime(N, \"%d/%m/%Y %H:%M:%S\")\n",
        "k = datetime.strptime(M, \"%d/%m/%Y %H:%M:%S\")\n",
        "\n",
        "y = j-k\n",
        "y = abs(y.days)\n",
        "j = 3600*24\n",
        "s = j*y\n",
        "print(s)\n"
      ],
      "execution_count": 13,
      "outputs": [
        {
          "output_type": "stream",
          "text": [
            "ingrese un numero01/09/1994 00:00:00\n",
            "ingrese otro numero01/09/1995 00:00:00\n",
            "31536000\n"
          ],
          "name": "stdout"
        }
      ]
    },
    {
      "cell_type": "code",
      "metadata": {
        "id": "YN8Jff5zFEje",
        "outputId": "257b8684-be4b-45de-8f92-bf8e732eeb57",
        "colab": {
          "base_uri": "https://localhost:8080/"
        }
      },
      "source": [
        "\n",
        "#M = eval(input())\n",
        "M = [[12, 34, 56], [45, 23, 17], [65, 32, 89]]\n",
        "\n",
        "j = len(M)\n",
        "k = len(M[0])\n",
        "if j ==k:\n",
        "  suma = 0\n",
        "  for i in M:\n",
        "    suma+=i[0]\n",
        "  print(suma)\n",
        "  if suma%2==0:\n",
        "    print(\"par\")\n",
        "  else:\n",
        "    print(\"Impar\")\n",
        "else:\n",
        "  for i in M:\n",
        "    suma = 0\n",
        "    suma+=i[-1]\n",
        "  if suma%2==0:\n",
        "    print(\"par\")\n",
        "  else:\n",
        "    print(\"Impar\")\n",
        "\n",
        "\n",
        "  \n",
        "\n",
        "\n"
      ],
      "execution_count": 20,
      "outputs": [
        {
          "output_type": "stream",
          "text": [
            "122\n",
            "par\n"
          ],
          "name": "stdout"
        }
      ]
    }
  ]
}