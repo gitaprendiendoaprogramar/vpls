{
  "nbformat": 4,
  "nbformat_minor": 0,
  "metadata": {
    "colab": {
      "name": "PRACTICAS.ipynb",
      "provenance": [],
      "collapsed_sections": [],
      "toc_visible": true,
      "authorship_tag": "ABX9TyM0NVBSrpeWGmKw+oeC0jo1",
      "include_colab_link": true
    },
    "kernelspec": {
      "name": "python3",
      "display_name": "Python 3"
    }
  },
  "cells": [
    {
      "cell_type": "markdown",
      "metadata": {
        "id": "view-in-github",
        "colab_type": "text"
      },
      "source": [
        "<a href=\"https://colab.research.google.com/github/gitaprendiendoaprogramar/vpls/blob/master/PRACTICAS.ipynb\" target=\"_parent\"><img src=\"https://colab.research.google.com/assets/colab-badge.svg\" alt=\"Open In Colab\"/></a>"
      ]
    },
    {
      "cell_type": "markdown",
      "metadata": {
        "id": "IPOSRJJ3_JSh"
      },
      "source": [
        "\n",
        "# ejercicio de llamadas \n",
        "\n",
        "\n",
        "\n",
        "\n"
      ]
    },
    {
      "cell_type": "code",
      "metadata": {
        "id": "KWQEnBHgp3zx"
      },
      "source": [
        ""
      ],
      "execution_count": null,
      "outputs": []
    },
    {
      "cell_type": "code",
      "metadata": {
        "id": "pW1L1cXv0kMY",
        "colab": {
          "base_uri": "https://localhost:8080/"
        },
        "outputId": "dbf92c2e-5b9d-4acf-9620-a1157c34fa42"
      },
      "source": [
        "l = [80, 20, 40, 50, 60, 70]\n",
        "\n",
        "\n",
        "nu = []\n",
        "for i in range(0, 500, 10):\n",
        "  nu.append(i)\n",
        "\n",
        "def Llamadas(x):\n",
        "  y = 0\n",
        "  l = sum(x)\n",
        "  k = 200\n",
        "  if l>k:\n",
        "    h = l-k\n",
        "    h = h/2\n",
        "    if h in nu:\n",
        "      y = str(h)\n",
        "      print(y[0])\n",
        "\n",
        "print(Llamadas(l))\n",
        "\n",
        "\n",
        "\n",
        "\n",
        "\n",
        "\n"
      ],
      "execution_count": null,
      "outputs": [
        {
          "output_type": "stream",
          "text": [
            "6\n",
            "None\n"
          ],
          "name": "stdout"
        }
      ]
    },
    {
      "cell_type": "markdown",
      "metadata": {
        "id": "bQJ5g_qsBxfg"
      },
      "source": [
        "# ejercicio de concatenar numero, en indices pares (pide numero indterminadamente)"
      ]
    },
    {
      "cell_type": "code",
      "metadata": {
        "id": "3-plMw_x8gW2",
        "colab": {
          "base_uri": "https://localhost:8080/"
        },
        "outputId": "afb804d5-bb5b-48f9-bff6-94fa7dacefdb"
      },
      "source": [
        "\n",
        "l = []\n",
        "while True:\n",
        "  j = (input())\n",
        "  l.append(j)\n",
        "  if j[0]==j[-1]:\n",
        "    break \n",
        "\n",
        "for i in l:\n",
        "  j = l.index(i)\n",
        "  if j%2==0:\n",
        "    l[j] = i+i\n",
        "  else:\n",
        "    l[j] = i[0]\n",
        "print(l)\n",
        "\n",
        "\n"
      ],
      "execution_count": null,
      "outputs": [
        {
          "output_type": "stream",
          "text": [
            "123\n",
            "345\n",
            "654\n",
            "121\n",
            "['123123', '3', '654654', '1']\n"
          ],
          "name": "stdout"
        }
      ]
    },
    {
      "cell_type": "markdown",
      "metadata": {
        "id": "eWm4xmaVE3Az"
      },
      "source": [
        "# restar dos fechas y dar la respuesta en segundos \n",
        "\n"
      ]
    },
    {
      "cell_type": "code",
      "metadata": {
        "id": "kThlmK9RCBC2",
        "colab": {
          "base_uri": "https://localhost:8080/"
        },
        "outputId": "51f1ed17-98cd-457a-8bd1-8bf6f92af439"
      },
      "source": [
        "N = input(\"ingrese un numero\")\n",
        "M = input(\"ingrese otro numero\")\n",
        "\n",
        "from datetime import datetime\n",
        "\n",
        "\n",
        "j = datetime.strptime(N, \"%d/%m/%Y %H:%M:%S\")\n",
        "k = datetime.strptime(M, \"%d/%m/%Y %H:%M:%S\")\n",
        "\n",
        "y = j-k\n",
        "y = abs(y.days)\n",
        "j = 3600*24\n",
        "s = j*y\n",
        "print(s)\n"
      ],
      "execution_count": null,
      "outputs": [
        {
          "output_type": "stream",
          "text": [
            "ingrese un numero01/09/1994 00:00:00\n",
            "ingrese otro numero01/09/1995 00:00:00\n",
            "31536000\n"
          ],
          "name": "stdout"
        }
      ]
    },
    {
      "cell_type": "code",
      "metadata": {
        "id": "YN8Jff5zFEje",
        "colab": {
          "base_uri": "https://localhost:8080/"
        },
        "outputId": "257b8684-be4b-45de-8f92-bf8e732eeb57"
      },
      "source": [
        "\n",
        "#M = eval(input())\n",
        "M = [[12, 34, 56], [45, 23, 17], [65, 32, 89]]\n",
        "\n",
        "j = len(M)\n",
        "k = len(M[0])\n",
        "if j ==k:\n",
        "  suma = 0\n",
        "  for i in M:\n",
        "    suma+=i[0]\n",
        "  print(suma)\n",
        "  if suma%2==0:\n",
        "    print(\"par\")\n",
        "  else:\n",
        "    print(\"Impar\")\n",
        "else:\n",
        "  for i in M:\n",
        "    suma = 0\n",
        "    suma+=i[-1]\n",
        "  if suma%2==0:\n",
        "    print(\"par\")\n",
        "  else:\n",
        "    print(\"Impar\")\n",
        "\n",
        "\n",
        "  \n",
        "\n",
        "\n"
      ],
      "execution_count": null,
      "outputs": [
        {
          "output_type": "stream",
          "text": [
            "122\n",
            "par\n"
          ],
          "name": "stdout"
        }
      ]
    },
    {
      "cell_type": "markdown",
      "metadata": {
        "id": "bVp4oth5p5iY"
      },
      "source": [
        "# ejercicio del dueño de un restaurante \n"
      ]
    },
    {
      "cell_type": "code",
      "metadata": {
        "colab": {
          "base_uri": "https://localhost:8080/"
        },
        "id": "VSBG_elrp44q",
        "outputId": "af697501-4771-4f01-f009-6a7c4456a730"
      },
      "source": [
        "M = 60000\n",
        "N = [30000, 45000, 20000, 10000, 34000, 26000]\n",
        "\n",
        "l = []\n",
        "for i in N:\n",
        "  K = i*0.12\n",
        "  t = i-K-2000\n",
        "  l.append(t)\n",
        "\n",
        "j = sum(l)\n",
        "if j>=M:\n",
        "  print(\"Cumple\")\n",
        "else:\n",
        "  print(\"No cumple\")\n",
        "  "
      ],
      "execution_count": 3,
      "outputs": [
        {
          "output_type": "stream",
          "text": [
            "Cumple\n"
          ],
          "name": "stdout"
        }
      ]
    },
    {
      "cell_type": "markdown",
      "metadata": {
        "id": "plo7mpAtvULW"
      },
      "source": [
        "# imprimir si o no si es una palabra palindroma \n",
        "\n"
      ]
    },
    {
      "cell_type": "code",
      "metadata": {
        "colab": {
          "base_uri": "https://localhost:8080/"
        },
        "id": "5zFPuP6Cr7Jy",
        "outputId": "b76172ee-4bc1-45cd-feba-9f134090a3dd"
      },
      "source": [
        "j = open(\"/palindroma.txt\", \"r\")\n",
        "\n",
        "j = j.readlines()\n",
        "print(j)\n",
        "\n",
        "palabras = []\n",
        "\n",
        "for i in j:\n",
        "  y = i.rstrip()\n",
        "  palabras.append(y)\n",
        "\n",
        "def palindroma(x):\n",
        "  for i in x:\n",
        "    y = i[0:2]\n",
        "    v = i[-2:]\n",
        "    v = v[::-1]\n",
        "    if y ==v:\n",
        "      print(\"Si\")\n",
        "    else:\n",
        "      print(\"No\")\n",
        "\n",
        "print(palindroma(palabras))"
      ],
      "execution_count": 7,
      "outputs": [
        {
          "output_type": "stream",
          "text": [
            "['ala\\n', 'santoangel\\n', 'hablemos\\n', 'anueleuna\\n', 'nosoypalindroma\\n']\n",
            "Si\n",
            "No\n",
            "No\n",
            "Si\n",
            "No\n",
            "None\n"
          ],
          "name": "stdout"
        }
      ]
    },
    {
      "cell_type": "markdown",
      "metadata": {
        "id": "Q5LYpzTx9QPe"
      },
      "source": [
        "# LIBRAS DE CAFE (COMPRA)\n"
      ]
    },
    {
      "cell_type": "code",
      "metadata": {
        "colab": {
          "base_uri": "https://localhost:8080/"
        },
        "id": "fF3dsB9z5S3H",
        "outputId": "6e057982-586b-4766-c08d-0f0b9d85ef47"
      },
      "source": [
        " N = 400\n",
        " M = 450\n",
        " t = 700000\n",
        "\n",
        " li  = t/N\n",
        " l2 = t/M\n",
        "\n",
        "d = li-l2\n",
        "if d>10:\n",
        "  print(li)\n",
        "else:\n",
        "  print(l2)"
      ],
      "execution_count": 12,
      "outputs": [
        {
          "output_type": "stream",
          "text": [
            "1750.0\n"
          ],
          "name": "stdout"
        }
      ]
    }
  ]
}