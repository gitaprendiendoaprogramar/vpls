{
 "cells": [
  {
   "cell_type": "markdown",
   "metadata": {},
   "source": [
    "# Ejercicio 1\n",
    "Escriba un programa de Python 3 que solicite por consola un texto con el nombre y otro texto con el apellido del usuario e imprímalos en orden inverso con un espacio entre ellos.\n",
    "\n",
    "NOTA: El mensaje al solicitar la primera entrada debe ser: \"Ingrese el nombre \\n\", tal como aparece entre comillas incluyendo la mayúscula inicial, el espacio y el \"\\n\" despues de \"nombre\". El mensaje para solicitar la segunda entrada debe ser: \"Ingrese el apellido \\n\" con las mismas normas dadas para la primera entrada."
   ]
  },
  {
   "cell_type": "code",
   "execution_count": 2,
   "metadata": {},
   "outputs": [
    {
     "name": "stdout",
     "output_type": "stream",
     "text": [
      "Ingrese el nombre \n",
      "wer\n",
      "Ingrese el apellido \n",
      "asdf\n",
      "asdf wer\n"
     ]
    }
   ],
   "source": [
    "nombre = input(\"Ingrese el nombre \\n\")\n",
    "apellido = input(\"Ingrese el apellido \\n\")\n",
    "print(apellido, nombre)"
   ]
  },
  {
   "cell_type": "markdown",
   "metadata": {},
   "source": [
    "# Ejercicio 2\n",
    "Escriba un programa en python 3 que solicite por consola un número real correspondiente al radio de un círculo, luego calcule y muestre el área de este redondeado a 2 cifras decimales (utilice la función round()). Para este ejercicio considere π = 3.14\n",
    "\n",
    "NOTA: El mensaje al solicitar la entrada debe ser: \"Ingrese un numero real \\n\", tal como aparece entre comillas incluyendo la mayúscula inicial, el espacio y el \"\\n\" después de \"real\".\n",
    "\n",
    " "
   ]
  },
  {
   "cell_type": "markdown",
   "metadata": {},
   "source": [
    "radio = float(input(\"Ingrese un numero real \\n\"))\n",
    "pi = 3.14\n",
    "area = round((pi*radio**2),2)\n",
    "print(area)"
   ]
  },
  {
   "cell_type": "markdown",
   "metadata": {},
   "source": [
    "# Ejercicio 3\n",
    "Escriba un programa en python 3 que solicite dos números enteros como entrada e imprima por pantalla la división entera de los dos números.\n",
    "\n",
    "NOTA: El mensaje al solicitar la entrada debe ser: \"Ingrese un numero entero \\n\", tal como aparece entre comillas incluyendo la mayúscula inicial, el espacio y el \"\\n\" despues de \"entero\". El mensaje debe ser el mismo para solicitar los dos números enteros."
   ]
  },
  {
   "cell_type": "code",
   "execution_count": 4,
   "metadata": {},
   "outputs": [
    {
     "name": "stdout",
     "output_type": "stream",
     "text": [
      "Ingrese un numero entero \n",
      "2\n",
      "Ingrese un numero entero \n",
      "3\n",
      "0\n"
     ]
    }
   ],
   "source": [
    "numero1 = int(input(\"Ingrese un numero entero \\n\"))\n",
    "numero2 = int(input(\"Ingrese un numero entero \\n\"))\n",
    "div = numero1//numero2\n",
    "print(div)"
   ]
  },
  {
   "cell_type": "markdown",
   "metadata": {},
   "source": [
    "# Ejercicio 4\n",
    "Escriba un programa en python 3 que solicite por consola dos números enteros N y M, luego utilice los números ingresados en el siguiente ejercicio:\n",
    "\n",
    "La edad de Juan está representada por el número N, la edad de Marcos está representada por el número M. Si la edad de Juan es el doble de la edad de Marcos, el programa debe imprimir “Es el doble”. Si la edad de Juan es el triple de la edad de Marcos, el programa debe imprimir “Es el triple”. Si ambas edades son iguales, el programa debe imprimir “Son iguales”. En cualquier otro caso, el programa debe imprimir “Ninguna de las anteriores” y el valor absoluto de la diferencia de las edades"
   ]
  },
  {
   "cell_type": "code",
   "execution_count": 6,
   "metadata": {},
   "outputs": [
    {
     "name": "stdout",
     "output_type": "stream",
     "text": [
      "Ingrese un numero entero \n",
      "3\n",
      "Ingrese un numero entero \n",
      "2\n",
      "Ninguna de las anteriores\n",
      "1\n"
     ]
    }
   ],
   "source": [
    "N=int(input(\"Ingrese un numero entero \\n\")) \n",
    "M=int(input(\"Ingrese un numero entero \\n\")) \n",
    "if N == 2*M:\n",
    "    print(\"Es el doble\")\n",
    "elif N ==3*M:\n",
    "    print(\"Es el triple\")\n",
    "elif N == M:\n",
    "    print(\"Son iguales\")\n",
    "else:\n",
    "    print(\"Ninguna de las anteriores\")\n",
    "    dire = abs(N-M)\n",
    "    print(dire)"
   ]
  },
  {
   "cell_type": "markdown",
   "metadata": {},
   "source": [
    "# Ejercicio 5\n",
    "Escriba un programa en python 3 que solicite por consola un número entero N, luego utilice el número ingresado en el siguiente ejercicio:\n",
    "\n",
    "Imprima \"Igual\" en caso de que el número N ingresado (de tres cifras) sea igual al revés del mismo número. En caso contrario, imprima \"Diferente\"."
   ]
  },
  {
   "cell_type": "code",
   "execution_count": null,
   "metadata": {},
   "outputs": [],
   "source": [
    "N = input(\"Ingrese un numero entero \\n\")\n",
    "if N[0] == N[-1]:\n",
    "    print(\"Igual\")\n",
    "else:\n",
    "    print(\"Diferente\")"
   ]
  },
  {
   "cell_type": "markdown",
   "metadata": {},
   "source": [
    "# ejercicio 6\n",
    "Escriba un programa en python 3 que solicite por consola un número entero N, luego calcule los primeros N números múltiplos de 5 e imprímalos en una lista.\n",
    "\n",
    "NOTA: El mensaje al solicitar la entrada debe ser: \"Ingrese un numero entero \\n\", tal como aparece entre comillas incluyendo la mayúscula inicial, el espacio y el \"\\n\" después de \"real\"."
   ]
  },
  {
   "cell_type": "code",
   "execution_count": null,
   "metadata": {},
   "outputs": [],
   "source": [
    "numero = int(input(\"Ingrese un numero entero \\n\"))\n",
    "lista = []\n",
    "for i in range(numero):\n",
    "    g = i*5\n",
    "    lista.append(g)\n",
    "    i *+1 \n",
    "print(lista)"
   ]
  },
  {
   "cell_type": "markdown",
   "metadata": {},
   "source": [
    "# Ejercicio 7\n",
    "Crear un programa en python 3 que solicite por consola un entero M y posteriormente lo imprima por pantalla. Si se le ingresa un elemento no entero a la variable, se debe capturar el error y mostrar por pantalla: \"Tipo de dato invalido\". Debe usar captura de errores."
   ]
  },
  {
   "cell_type": "code",
   "execution_count": null,
   "metadata": {},
   "outputs": [],
   "source": [
    "try:\n",
    "    M=int(input(\"Ingrese un entero: \\n\"))\n",
    "    print(M)\n",
    "except:\n",
    "    print(\"Tipo de dato invalido\")\n",
    "    "
   ]
  },
  {
   "cell_type": "code",
   "execution_count": null,
   "metadata": {},
   "outputs": [],
   "source": []
  }
 ],
 "metadata": {
  "kernelspec": {
   "display_name": "Python 3",
   "language": "python",
   "name": "python3"
  },
  "language_info": {
   "codemirror_mode": {
    "name": "ipython",
    "version": 3
   },
   "file_extension": ".py",
   "mimetype": "text/x-python",
   "name": "python",
   "nbconvert_exporter": "python",
   "pygments_lexer": "ipython3",
   "version": "3.8.3"
  }
 },
 "nbformat": 4,
 "nbformat_minor": 4
}
