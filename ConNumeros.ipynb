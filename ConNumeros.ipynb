{
 "cells": [
  {
   "cell_type": "code",
   "execution_count": 2,
   "metadata": {},
   "outputs": [
    {
     "name": "stdout",
     "output_type": "stream",
     "text": [
      "Ingrese un numero3\n",
      "3\n"
     ]
    }
   ],
   "source": [
    "x = input(\"Ingrese un numero\")\n",
    "for i in x:\n",
    "    print(i)\n",
    "    \n",
    "if x[-1]==6:\n",
    "    print()"
   ]
  },
  {
   "cell_type": "code",
   "execution_count": 8,
   "metadata": {},
   "outputs": [
    {
     "name": "stdout",
     "output_type": "stream",
     "text": [
      "4512\n",
      "Unidades : 2\n",
      "decenas : 1\n",
      "centenas : 5\n",
      "miles : 4\n"
     ]
    }
   ],
   "source": [
    "x = list(input())\n",
    "x.reverse()\n",
    "# y=x[::-1] otra forma de hacer el reverse\n",
    "digitos = len(x)\n",
    "texto = [\"Unidades\", \"decenas\", \"centenas\", \"miles\", \"decenas dee miles\", \"centenas de miles\", \"millones\"]\n",
    "for i in range(digitos):\n",
    "    print(texto[i], \":\", x[i])"
   ]
  }
 ],
 "metadata": {
  "kernelspec": {
   "display_name": "Python 3",
   "language": "python",
   "name": "python3"
  },
  "language_info": {
   "codemirror_mode": {
    "name": "ipython",
    "version": 3
   },
   "file_extension": ".py",
   "mimetype": "text/x-python",
   "name": "python",
   "nbconvert_exporter": "python",
   "pygments_lexer": "ipython3",
   "version": "3.8.3"
  }
 },
 "nbformat": 4,
 "nbformat_minor": 4
}
