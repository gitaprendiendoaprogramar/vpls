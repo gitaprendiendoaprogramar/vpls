{
 "cells": [
  {
   "cell_type": "code",
   "execution_count": 16,
   "metadata": {},
   "outputs": [
    {
     "name": "stdout",
     "output_type": "stream",
     "text": [
      "ingrese el numero de la matrix 3\n",
      "[0, 0, 0]\n",
      "[0, 0, 0]\n",
      "[0, 0, 0]\n"
     ]
    }
   ],
   "source": [
    "n = int(input(\"ingrese el numero de la matrix \"))\n",
    "lista = []\n",
    "for i in range(0,n):\n",
    "    lista.append([])\n",
    "\n",
    "    \n",
    "for i in range(0, len(lista)):\n",
    "    for j in lista:\n",
    "        j.append(0)\n",
    "\n",
    "        \n",
    "for i in lista:\n",
    "    print(i)\n",
    "\n",
    "\n",
    "    \n",
    "    \n",
    "            "
   ]
  }
 ],
 "metadata": {
  "kernelspec": {
   "display_name": "Python 3",
   "language": "python",
   "name": "python3"
  },
  "language_info": {
   "codemirror_mode": {
    "name": "ipython",
    "version": 3
   },
   "file_extension": ".py",
   "mimetype": "text/x-python",
   "name": "python",
   "nbconvert_exporter": "python",
   "pygments_lexer": "ipython3",
   "version": "3.8.3"
  }
 },
 "nbformat": 4,
 "nbformat_minor": 4
}
