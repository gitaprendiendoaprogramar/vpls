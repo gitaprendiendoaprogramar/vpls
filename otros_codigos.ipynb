{
 "cells": [
  {
   "cell_type": "markdown",
   "metadata": {},
   "source": [
    "\n",
    "### Código del ejercicio desarrollado durante la sesión del miércoles 2 de septiembre de 2020"
   ]
  },
  {
   "cell_type": "code",
   "execution_count": 17,
   "metadata": {},
   "outputs": [
    {
     "name": "stdout",
     "output_type": "stream",
     "text": [
      "Requirement already satisfied: tutormagic in c:\\users\\usuario\\anaconda3\\lib\\site-packages (0.3.0)\n",
      "Requirement already satisfied: notebook>=3.0 in c:\\users\\usuario\\anaconda3\\lib\\site-packages (from tutormagic) (6.0.3)\n",
      "Requirement already satisfied: ipython-genutils in c:\\users\\usuario\\anaconda3\\lib\\site-packages (from notebook>=3.0->tutormagic) (0.2.0)\n",
      "Requirement already satisfied: Send2Trash in c:\\users\\usuario\\anaconda3\\lib\\site-packages (from notebook>=3.0->tutormagic) (1.5.0)\n",
      "Requirement already satisfied: terminado>=0.8.1 in c:\\users\\usuario\\anaconda3\\lib\\site-packages (from notebook>=3.0->tutormagic) (0.8.3)\n",
      "Requirement already satisfied: jupyter-client>=5.3.4 in c:\\users\\usuario\\anaconda3\\lib\\site-packages (from notebook>=3.0->tutormagic) (6.1.6)\n",
      "Requirement already satisfied: prometheus-client in c:\\users\\usuario\\anaconda3\\lib\\site-packages (from notebook>=3.0->tutormagic) (0.8.0)\n",
      "Requirement already satisfied: nbconvert in c:\\users\\usuario\\anaconda3\\lib\\site-packages (from notebook>=3.0->tutormagic) (5.6.1)\n",
      "Requirement already satisfied: jinja2 in c:\\users\\usuario\\anaconda3\\lib\\site-packages (from notebook>=3.0->tutormagic) (2.11.2)\n",
      "Requirement already satisfied: pyzmq>=17 in c:\\users\\usuario\\anaconda3\\lib\\site-packages (from notebook>=3.0->tutormagic) (19.0.1)\n",
      "Requirement already satisfied: jupyter-core>=4.6.1 in c:\\users\\usuario\\anaconda3\\lib\\site-packages (from notebook>=3.0->tutormagic) (4.6.3)\n",
      "Requirement already satisfied: ipykernel in c:\\users\\usuario\\anaconda3\\lib\\site-packages (from notebook>=3.0->tutormagic) (5.3.2)\n",
      "Requirement already satisfied: tornado>=5.0 in c:\\users\\usuario\\anaconda3\\lib\\site-packages (from notebook>=3.0->tutormagic) (6.0.4)\n",
      "Requirement already satisfied: nbformat in c:\\users\\usuario\\anaconda3\\lib\\site-packages (from notebook>=3.0->tutormagic) (5.0.7)\n",
      "Requirement already satisfied: traitlets>=4.2.1 in c:\\users\\usuario\\anaconda3\\lib\\site-packages (from notebook>=3.0->tutormagic) (4.3.3)\n",
      "Requirement already satisfied: python-dateutil>=2.1 in c:\\users\\usuario\\anaconda3\\lib\\site-packages (from jupyter-client>=5.3.4->notebook>=3.0->tutormagic) (2.8.1)\n",
      "Requirement already satisfied: pygments in c:\\users\\usuario\\anaconda3\\lib\\site-packages (from nbconvert->notebook>=3.0->tutormagic) (2.6.1)\n",
      "Requirement already satisfied: testpath in c:\\users\\usuario\\anaconda3\\lib\\site-packages (from nbconvert->notebook>=3.0->tutormagic) (0.4.4)\n",
      "Requirement already satisfied: mistune<2,>=0.8.1 in c:\\users\\usuario\\anaconda3\\lib\\site-packages (from nbconvert->notebook>=3.0->tutormagic) (0.8.4)\n",
      "Requirement already satisfied: entrypoints>=0.2.2 in c:\\users\\usuario\\anaconda3\\lib\\site-packages (from nbconvert->notebook>=3.0->tutormagic) (0.3)\n",
      "Requirement already satisfied: defusedxml in c:\\users\\usuario\\anaconda3\\lib\\site-packages (from nbconvert->notebook>=3.0->tutormagic) (0.6.0)\n",
      "Requirement already satisfied: bleach in c:\\users\\usuario\\anaconda3\\lib\\site-packages (from nbconvert->notebook>=3.0->tutormagic) (3.1.5)\n",
      "Requirement already satisfied: pandocfilters>=1.4.1 in c:\\users\\usuario\\anaconda3\\lib\\site-packages (from nbconvert->notebook>=3.0->tutormagic) (1.4.2)\n",
      "Requirement already satisfied: MarkupSafe>=0.23 in c:\\users\\usuario\\anaconda3\\lib\\site-packages (from jinja2->notebook>=3.0->tutormagic) (1.1.1)\n",
      "Requirement already satisfied: pywin32>=1.0; sys_platform == \"win32\" in c:\\users\\usuario\\anaconda3\\lib\\site-packages (from jupyter-core>=4.6.1->notebook>=3.0->tutormagic) (227)\n",
      "Requirement already satisfied: ipython>=5.0.0 in c:\\users\\usuario\\anaconda3\\lib\\site-packages (from ipykernel->notebook>=3.0->tutormagic) (7.16.1)\n",
      "Requirement already satisfied: jsonschema!=2.5.0,>=2.4 in c:\\users\\usuario\\anaconda3\\lib\\site-packages (from nbformat->notebook>=3.0->tutormagic) (3.2.0)\n",
      "Requirement already satisfied: decorator in c:\\users\\usuario\\anaconda3\\lib\\site-packages (from traitlets>=4.2.1->notebook>=3.0->tutormagic) (4.4.2)\n",
      "Requirement already satisfied: six in c:\\users\\usuario\\anaconda3\\lib\\site-packages (from traitlets>=4.2.1->notebook>=3.0->tutormagic) (1.15.0)\n",
      "Requirement already satisfied: packaging in c:\\users\\usuario\\anaconda3\\lib\\site-packages (from bleach->nbconvert->notebook>=3.0->tutormagic) (20.4)\n",
      "Requirement already satisfied: webencodings in c:\\users\\usuario\\anaconda3\\lib\\site-packages (from bleach->nbconvert->notebook>=3.0->tutormagic) (0.5.1)\n",
      "Requirement already satisfied: pickleshare in c:\\users\\usuario\\anaconda3\\lib\\site-packages (from ipython>=5.0.0->ipykernel->notebook>=3.0->tutormagic) (0.7.5)\n",
      "Requirement already satisfied: setuptools>=18.5 in c:\\users\\usuario\\anaconda3\\lib\\site-packages (from ipython>=5.0.0->ipykernel->notebook>=3.0->tutormagic) (49.2.0.post20200714)\n",
      "Requirement already satisfied: colorama; sys_platform == \"win32\" in c:\\users\\usuario\\anaconda3\\lib\\site-packages (from ipython>=5.0.0->ipykernel->notebook>=3.0->tutormagic) (0.4.3)\n",
      "Requirement already satisfied: jedi>=0.10 in c:\\users\\usuario\\anaconda3\\lib\\site-packages (from ipython>=5.0.0->ipykernel->notebook>=3.0->tutormagic) (0.17.1)\n",
      "Requirement already satisfied: prompt-toolkit!=3.0.0,!=3.0.1,<3.1.0,>=2.0.0 in c:\\users\\usuario\\anaconda3\\lib\\site-packages (from ipython>=5.0.0->ipykernel->notebook>=3.0->tutormagic) (3.0.5)\n",
      "Requirement already satisfied: backcall in c:\\users\\usuario\\anaconda3\\lib\\site-packages (from ipython>=5.0.0->ipykernel->notebook>=3.0->tutormagic) (0.2.0)\n",
      "Requirement already satisfied: pyrsistent>=0.14.0 in c:\\users\\usuario\\anaconda3\\lib\\site-packages (from jsonschema!=2.5.0,>=2.4->nbformat->notebook>=3.0->tutormagic) (0.16.0)\n",
      "Requirement already satisfied: attrs>=17.4.0 in c:\\users\\usuario\\anaconda3\\lib\\site-packages (from jsonschema!=2.5.0,>=2.4->nbformat->notebook>=3.0->tutormagic) (19.3.0)\n",
      "Requirement already satisfied: pyparsing>=2.0.2 in c:\\users\\usuario\\anaconda3\\lib\\site-packages (from packaging->bleach->nbconvert->notebook>=3.0->tutormagic) (2.4.7)\n",
      "Requirement already satisfied: parso<0.8.0,>=0.7.0 in c:\\users\\usuario\\anaconda3\\lib\\site-packages (from jedi>=0.10->ipython>=5.0.0->ipykernel->notebook>=3.0->tutormagic) (0.7.0)\n",
      "Requirement already satisfied: wcwidth in c:\\users\\usuario\\anaconda3\\lib\\site-packages (from prompt-toolkit!=3.0.0,!=3.0.1,<3.1.0,>=2.0.0->ipython>=5.0.0->ipykernel->notebook>=3.0->tutormagic) (0.2.5)\n"
     ]
    }
   ],
   "source": [
    "# instalar el tutormagic\n",
    "!pip install tutormagic\n",
    "\n",
    "# cargar la extensión\n",
    "%load_ext tutormagic"
   ]
  },
  {
   "cell_type": "code",
   "execution_count": null,
   "metadata": {},
   "outputs": [],
   "source": [
    "#%%tutor --lang python3 -s\n",
    "n = int(input(\"Ingrese el tamaño de la matriz requeridad: \"))\n",
    "if n%2 ==0:\n",
    "    n += 1\n",
    "## generación de una matriz  de tamaño nxn\n",
    "matriz = []\n",
    "\n",
    "for a in range(n):\n",
    "    matriz.append([])\n",
    "for b in matriz:\n",
    "    for c in range(n):\n",
    "        b.append(1)\n",
    "#print(matriz)\n",
    "m = 1\n",
    "for i in range(1,n):\n",
    "    for j in range(0,n):\n",
    "        if j <m or j > n-m-1:\n",
    "            matriz[i][j] = 0\n",
    "        else:\n",
    "            if i%2 !=0 and j%2 ==0:\n",
    "                matriz[i][j] = 0\n",
    "            else:\n",
    "                if i%2==0 and j%2 !=0:\n",
    "                    matriz[i][j] = 0     \n",
    "    m = m+1            \n",
    "# print(matriz)            \n",
    "for p in matriz:\n",
    "    if sum(p)>0:\n",
    "        for x in p:\n",
    "            if x ==1:\n",
    "                x = \"*\"\n",
    "            else:\n",
    "                x = \" \"\n",
    "            print(x, end = \"\")\n",
    "        print(\"\")\n",
    "         \n",
    "matriz.reverse()\n",
    "for p in matriz:\n",
    "    if sum(p)>0:\n",
    "        for x in p:\n",
    "            if x ==1:\n",
    "                x = \"*\"\n",
    "            else:\n",
    "                x = \" \"\n",
    "            print(x, end = \"\")\n",
    "        print(\"\")\n",
    "    "
   ]
  },
  {
   "cell_type": "code",
   "execution_count": 43,
   "metadata": {},
   "outputs": [
    {
     "name": "stdout",
     "output_type": "stream",
     "text": [
      "[[1, 1, 1, 1, 1, 1, 1, 1, 1], [0, 0, 0, 0, 1, 0, 0, 0, 0], [0, 0, 0, 0, 0, 0, 0, 0, 0], [0, 0, 0, 0, 0, 0, 0, 0, 0], [0, 0, 0, 0, 0, 0, 0, 0, 0], [0, 0, 0, 0, 0, 0, 0, 0, 0]]\n"
     ]
    },
    {
     "ename": "TypeError",
     "evalue": "'list' object cannot be interpreted as an integer",
     "output_type": "error",
     "traceback": [
      "\u001b[1;31m---------------------------------------------------------------------------\u001b[0m",
      "\u001b[1;31mTypeError\u001b[0m                                 Traceback (most recent call last)",
      "\u001b[1;32m<ipython-input-43-16a3f80d304f>\u001b[0m in \u001b[0;36m<module>\u001b[1;34m\u001b[0m\n\u001b[0;32m      4\u001b[0m     \u001b[1;32mfor\u001b[0m \u001b[0mj\u001b[0m \u001b[1;32min\u001b[0m \u001b[0mi\u001b[0m\u001b[1;33m:\u001b[0m\u001b[1;33m\u001b[0m\u001b[1;33m\u001b[0m\u001b[0m\n\u001b[0;32m      5\u001b[0m         \u001b[1;32mif\u001b[0m \u001b[0mj\u001b[0m \u001b[1;33m==\u001b[0m\u001b[1;36m0\u001b[0m\u001b[1;33m:\u001b[0m\u001b[1;33m\u001b[0m\u001b[1;33m\u001b[0m\u001b[0m\n\u001b[1;32m----> 6\u001b[1;33m             \u001b[0mli\u001b[0m\u001b[1;33m.\u001b[0m\u001b[0mpop\u001b[0m\u001b[1;33m(\u001b[0m\u001b[0mi\u001b[0m\u001b[1;33m)\u001b[0m\u001b[1;33m\u001b[0m\u001b[1;33m\u001b[0m\u001b[0m\n\u001b[0m\u001b[0;32m      7\u001b[0m \u001b[0mprint\u001b[0m\u001b[1;33m(\u001b[0m\u001b[0mli\u001b[0m\u001b[1;33m)\u001b[0m\u001b[1;33m\u001b[0m\u001b[1;33m\u001b[0m\u001b[0m\n\u001b[0;32m      8\u001b[0m \u001b[1;31m# li.pop(5)\u001b[0m\u001b[1;33m\u001b[0m\u001b[1;33m\u001b[0m\u001b[1;33m\u001b[0m\u001b[0m\n",
      "\u001b[1;31mTypeError\u001b[0m: 'list' object cannot be interpreted as an integer"
     ]
    }
   ],
   "source": [
    "li = [[1, 1, 1, 1, 1, 1, 1, 1, 1], [0, 0, 0, 0, 1, 0, 0, 0, 0], [0, 0, 0, 0, 0, 0, 0, 0, 0], [0, 0, 0, 0, 0, 0, 0, 0, 0], [0, 0, 0, 0, 0, 0, 0, 0, 0], [0, 0, 0, 0, 0, 0, 0, 0, 0]]\n",
    "print(li)\n",
    "for i in li:\n",
    "    for j in i:\n",
    "        if j ==0:\n",
    "            li.pop(i)\n",
    "print(li)\n",
    "# li.pop(5)\n",
    "# print(li)"
   ]
  },
  {
   "cell_type": "code",
   "execution_count": 1,
   "metadata": {},
   "outputs": [
    {
     "name": "stdout",
     "output_type": "stream",
     "text": [
      "23\n",
      "No puede ser un racimo ideal\n",
      "0\n"
     ]
    }
   ],
   "source": [
    "# ejercicio de suleima, comprobar si un racimo de ubas es perfecto o no.\n",
    "lista = []\n",
    "suma = 0\n",
    "# crea una lista con la suma de todos los valores anteriores, por ejemplo, cuando 1 vale dos le suma el uno anterrio a el y asi jaja\n",
    "for i in range(1,100):\n",
    "    suma+=i\n",
    "    lista.append(suma)\n",
    "\n",
    "# se pide un numero y se mira si esta en la lista y se dan unos mensajes aocrde con lo analisado\n",
    "for i in range(0, 10000):\n",
    "    N = int(input())\n",
    "    if N in lista:\n",
    "        print(\"Puede ser un racimo ideal\")\n",
    "    elif N == 0:\n",
    "        break\n",
    "    else:\n",
    "        print(\"No puede ser un racimo ideal\")\n",
    "    if N ==0:\n",
    "        break  \n",
    "       \n",
    "    \n",
    "    "
   ]
  },
  {
   "cell_type": "code",
   "execution_count": 4,
   "metadata": {},
   "outputs": [
    {
     "name": "stdout",
     "output_type": "stream",
     "text": [
      "234\n",
      "456\n",
      "0\n",
      "La ficha faltante es:  1\n"
     ]
    }
   ],
   "source": [
    "lista = []\n",
    "for i in range(1, 5001):\n",
    "    lista.append(i)\n",
    "#print(lista)\n",
    "\n",
    "lista2 = []\n",
    "\n",
    "for i in range(1,5000):\n",
    "    N = int(input())\n",
    "    lista2.append(N)\n",
    "    if N ==0:\n",
    "        break\n",
    "\n",
    "lista2.pop(-1)\n",
    "\n",
    "\n",
    "diferencia = set(lista) - set(lista2)\n",
    "\n",
    "lista3 = list(diferencia)\n",
    "\n",
    "ficha = min(lista3)\n",
    "print(\"La ficha faltante es: \", ficha)\n",
    "        \n"
   ]
  },
  {
   "cell_type": "code",
   "execution_count": 13,
   "metadata": {},
   "outputs": [
    {
     "name": "stdout",
     "output_type": "stream",
     "text": [
      "1000\n",
      "995\n",
      "1990\n",
      "5\n",
      "1992\n",
      "3\n",
      "123\n",
      "345\n",
      "1996\n",
      "1000\n",
      "991\n",
      "0\n",
      "4.0\n"
     ]
    }
   ],
   "source": [
    "lista = []\n",
    "for i in range(1,50000):\n",
    "    N = int(input())\n",
    "    lista.append(N)\n",
    "    if N ==0:\n",
    "        break\n",
    "\n",
    "\n",
    "lista2 = lista\n",
    "lista3 = []\n",
    "for i in lista:\n",
    "    for j in lista2:\n",
    "        suma = i+j\n",
    "        lista3.append(suma)\n",
    "        \n",
    "lista4 = []        \n",
    "for i in lista3:\n",
    "    if i == 1995:\n",
    "        lista4.append(i)\n",
    "        \n",
    "\n",
    "cantidad = len(lista4)/2\n",
    "print(cantidad)\n",
    "  "
   ]
  }
 ],
 "metadata": {
  "kernelspec": {
   "display_name": "Python 3",
   "language": "python",
   "name": "python3"
  },
  "language_info": {
   "codemirror_mode": {
    "name": "ipython",
    "version": 3
   },
   "file_extension": ".py",
   "mimetype": "text/x-python",
   "name": "python",
   "nbconvert_exporter": "python",
   "pygments_lexer": "ipython3",
   "version": "3.8.3"
  }
 },
 "nbformat": 4,
 "nbformat_minor": 4
}
