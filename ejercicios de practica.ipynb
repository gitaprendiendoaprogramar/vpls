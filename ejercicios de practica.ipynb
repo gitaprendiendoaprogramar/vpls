{
 "cells": [
  {
   "cell_type": "markdown",
   "metadata": {},
   "source": [
    "# consite en traducir los pronombre en un texto y hacer un contador, la traducion de cada pronombre tiene un precion, tambien es traducen numeros y tienen otro precio\n"
   ]
  },
  {
   "cell_type": "code",
   "execution_count": 12,
   "metadata": {},
   "outputs": [
    {
     "name": "stdout",
     "output_type": "stream",
     "text": [
      "Ingrese su texto en ingles: wregdhk}\n",
      "wregdhk}\n",
      "Menor\n"
     ]
    }
   ],
   "source": [
    "j = input(\"Ingrese su texto en ingles: \")\n",
    "\n",
    "j = j.lower()\n",
    "\n",
    "def repla(x):\n",
    "    h = \"\"\n",
    "    contador = 0\n",
    "    contador2 = 0\n",
    "    h = x.replace(\"she\", \" ella \")\n",
    "    contador +=1\n",
    "    h = h.replace(\" he \", \" el \")\n",
    "    contador +=1\n",
    "    h = h.replace(\" i \", \" yo \")\n",
    "    contador +=1\n",
    "    h = h.replace(\"1\", \"ONE\")\n",
    "    contador2 +=1\n",
    "    h = h.replace(\"2\", \"TWO\")\n",
    "    contador2 +=1\n",
    "    cobra = contador*100\n",
    "    cobra2 = contador2*200\n",
    "    costo = cobra + cobra2\n",
    "    print(h)\n",
    "    y = \"Mayor\"\n",
    "    t = \"Menor\"\n",
    "    if costo >1000:\n",
    "        return y\n",
    "    else:\n",
    "        return t\n",
    "\n",
    "        \n",
    "print(repla(j))"
   ]
  },
  {
   "cell_type": "markdown",
   "metadata": {},
   "source": [
    "# hallar dos 2/3 del volumen de un cilindro "
   ]
  },
  {
   "cell_type": "code",
   "execution_count": 11,
   "metadata": {},
   "outputs": [
    {
     "name": "stdout",
     "output_type": "stream",
     "text": [
      "Ingrese un numero23.1\n",
      "Ingrese un numero56.1\n",
      "15.7\n"
     ]
    }
   ],
   "source": [
    "N = float(input(\"Ingrese un numero\"))\n",
    "M = float(input(\"Ingrese un numero\"))\n",
    "\n",
    "pi = 3.14\n",
    "r = (N/2)/10\n",
    "vol = (pi*r**2)*(M/10)\n",
    "y = vol*(2/3)\n",
    "y =round(y ,1)\n",
    "print(y)\n",
    "\n"
   ]
  },
  {
   "cell_type": "markdown",
   "metadata": {},
   "source": [
    "# EJERCCIO TRATA DE COMPARAR DOS FECHAS"
   ]
  },
  {
   "cell_type": "code",
   "execution_count": 23,
   "metadata": {},
   "outputs": [
    {
     "name": "stdout",
     "output_type": "stream",
     "text": [
      "Iguales\n"
     ]
    }
   ],
   "source": [
    "N = \"23/09/1960\"\n",
    "M = \"23/09/1960\"\n",
    "from datetime import datetime\n",
    "\n",
    "j = datetime.strptime(N, \"%d/%m/%Y\")\n",
    "\n",
    "j2 = datetime.strptime(M, \"%d/%m/%Y\")\n",
    "\n",
    "\n",
    "if j >j2:\n",
    "    print(\"mayor\")\n",
    "else:\n",
    "    if j <j2:\n",
    "        print(\"menor\")\n",
    "\n",
    "if j ==j2:\n",
    "    print(\"Iguales\")\n",
    "    "
   ]
  },
  {
   "cell_type": "markdown",
   "metadata": {},
   "source": [
    "# Ejercicio trata de miras si dos horas son iguales "
   ]
  },
  {
   "cell_type": "code",
   "execution_count": 54,
   "metadata": {},
   "outputs": [
    {
     "name": "stdout",
     "output_type": "stream",
     "text": [
      "03:53:15 AM\n",
      "Diferente\n"
     ]
    }
   ],
   "source": [
    "from datetime import datetime\n",
    "import time\n",
    "N = \"03:53:15 PM\"\n",
    "m = \"03:53:15\"\n",
    "\n",
    "\n",
    "t = time.strptime(m, \"%H:%M:%S\")\n",
    "r = time.strftime( \"%I:%M:%S %p\", t )\n",
    "print(r)\n",
    "\n",
    "if str(r) ==N:\n",
    "    print(\"Iguales\")\n",
    "else:\n",
    "    print(\"Diferente\")"
   ]
  },
  {
   "cell_type": "code",
   "execution_count": null,
   "metadata": {},
   "outputs": [],
   "source": []
  }
 ],
 "metadata": {
  "kernelspec": {
   "display_name": "Python 3",
   "language": "python",
   "name": "python3"
  },
  "language_info": {
   "codemirror_mode": {
    "name": "ipython",
    "version": 3
   },
   "file_extension": ".py",
   "mimetype": "text/x-python",
   "name": "python",
   "nbconvert_exporter": "python",
   "pygments_lexer": "ipython3",
   "version": "3.8.3"
  }
 },
 "nbformat": 4,
 "nbformat_minor": 4
}
