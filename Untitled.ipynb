{
 "cells": [
  {
   "cell_type": "code",
   "execution_count": 6,
   "metadata": {},
   "outputs": [],
   "source": [
    "def f(x):\n",
    "    f=True;\n",
    "    for k in range(0,len(s)):\n",
    "        if int(s[k])%2==1:\n",
    "            f=False;\n",
    "            break;\n",
    "    if f:\n",
    "        print(\"Todos los dígitos son pares\")\n",
    "    else:\n",
    "        print(\"No todos los dígitos son pares\")\n",
    "  \n",
    "\n"
   ]
  },
  {
   "cell_type": "code",
   "execution_count": 7,
   "metadata": {},
   "outputs": [
    {
     "name": "stdout",
     "output_type": "stream",
     "text": [
      "Ingrese un número enter de n dígitos: -1\n"
     ]
    }
   ],
   "source": [
    "for i in range(0,500):\n",
    "    s=input(\"Ingrese un número enter de n dígitos: \")\n",
    "    if s == \"-1\":\n",
    "        break\n",
    "    f=True;\n",
    "    for k in range(0,len(s)):\n",
    "        if int(s[k])%2==1:\n",
    "            f=False;\n",
    "            break;\n",
    "    if f:\n",
    "        print(\"Hyperpar\")\n",
    "    else:\n",
    "        print(\"No es hyperpar\")\n",
    "    "
   ]
  },
  {
   "cell_type": "code",
   "execution_count": 4,
   "metadata": {},
   "outputs": [
    {
     "name": "stdout",
     "output_type": "stream",
     "text": [
      "Ingrese un número enter de n dígitos: 24680\n",
      "Todos los dígitos son pares\n",
      "Ingrese un número enter de n dígitos: -1\n"
     ]
    }
   ],
   "source": [
    "def f(x):\n",
    "    y = \"Todos los dígitos son pares\"\n",
    "    d = \"No todos los dígitos son pares\"\n",
    "    f=True;\n",
    "    for k in range(0,len(s)):\n",
    "        if int(s[k])%2==1:\n",
    "            f=False;\n",
    "            break;\n",
    "    if f:\n",
    "        return y\n",
    "    else:\n",
    "        return d\n",
    "\n",
    "        \n",
    "        \n",
    "for i in range(0,500):\n",
    "    s=input(\"Ingrese un número enter de n dígitos: \")\n",
    "    if s == \"-1\":\n",
    "        break\n",
    "    print(f(s))  \n",
    "    "
   ]
  }
 ],
 "metadata": {
  "kernelspec": {
   "display_name": "Python 3",
   "language": "python",
   "name": "python3"
  },
  "language_info": {
   "codemirror_mode": {
    "name": "ipython",
    "version": 3
   },
   "file_extension": ".py",
   "mimetype": "text/x-python",
   "name": "python",
   "nbconvert_exporter": "python",
   "pygments_lexer": "ipython3",
   "version": "3.8.3"
  }
 },
 "nbformat": 4,
 "nbformat_minor": 4
}
