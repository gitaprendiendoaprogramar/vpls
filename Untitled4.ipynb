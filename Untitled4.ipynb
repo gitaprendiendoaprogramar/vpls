{
 "cells": [
  {
   "cell_type": "code",
   "execution_count": 8,
   "metadata": {},
   "outputs": [
    {
     "name": "stdout",
     "output_type": "stream",
     "text": [
      "3\n",
      "No pertenece a la serie de Julianachi\n",
      "20\n",
      "No pertenece a la serie de Julianachi\n",
      "999\n",
      "Pertenece a la serie de Julianachi\n",
      "0\n"
     ]
    }
   ],
   "source": [
    "def divisores(x):\n",
    "    suma=0\n",
    "    for i in range(1, x+1):\n",
    "        if x%i==0:\n",
    "            suma+=1\n",
    "    y=suma\n",
    "    return y\n",
    "lista=[1]\n",
    "for k in range(0,10000):\n",
    "    j=lista[k]+divisores(lista[k])\n",
    "    lista.append(j) \n",
    "for i in range(2, 500):\n",
    "    nu=int(input())\n",
    "    if nu==0:\n",
    "        break\n",
    "    if nu in lista:\n",
    "        print(\"Pertenece a la serie de Julianachi\")\n",
    "    else:\n",
    "        print(\"No pertenece a la serie de Julianachi\")        "
   ]
  },
  {
   "cell_type": "code",
   "execution_count": 6,
   "metadata": {},
   "outputs": [
    {
     "name": "stdout",
     "output_type": "stream",
     "text": [
      "[3]\n"
     ]
    }
   ],
   "source": [
    "lista1 = [1,2,3,3,3,3]\n",
    "lista = [3,3]\n",
    "\n",
    "rep = []\n",
    "uni = []\n",
    "\n",
    "for i in lista1:\n",
    "    if i in lista:\n",
    "        rep.append(i)\n",
    "    else:\n",
    "        uni.append(i)\n",
    "        \n",
    "rep = set(rep)\n",
    "rep = list(rep)\n",
    "print(rep)"
   ]
  },
  {
   "cell_type": "code",
   "execution_count": 12,
   "metadata": {},
   "outputs": [
    {
     "name": "stdout",
     "output_type": "stream",
     "text": [
      "10\n",
      "12\n",
      "54000.0\n"
     ]
    }
   ],
   "source": [
    "N = int(input())\n",
    "M = int(input())\n",
    "\n",
    "x = (900*N*M)/6*3\n",
    "\n",
    "print(x)"
   ]
  }
 ],
 "metadata": {
  "kernelspec": {
   "display_name": "Python 3",
   "language": "python",
   "name": "python3"
  },
  "language_info": {
   "codemirror_mode": {
    "name": "ipython",
    "version": 3
   },
   "file_extension": ".py",
   "mimetype": "text/x-python",
   "name": "python",
   "nbconvert_exporter": "python",
   "pygments_lexer": "ipython3",
   "version": "3.8.3"
  }
 },
 "nbformat": 4,
 "nbformat_minor": 4
}
